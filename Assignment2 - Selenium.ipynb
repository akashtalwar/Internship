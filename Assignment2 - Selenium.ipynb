{
 "cells": [
  {
   "cell_type": "code",
   "execution_count": 3,
   "metadata": {},
   "outputs": [],
   "source": [
    "#Import libraries \n",
    "import pandas as pd\n",
    "import selenium\n",
    "from selenium import webdriver\n",
    "from selenium.webdriver.common.keys import Keys\n",
    "from selenium.common.exceptions import NoSuchElementException\n",
    "from selenium.common.exceptions import ElementNotInteractableException"
   ]
  },
  {
   "cell_type": "markdown",
   "metadata": {},
   "source": [
    "# Question 1"
   ]
  },
  {
   "cell_type": "code",
   "execution_count": null,
   "metadata": {},
   "outputs": [],
   "source": [
    "# Q1:Python program to scrape data for “Data Analyst” Job position in “Bangalore” location. \n",
    "#You have to scrape the job-title, job-location, company_name, experience_required. \n",
    "#You have to scrape first 10 jobs data.\n",
    "\n",
    "#Lets first connect to web driver\n",
    "driver=webdriver.Chrome(r\"C:\\Users\\Akash\\Downloads\\chromedriver_win32\\chromedriver.exe\")\n",
    "\n",
    "url=\"https://www.naukri.com/\"\n",
    "driver.get(url)\n",
    "\n",
    "#Finding element for job search\n",
    "search_job=driver.find_element_by_id('qsb-keyword-sugg')\n",
    "\n",
    "#Write on search bar\n",
    "search_job.send_keys('Data Scientist')\n",
    "\n",
    "#Finding element for job location bar\n",
    "search_job=driver.find_element_by_id('qsb-location-sugg')\n",
    "search_job.send_keys('Bangalore')\n",
    "\n",
    "#Click search button using XPath\n",
    "search_btn=driver.find_element_by_xpath(\"//button[@class='btn']\")\n",
    "search_btn.click()\n",
    "\n",
    "#Extract all the job titles\n",
    "titles_tag=driver.find_elements_by_xpath(\"//a[@class='title fw500 ellipsis']\")\n",
    "job_title=[]\n",
    "for i in titles_tag:\n",
    "    job_title.append(i.text)\n",
    "\n",
    "#Extract all the company name\n",
    "titles_tag=driver.find_elements_by_xpath(\"//a[@class='subTitle ellipsis fleft']\")\n",
    "company_name=[]\n",
    "for i in titles_tag:\n",
    "    company_name.append(i.text)\n",
    "    \n",
    "#Extract all the experience\n",
    "titles_tag=driver.find_elements_by_xpath(\"//li[@class='fleft grey-text br2 placeHolderLi experience']//span\")\n",
    "experience=[]\n",
    "for i in titles_tag:\n",
    "    experience.append(i.text)\n",
    "\n",
    "#Extract all the salary\n",
    "titles_tag=driver.find_elements_by_xpath(\"//li[@class='fleft grey-text br2 placeHolderLi salary']//span\")\n",
    "salary=[]\n",
    "for i in titles_tag:\n",
    "    salary.append(i.text)\n",
    "\n",
    "#Extract all the location\n",
    "titles_tag=driver.find_elements_by_xpath(\"//li[@class='fleft grey-text br2 placeHolderLi location']//span\")\n",
    "location=[]\n",
    "for i in titles_tag:\n",
    "    location.append(i.text)"
   ]
  },
  {
   "cell_type": "code",
   "execution_count": 11,
   "metadata": {},
   "outputs": [
    {
     "data": {
      "text/html": [
       "<div>\n",
       "<style scoped>\n",
       "    .dataframe tbody tr th:only-of-type {\n",
       "        vertical-align: middle;\n",
       "    }\n",
       "\n",
       "    .dataframe tbody tr th {\n",
       "        vertical-align: top;\n",
       "    }\n",
       "\n",
       "    .dataframe thead th {\n",
       "        text-align: right;\n",
       "    }\n",
       "</style>\n",
       "<table border=\"1\" class=\"dataframe\">\n",
       "  <thead>\n",
       "    <tr style=\"text-align: right;\">\n",
       "      <th></th>\n",
       "      <th>Job Title</th>\n",
       "      <th>Location</th>\n",
       "      <th>Company Name</th>\n",
       "      <th>Experience required</th>\n",
       "      <th>Salary</th>\n",
       "    </tr>\n",
       "  </thead>\n",
       "  <tbody>\n",
       "    <tr>\n",
       "      <th>0</th>\n",
       "      <td>Data Scientist / Data Analyst -Business Analyst</td>\n",
       "      <td>Mumbai, Hyderabad/Secunderabad, Pune, Gurgaon/...</td>\n",
       "      <td>Inflexion Analytix Private Limited</td>\n",
       "      <td>0-3 Yrs</td>\n",
       "      <td>3,50,000 - 4,50,000 PA.</td>\n",
       "    </tr>\n",
       "    <tr>\n",
       "      <th>1</th>\n",
       "      <td>Senior Data Scientist</td>\n",
       "      <td>Mumbai, Gurgaon/Gurugram, Bangalore/Bengaluru</td>\n",
       "      <td>Fractal Analytics</td>\n",
       "      <td>4-8 Yrs</td>\n",
       "      <td>Not disclosed</td>\n",
       "    </tr>\n",
       "    <tr>\n",
       "      <th>2</th>\n",
       "      <td>Senior Data Scientist</td>\n",
       "      <td>Gurgaon/Gurugram, Bangalore/Bengaluru, Mumbai ...</td>\n",
       "      <td>Fractal Analytics</td>\n",
       "      <td>5-10 Yrs</td>\n",
       "      <td>Not disclosed</td>\n",
       "    </tr>\n",
       "    <tr>\n",
       "      <th>3</th>\n",
       "      <td>Senior / Lead Data Scientist</td>\n",
       "      <td>Pune, Chennai, Bangalore/Bengaluru</td>\n",
       "      <td>TVS CREDIT SERVICES LIMITED</td>\n",
       "      <td>3-8 Yrs</td>\n",
       "      <td>Not disclosed</td>\n",
       "    </tr>\n",
       "    <tr>\n",
       "      <th>4</th>\n",
       "      <td>SR. DATA Scientist (India - Ideally PUNE)</td>\n",
       "      <td>Hyderabad/Secunderabad, Pune, Chennai, Bangalo...</td>\n",
       "      <td>Out of the blue</td>\n",
       "      <td>5-8 Yrs</td>\n",
       "      <td>Not disclosed</td>\n",
       "    </tr>\n",
       "    <tr>\n",
       "      <th>5</th>\n",
       "      <td>Data Scientist, Machine Learning</td>\n",
       "      <td>Gurgaon/Gurugram, Bangalore/Bengaluru, Mumbai ...</td>\n",
       "      <td>Fractal Analytics</td>\n",
       "      <td>3-6 Yrs</td>\n",
       "      <td>Not disclosed</td>\n",
       "    </tr>\n",
       "    <tr>\n",
       "      <th>6</th>\n",
       "      <td>Data Scientist</td>\n",
       "      <td>Hyderabad/Secunderabad, Pune, Bangalore/Bengaluru</td>\n",
       "      <td>Persistent Systems Limited.</td>\n",
       "      <td>8-13 Yrs</td>\n",
       "      <td>Not disclosed</td>\n",
       "    </tr>\n",
       "    <tr>\n",
       "      <th>7</th>\n",
       "      <td>VP - Sr. Data Scientist For Morgan Stanley, Ba...</td>\n",
       "      <td>Bangalore/Bengaluru</td>\n",
       "      <td>Morgan Stanley Advantage Services</td>\n",
       "      <td>8-13 Yrs</td>\n",
       "      <td>25,00,000 - 40,00,000 PA.</td>\n",
       "    </tr>\n",
       "    <tr>\n",
       "      <th>8</th>\n",
       "      <td>data scientist</td>\n",
       "      <td>Bangalore/Bengaluru</td>\n",
       "      <td>Global Talent Pool</td>\n",
       "      <td>0-2 Yrs</td>\n",
       "      <td>Not disclosed</td>\n",
       "    </tr>\n",
       "    <tr>\n",
       "      <th>9</th>\n",
       "      <td>Data analytics / Data scientist intern (work f...</td>\n",
       "      <td>Kolkata, Bangalore/Bengaluru, Delhi / NCR</td>\n",
       "      <td>TalkValley LLC</td>\n",
       "      <td>0-5 Yrs</td>\n",
       "      <td>2,00,000 - 3,00,000 PA.</td>\n",
       "    </tr>\n",
       "  </tbody>\n",
       "</table>\n",
       "</div>"
      ],
      "text/plain": [
       "                                           Job Title  \\\n",
       "0    Data Scientist / Data Analyst -Business Analyst   \n",
       "1                              Senior Data Scientist   \n",
       "2                              Senior Data Scientist   \n",
       "3                       Senior / Lead Data Scientist   \n",
       "4          SR. DATA Scientist (India - Ideally PUNE)   \n",
       "5                   Data Scientist, Machine Learning   \n",
       "6                                     Data Scientist   \n",
       "7  VP - Sr. Data Scientist For Morgan Stanley, Ba...   \n",
       "8                                     data scientist   \n",
       "9  Data analytics / Data scientist intern (work f...   \n",
       "\n",
       "                                            Location  \\\n",
       "0  Mumbai, Hyderabad/Secunderabad, Pune, Gurgaon/...   \n",
       "1      Mumbai, Gurgaon/Gurugram, Bangalore/Bengaluru   \n",
       "2  Gurgaon/Gurugram, Bangalore/Bengaluru, Mumbai ...   \n",
       "3                 Pune, Chennai, Bangalore/Bengaluru   \n",
       "4  Hyderabad/Secunderabad, Pune, Chennai, Bangalo...   \n",
       "5  Gurgaon/Gurugram, Bangalore/Bengaluru, Mumbai ...   \n",
       "6  Hyderabad/Secunderabad, Pune, Bangalore/Bengaluru   \n",
       "7                                Bangalore/Bengaluru   \n",
       "8                                Bangalore/Bengaluru   \n",
       "9          Kolkata, Bangalore/Bengaluru, Delhi / NCR   \n",
       "\n",
       "                         Company Name Experience required  \\\n",
       "0  Inflexion Analytix Private Limited             0-3 Yrs   \n",
       "1                   Fractal Analytics             4-8 Yrs   \n",
       "2                   Fractal Analytics            5-10 Yrs   \n",
       "3         TVS CREDIT SERVICES LIMITED             3-8 Yrs   \n",
       "4                     Out of the blue             5-8 Yrs   \n",
       "5                   Fractal Analytics             3-6 Yrs   \n",
       "6         Persistent Systems Limited.            8-13 Yrs   \n",
       "7   Morgan Stanley Advantage Services            8-13 Yrs   \n",
       "8                  Global Talent Pool             0-2 Yrs   \n",
       "9                      TalkValley LLC             0-5 Yrs   \n",
       "\n",
       "                      Salary  \n",
       "0    3,50,000 - 4,50,000 PA.  \n",
       "1              Not disclosed  \n",
       "2              Not disclosed  \n",
       "3              Not disclosed  \n",
       "4              Not disclosed  \n",
       "5              Not disclosed  \n",
       "6              Not disclosed  \n",
       "7  25,00,000 - 40,00,000 PA.  \n",
       "8              Not disclosed  \n",
       "9    2,00,000 - 3,00,000 PA.  "
      ]
     },
     "execution_count": 11,
     "metadata": {},
     "output_type": "execute_result"
    }
   ],
   "source": [
    "#Dataframe\n",
    "job=pd.DataFrame()\n",
    "job[\"Job Title\"]=job_title\n",
    "job[\"Location\"]=location\n",
    "job[\"Company Name\"]=company_name\n",
    "job[\"Experience required\"]=experience\n",
    "job[\"Salary\"]=salary\n",
    "\n",
    "job.loc[0:9,:]"
   ]
  },
  {
   "cell_type": "markdown",
   "metadata": {},
   "source": [
    "# Question-2"
   ]
  },
  {
   "cell_type": "code",
   "execution_count": 3,
   "metadata": {},
   "outputs": [],
   "source": [
    "#Q2: Python program to scrape data for “Data Scientist” Job position in “Bangalore” location. \n",
    "#You have to scrape the job-title, job-location, company_name, full job-description.\n",
    "#You have to scrape first 10 jobs data.\n",
    "\n",
    "#Lets first connect to web driver\n",
    "driver=webdriver.Chrome(r\"C:\\Users\\Akash\\Downloads\\chromedriver_win32\\chromedriver.exe\")\n",
    "\n",
    "url=\"https://www.naukri.com/\"\n",
    "driver.get(url)"
   ]
  },
  {
   "cell_type": "code",
   "execution_count": 4,
   "metadata": {},
   "outputs": [],
   "source": [
    "#Finding element for job search\n",
    "search_job=driver.find_element_by_id('qsb-keyword-sugg')\n",
    "\n",
    "#Write on search bar\n",
    "search_job.send_keys('Data Scientist')\n",
    "\n",
    "#Finding element for job location bar\n",
    "search_job=driver.find_element_by_id('qsb-location-sugg')\n",
    "search_job.send_keys('Bangalore')\n",
    "\n",
    "#Click search button using XPath\n",
    "search_btn=driver.find_element_by_xpath(\"//button[@class='btn']\")\n",
    "search_btn.click()"
   ]
  },
  {
   "cell_type": "code",
   "execution_count": 6,
   "metadata": {},
   "outputs": [
    {
     "name": "stdout",
     "output_type": "stream",
     "text": [
      "['Data Scientist / Data Analyst -Business Analyst', 'Senior Data Scientist', 'VP - Sr. Data Scientist For Morgan Stanley, Bangalore', 'Lead Data Scientist', 'Lead Data Scientist', 'Lead Data Scientist', 'data scientist', 'Data analytics / Data scientist intern (work from Home)', 'Data Scientist - IBM Garage', 'Digital Enterprise Architect (Data Scientist)', 'Data Scientist', 'Data Scientist', 'Data Scientist', 'Senior Data Scientist', 'Senior Data Scientist', 'Senior Data Scientist', 'Senior Data Scientist with Python', 'Senior Data Scientist', 'Sr Data Scientist', 'Senior Data Scientist (Marketplace)']\n"
     ]
    },
    {
     "data": {
      "text/plain": [
       "20"
      ]
     },
     "execution_count": 6,
     "metadata": {},
     "output_type": "execute_result"
    }
   ],
   "source": [
    "#Extract all the job titles\n",
    "titles_tag=driver.find_elements_by_xpath(\"//a[@class='title fw500 ellipsis']\")\n",
    "job_title=[]\n",
    "for i in titles_tag:\n",
    "    job_title.append(i.text)\n",
    "print(job_title)\n",
    "len(job_title)"
   ]
  },
  {
   "cell_type": "code",
   "execution_count": 8,
   "metadata": {},
   "outputs": [
    {
     "name": "stdout",
     "output_type": "stream",
     "text": [
      "['Mumbai, Hyderabad/Secunderabad, Pune, Gurgaon/Gurugram, Chennai, Bangalore/Bengaluru', 'Bangalore/Bengaluru', 'Bangalore/Bengaluru', 'Bangalore/Bengaluru', 'Gurgaon/Gurugram, Bangalore/Bengaluru, Mumbai (All Areas)', 'Bangalore/Bengaluru', 'Bangalore/Bengaluru', 'Kolkata, Bangalore/Bengaluru, Delhi / NCR', 'Bengaluru/Bangalore', 'Bangalore/Bengaluru', 'Bangalore/Bengaluru', 'Bangalore/Bengaluru', 'Noida, Bangalore/Bengaluru', 'Hyderabad/Secunderabad, Bangalore/Bengaluru, Delhi / NCR', 'Bangalore/Bengaluru', 'Bangalore/Bengaluru', 'Kolkata, Chandigarh, Hyderabad/Secunderabad, Pune, Ahmedabad, Chennai, Bangalore/Bengaluru, Delhi / NCR, Mumbai (All Areas)', 'Bangalore/Bengaluru', 'Bangalore/Bengaluru, Mumbai (All Areas)', 'Bangalore/Bengaluru']\n"
     ]
    },
    {
     "data": {
      "text/plain": [
       "20"
      ]
     },
     "execution_count": 8,
     "metadata": {},
     "output_type": "execute_result"
    }
   ],
   "source": [
    "#Extract all the location\n",
    "titles_tag=driver.find_elements_by_xpath(\"//li[@class='fleft grey-text br2 placeHolderLi location']//span\")\n",
    "location=[]\n",
    "for i in titles_tag:\n",
    "    location.append(i.text)\n",
    "print(location)\n",
    "len(location)"
   ]
  },
  {
   "cell_type": "code",
   "execution_count": 9,
   "metadata": {},
   "outputs": [
    {
     "name": "stdout",
     "output_type": "stream",
     "text": [
      "['Inflexion Analytix Private Limited', 'RedBus', 'Morgan Stanley Advantage Services', 'bd', 'Fractal Analytics', 'FICO', 'Global Talent Pool', 'TalkValley LLC', 'IBM India Pvt. Limited', 'Mphasis Limited', 'IBM India Pvt. Limited', 'IBM India Pvt. Limited', 'Oracle India Pvt. Ltd.', 'Infocrunch Campaigns Pvt Ltd', 'Walmart Labs', 'ExecBoardinAsia', 'Next Bee Corporation', 'Perform Group', 'intelligent industrial internet systems pvt ltd.', 'Walmart Labs']\n"
     ]
    },
    {
     "data": {
      "text/plain": [
       "20"
      ]
     },
     "execution_count": 9,
     "metadata": {},
     "output_type": "execute_result"
    }
   ],
   "source": [
    "#Extract all the company name\n",
    "titles_tag=driver.find_elements_by_xpath(\"//a[@class='subTitle ellipsis fleft']\")\n",
    "company_name=[]\n",
    "for i in titles_tag:\n",
    "    company_name.append(i.text)\n",
    "print(company_name)\n",
    "len(company_name)"
   ]
  },
  {
   "cell_type": "code",
   "execution_count": 15,
   "metadata": {},
   "outputs": [
    {
     "name": "stdout",
     "output_type": "stream",
     "text": [
      "[\"Job Role : Data Scientist/Data Analyst /Business Analyst\\n\\nLocation : Chennai/Bangalore/Hyderabad/Pune/Mumbai/Delhi\\n\\nGreetings from CAIA - Center for Artificial Intelligence & Advanced Analytics\\n43% of companies experienced a high deficit of skilled resources with Advanced Analytical skills and AI implementing capabilities in year 2020. CAIA gives you a great opportunity to enter the world of future technologies and Innovations- Data Science, Analytics, AI, Data Visualization and Cloud Computing.\\n\\nWhile 2020 was a year like no other, we are living in an interesting times where data is reshaping the world, and businesses are rapidly adopting technology to gain an edge over others. Hence, there's a substantial increase in demand for technology professionals who can implement systems in data science, machine learning and AI in Tier 1 and Tier 2 organization's working closely with us.\\n\\nTo help you build a sustainable career we would like you to utilize data, software and Analytical approaches in Data Science and AI to up skill and get recruited into an organization appreciating your skilling journey.\\nApplications invited from all Freshers and experienced candidates (0-3 yrs) aspiring to make a career in Artificial Intelligence and Advanced Analytics and Data Science.\\nIf you wish to make a shift in your career or undergo a career transition, upskilling is essential since it allows you to learn more about the domain and acquire the required skills.\\n\\nCall to schedule interview Monday -Saturday from 10:00 am to 7Pm\\n\\nAlexandria A - +91 76958 88879\\nManigandan -+91 93444 57360\\n\\nEmail :\\n\\nalexandriaa@centerforaia.com\\nmanigandan@centerforaia.com\\n\\nWhat is needed from you?\\n\\nFreshers who wish to start their career in Analytics and AI and professionals who wish to\\nupskill or change their domain to analytics and emerging technologies are free to apply.\\nAn Educational background in any one of the following- BE/B.Tech, ME/M Tech, MSc, BSc/MSc Math's and Statistics, B Com, BCA, BSc CS, BSC IT, MSC IT, MCA\\nSkills relating to Mathematics/Statistics.\\nNatural passion towards numbers, business, coding, Analytics and Artificial Intelligence, Machine Learning, visualization\\nGood verbal and written communication skills\\nAbility to understand domains in businesses across various sectors\\n\\n\\nSelection procedure includes\\n\\nAptitude Test & Communication Exam - Online / Offline\\nSQL/Python test - Online / Offline\\n\\nCandidates who clears the above will have one-one discussion with our Career Guidance Manager for further evaluation and processing of your Resume.\\n\\n\\nAll the Shortlisted candidates will be eligible to continue the corporate training with CAIA\\nWhat you can expect from us?\\n\\nYou will get trained on the following modules for a period of 12-14 weeks:\\n\\nSQL & PLSQL\\nData Wrangling using Python\\nData Visualization Using Power-BI\\nStatistics for Machine Learning\\nArtificial Intelligence, Data Interpretation\\nSupervised & Unsupervised Learning,\\nNLP & Deep Learning\\nCloud Data Lake\\nBusiness intelligence & Data Visualization\\nSimulation Projects\\nExpected Outcome?\\n\\nAt the end of the Training you are expected to be well versed with the following:\\n\\nAnalysis of large and complex data sets from multiple sources\\nDevelopment and evaluation of data analytics models, algorithms and solutions\\nUnderstanding/implementation of ML algorithms, performance tuning and reporting\\nImplementation of algorithms to mine targeted data and the ability to convert data in to a business story\\nTranslation of business requirements into technical requirements; Data extraction, preparation and transformation\\nIdentification, development and implementation of statistical techniques and algorithms that address business challenges and adds value to the organization\\nRequirement Analysis and communication of findings in the form of a meaningful story with the stakeholders\\nFinding analytical solutions to abstract business issues.\\nApply objective analysis of facts before coming to a conclusion\\n\\nAbout CAIA - Inflexion Analytix Private Limited\\n\\nCenter for Artificial Intelligence and Advanced Analytics (Center for AIA) is the brainchild of experienced and visionary alumni of IIT Madras and Bombay.\\nDigital leaders - 5F World and Systech Solutions have joined hands to create a venture for architecting the future of society, workforce, governments and businesses. 5F World specializes in designing solutions around digital platforms and Systech Solutions has an expertise in architecting Artificial Intelligence and Advance Analytics solutions for Fortune 500 companies.\\nOur Website : http://www.centerforaia.com/\\n\\nhttps://inflexion-analytix-private-limited.business.site/?m=true\\n\\nCenter for Artificial Intelligence & Advanced Analytics (CAIA) focuses on the following:\\n\\n1. Global Research on emerging trends, technologies and applications in AI and Advanced Analytics\\n2. Advanced Training programs for readying the future ready workforce\\n3. Solutions to herald the futuristic lifestyle and workspaces in the field of AI and Data Science.\"]\n"
     ]
    },
    {
     "data": {
      "text/plain": [
       "1"
      ]
     },
     "execution_count": 15,
     "metadata": {},
     "output_type": "execute_result"
    }
   ],
   "source": [
    "#Extract 1st Job description\n",
    "driver=webdriver.Chrome(r\"C:\\Users\\Akash\\Downloads\\chromedriver_win32\\chromedriver.exe\")\n",
    "url=\"https://www.naukri.com/job-listings-data-scientist-data-analyst-business-analyst-inflexion-analytix-private-limited-mumbai-hyderabad-secunderabad-pune-gurgaon-gurugram-chennai-bangalore-bengaluru-0-to-3-years-100521000368?src=jobsearchDesk&sid=16236737383639996&xp=1&px=1\"\n",
    "driver.get(url)\n",
    "titles_tag=driver.find_elements_by_xpath(\"//div[@class='dang-inner-html']\")\n",
    "jd=[]\n",
    "for i in titles_tag:\n",
    "    jd.append(i.text)\n",
    "print(jd)\n",
    "len(jd)"
   ]
  },
  {
   "cell_type": "code",
   "execution_count": 16,
   "metadata": {},
   "outputs": [
    {
     "name": "stdout",
     "output_type": "stream",
     "text": [
      "[\"Job Role : Data Scientist/Data Analyst /Business Analyst\\n\\nLocation : Chennai/Bangalore/Hyderabad/Pune/Mumbai/Delhi\\n\\nGreetings from CAIA - Center for Artificial Intelligence & Advanced Analytics\\n43% of companies experienced a high deficit of skilled resources with Advanced Analytical skills and AI implementing capabilities in year 2020. CAIA gives you a great opportunity to enter the world of future technologies and Innovations- Data Science, Analytics, AI, Data Visualization and Cloud Computing.\\n\\nWhile 2020 was a year like no other, we are living in an interesting times where data is reshaping the world, and businesses are rapidly adopting technology to gain an edge over others. Hence, there's a substantial increase in demand for technology professionals who can implement systems in data science, machine learning and AI in Tier 1 and Tier 2 organization's working closely with us.\\n\\nTo help you build a sustainable career we would like you to utilize data, software and Analytical approaches in Data Science and AI to up skill and get recruited into an organization appreciating your skilling journey.\\nApplications invited from all Freshers and experienced candidates (0-3 yrs) aspiring to make a career in Artificial Intelligence and Advanced Analytics and Data Science.\\nIf you wish to make a shift in your career or undergo a career transition, upskilling is essential since it allows you to learn more about the domain and acquire the required skills.\\n\\nCall to schedule interview Monday -Saturday from 10:00 am to 7Pm\\n\\nAlexandria A - +91 76958 88879\\nManigandan -+91 93444 57360\\n\\nEmail :\\n\\nalexandriaa@centerforaia.com\\nmanigandan@centerforaia.com\\n\\nWhat is needed from you?\\n\\nFreshers who wish to start their career in Analytics and AI and professionals who wish to\\nupskill or change their domain to analytics and emerging technologies are free to apply.\\nAn Educational background in any one of the following- BE/B.Tech, ME/M Tech, MSc, BSc/MSc Math's and Statistics, B Com, BCA, BSc CS, BSC IT, MSC IT, MCA\\nSkills relating to Mathematics/Statistics.\\nNatural passion towards numbers, business, coding, Analytics and Artificial Intelligence, Machine Learning, visualization\\nGood verbal and written communication skills\\nAbility to understand domains in businesses across various sectors\\n\\n\\nSelection procedure includes\\n\\nAptitude Test & Communication Exam - Online / Offline\\nSQL/Python test - Online / Offline\\n\\nCandidates who clears the above will have one-one discussion with our Career Guidance Manager for further evaluation and processing of your Resume.\\n\\n\\nAll the Shortlisted candidates will be eligible to continue the corporate training with CAIA\\nWhat you can expect from us?\\n\\nYou will get trained on the following modules for a period of 12-14 weeks:\\n\\nSQL & PLSQL\\nData Wrangling using Python\\nData Visualization Using Power-BI\\nStatistics for Machine Learning\\nArtificial Intelligence, Data Interpretation\\nSupervised & Unsupervised Learning,\\nNLP & Deep Learning\\nCloud Data Lake\\nBusiness intelligence & Data Visualization\\nSimulation Projects\\nExpected Outcome?\\n\\nAt the end of the Training you are expected to be well versed with the following:\\n\\nAnalysis of large and complex data sets from multiple sources\\nDevelopment and evaluation of data analytics models, algorithms and solutions\\nUnderstanding/implementation of ML algorithms, performance tuning and reporting\\nImplementation of algorithms to mine targeted data and the ability to convert data in to a business story\\nTranslation of business requirements into technical requirements; Data extraction, preparation and transformation\\nIdentification, development and implementation of statistical techniques and algorithms that address business challenges and adds value to the organization\\nRequirement Analysis and communication of findings in the form of a meaningful story with the stakeholders\\nFinding analytical solutions to abstract business issues.\\nApply objective analysis of facts before coming to a conclusion\\n\\nAbout CAIA - Inflexion Analytix Private Limited\\n\\nCenter for Artificial Intelligence and Advanced Analytics (Center for AIA) is the brainchild of experienced and visionary alumni of IIT Madras and Bombay.\\nDigital leaders - 5F World and Systech Solutions have joined hands to create a venture for architecting the future of society, workforce, governments and businesses. 5F World specializes in designing solutions around digital platforms and Systech Solutions has an expertise in architecting Artificial Intelligence and Advance Analytics solutions for Fortune 500 companies.\\nOur Website : http://www.centerforaia.com/\\n\\nhttps://inflexion-analytix-private-limited.business.site/?m=true\\n\\nCenter for Artificial Intelligence & Advanced Analytics (CAIA) focuses on the following:\\n\\n1. Global Research on emerging trends, technologies and applications in AI and Advanced Analytics\\n2. Advanced Training programs for readying the future ready workforce\\n3. Solutions to herald the futuristic lifestyle and workspaces in the field of AI and Data Science.\", 'Job Description\\nJob Role: Senior Data Scientist\\n\\n\\nReporting To: Head of Data Science\\n\\n\\nTotal Exp: 5 - 7 years\\n\\n\\nEducational Qualification: Post-Graduation in Statistics/Computer Science or related field from Premier Institute\\n\\n\\nJob Location: Bangalore\\n\\n\\nPURPOSE OF THE POSITION\\nTo be an independent data scientist and senior resource capable of doing various statistical modeling and predictive analysis for dynamic pricing, dynamic discounting, customer segmentation, and better business decision making\\n\\n\\nRoles and Responsibilities:\\nStrong statistical knowledge and hands-on experience with statistical, machine learning tools and techniques\\nDemonstrated capability to provide meaningful and actionable insights based on data analysis\\nStrong communication skills\\nSignificant experience in predictive modeling and statistical analyses\\nStrong capability of running multivariate regression models using Python/R/Java\\nAbility to conduct cluster analysis on large datasets\\nGood understanding and working experience with multiple data sources\\nHigh level of comfort with receiving, loading, cleansing, enriching & enhancing transactional data sources\\nAbility to proactively come up with solutions requiring minimal guidance\\nShould be a strong team player & able to work in the ambiguous environment with minimal guidance\\n\\nDesired Candidate Profile:\\n\\nWork on advanced data analysis to provide insights to different types of users\\nIdentify behavioral and attribute-based clusters using clustering techniques\\nConduct predictive analysis to create various what-if scenarios to drive organizational planning and marketing strategy\\nDevelop & apply algorithms operating on data to solve real-life business problems.\\nBe the go-to” person for all statistical modeling/analysis in the organization\\n5+ years of experience in statistical modeling/customer segmentation/predictive analysis in a quant-heavy organization\\nCandidates with strong business sense, problem-solving capabilities, and presentation skills will be preferred']\n"
     ]
    },
    {
     "data": {
      "text/plain": [
       "2"
      ]
     },
     "execution_count": 16,
     "metadata": {},
     "output_type": "execute_result"
    }
   ],
   "source": [
    "#Extract 2nd Job description\n",
    "driver=webdriver.Chrome(r\"C:\\Users\\Akash\\Downloads\\chromedriver_win32\\chromedriver.exe\")\n",
    "url=\"https://www.naukri.com/job-listings-senior-data-scientist-redbus-in-ibibo-group-private-limited-bangalore-bengaluru-5-to-8-years-090621001584?src=jobsearchDesk&sid=16236737383639996&xp=2&px=1\"\n",
    "driver.get(url)\n",
    "titles_tag=driver.find_elements_by_xpath(\"//div[@class='nConfig_textblock ']\")\n",
    "\n",
    "for i in titles_tag:\n",
    "    jd.append(i.text)\n",
    "print(jd)\n",
    "len(jd)"
   ]
  },
  {
   "cell_type": "code",
   "execution_count": 17,
   "metadata": {},
   "outputs": [
    {
     "name": "stdout",
     "output_type": "stream",
     "text": [
      "[\"Job Role : Data Scientist/Data Analyst /Business Analyst\\n\\nLocation : Chennai/Bangalore/Hyderabad/Pune/Mumbai/Delhi\\n\\nGreetings from CAIA - Center for Artificial Intelligence & Advanced Analytics\\n43% of companies experienced a high deficit of skilled resources with Advanced Analytical skills and AI implementing capabilities in year 2020. CAIA gives you a great opportunity to enter the world of future technologies and Innovations- Data Science, Analytics, AI, Data Visualization and Cloud Computing.\\n\\nWhile 2020 was a year like no other, we are living in an interesting times where data is reshaping the world, and businesses are rapidly adopting technology to gain an edge over others. Hence, there's a substantial increase in demand for technology professionals who can implement systems in data science, machine learning and AI in Tier 1 and Tier 2 organization's working closely with us.\\n\\nTo help you build a sustainable career we would like you to utilize data, software and Analytical approaches in Data Science and AI to up skill and get recruited into an organization appreciating your skilling journey.\\nApplications invited from all Freshers and experienced candidates (0-3 yrs) aspiring to make a career in Artificial Intelligence and Advanced Analytics and Data Science.\\nIf you wish to make a shift in your career or undergo a career transition, upskilling is essential since it allows you to learn more about the domain and acquire the required skills.\\n\\nCall to schedule interview Monday -Saturday from 10:00 am to 7Pm\\n\\nAlexandria A - +91 76958 88879\\nManigandan -+91 93444 57360\\n\\nEmail :\\n\\nalexandriaa@centerforaia.com\\nmanigandan@centerforaia.com\\n\\nWhat is needed from you?\\n\\nFreshers who wish to start their career in Analytics and AI and professionals who wish to\\nupskill or change their domain to analytics and emerging technologies are free to apply.\\nAn Educational background in any one of the following- BE/B.Tech, ME/M Tech, MSc, BSc/MSc Math's and Statistics, B Com, BCA, BSc CS, BSC IT, MSC IT, MCA\\nSkills relating to Mathematics/Statistics.\\nNatural passion towards numbers, business, coding, Analytics and Artificial Intelligence, Machine Learning, visualization\\nGood verbal and written communication skills\\nAbility to understand domains in businesses across various sectors\\n\\n\\nSelection procedure includes\\n\\nAptitude Test & Communication Exam - Online / Offline\\nSQL/Python test - Online / Offline\\n\\nCandidates who clears the above will have one-one discussion with our Career Guidance Manager for further evaluation and processing of your Resume.\\n\\n\\nAll the Shortlisted candidates will be eligible to continue the corporate training with CAIA\\nWhat you can expect from us?\\n\\nYou will get trained on the following modules for a period of 12-14 weeks:\\n\\nSQL & PLSQL\\nData Wrangling using Python\\nData Visualization Using Power-BI\\nStatistics for Machine Learning\\nArtificial Intelligence, Data Interpretation\\nSupervised & Unsupervised Learning,\\nNLP & Deep Learning\\nCloud Data Lake\\nBusiness intelligence & Data Visualization\\nSimulation Projects\\nExpected Outcome?\\n\\nAt the end of the Training you are expected to be well versed with the following:\\n\\nAnalysis of large and complex data sets from multiple sources\\nDevelopment and evaluation of data analytics models, algorithms and solutions\\nUnderstanding/implementation of ML algorithms, performance tuning and reporting\\nImplementation of algorithms to mine targeted data and the ability to convert data in to a business story\\nTranslation of business requirements into technical requirements; Data extraction, preparation and transformation\\nIdentification, development and implementation of statistical techniques and algorithms that address business challenges and adds value to the organization\\nRequirement Analysis and communication of findings in the form of a meaningful story with the stakeholders\\nFinding analytical solutions to abstract business issues.\\nApply objective analysis of facts before coming to a conclusion\\n\\nAbout CAIA - Inflexion Analytix Private Limited\\n\\nCenter for Artificial Intelligence and Advanced Analytics (Center for AIA) is the brainchild of experienced and visionary alumni of IIT Madras and Bombay.\\nDigital leaders - 5F World and Systech Solutions have joined hands to create a venture for architecting the future of society, workforce, governments and businesses. 5F World specializes in designing solutions around digital platforms and Systech Solutions has an expertise in architecting Artificial Intelligence and Advance Analytics solutions for Fortune 500 companies.\\nOur Website : http://www.centerforaia.com/\\n\\nhttps://inflexion-analytix-private-limited.business.site/?m=true\\n\\nCenter for Artificial Intelligence & Advanced Analytics (CAIA) focuses on the following:\\n\\n1. Global Research on emerging trends, technologies and applications in AI and Advanced Analytics\\n2. Advanced Training programs for readying the future ready workforce\\n3. Solutions to herald the futuristic lifestyle and workspaces in the field of AI and Data Science.\", 'Job Description\\nJob Role: Senior Data Scientist\\n\\n\\nReporting To: Head of Data Science\\n\\n\\nTotal Exp: 5 - 7 years\\n\\n\\nEducational Qualification: Post-Graduation in Statistics/Computer Science or related field from Premier Institute\\n\\n\\nJob Location: Bangalore\\n\\n\\nPURPOSE OF THE POSITION\\nTo be an independent data scientist and senior resource capable of doing various statistical modeling and predictive analysis for dynamic pricing, dynamic discounting, customer segmentation, and better business decision making\\n\\n\\nRoles and Responsibilities:\\nStrong statistical knowledge and hands-on experience with statistical, machine learning tools and techniques\\nDemonstrated capability to provide meaningful and actionable insights based on data analysis\\nStrong communication skills\\nSignificant experience in predictive modeling and statistical analyses\\nStrong capability of running multivariate regression models using Python/R/Java\\nAbility to conduct cluster analysis on large datasets\\nGood understanding and working experience with multiple data sources\\nHigh level of comfort with receiving, loading, cleansing, enriching & enhancing transactional data sources\\nAbility to proactively come up with solutions requiring minimal guidance\\nShould be a strong team player & able to work in the ambiguous environment with minimal guidance\\n\\nDesired Candidate Profile:\\n\\nWork on advanced data analysis to provide insights to different types of users\\nIdentify behavioral and attribute-based clusters using clustering techniques\\nConduct predictive analysis to create various what-if scenarios to drive organizational planning and marketing strategy\\nDevelop & apply algorithms operating on data to solve real-life business problems.\\nBe the go-to” person for all statistical modeling/analysis in the organization\\n5+ years of experience in statistical modeling/customer segmentation/predictive analysis in a quant-heavy organization\\nCandidates with strong business sense, problem-solving capabilities, and presentation skills will be preferred', 'About Us\\nMorgan Stanley is a leading global financial services firm providing a wide range of investment banking, securities, investment management and wealth management services. We advise, originate, trade, manage and distribute capital for governments, institutions and individuals. As a market leader, the talent and passion of our people is critical to our success. Together, we share a common set of values rooted in integrity, excellence and strong team ethic. We provide you a superior foundation for building a professional career where you can learn, achieve and grow.\\nTechnology/Role/Department at Morgan Stanley\\nTechnology is the key differentiator that ensures that we manage our global businesses and serve clients on a market leading platform that is resilient, safe, efficient, smart, fast and flexible. Technology redefines how we do business in global, complex and dynamic financial markets. We have a large number of award winning technology platforms that help to propel our Firm’s businesses to be the top in the market. Our India technology teams are based in Mumbai and Bengaluru. We have built strong techno-functional teams which partner with our offices globally taking global ownership of systems and products. We have a vibrant and diverse mix of technologists working on different technologies and functional domains. There is a large focus on innovation, inclusion, giving back to the community and sharing knowledge.\\nWealth Management Technology (WMIMT) is responsible for the design, development, delivery, and support of the technical platform behind the products and services used by the Business. Morgan Stanley Wealth Management (WM) is a product of the acquisition of Smith Barney from Citigroup, which was completed in June ‘13. Its core client base is individual investors, small- to medium-size businesses and institutions, and high net worth families and individuals. In the second half of ‘14, WM reached a milestone, with its business having surpassed $2 trillion in total client assets.\\nWe are seeking a Machine Learning Engineer with expertise in design and development of data and ML centric applications at scale. The right candidate would have a background in data engineering and requisite familiarity and experience working with Machine learning (ML) algorithms and Frameworks. The role is a confluence of engineering (programming), ML and data analysis. Knowledge of Data Science is a plus. This position is for the Decision products which is part of Artificial Intelligence and Knowledge Management group within Morgan Stanley Wealth Management. The team is comprised of members located in NY-United States, Mumbai-India and Bengaluru-India. The team partners with various businesses and IT groups within firm to develop analytics and ML powered solutions aimed at targeting Clients, Participants and Financial Advisors with relevant recommendations. The team accumulates data from a variety of internal and external upstream systems in order to develop statistics, models, dashboards and metrics for the Digital Platforms team.\\nThe right candidate has (Responsibilities)\\n• Create ML model training, validation and hyper-parameter search pipelines\\n• Explore new data sources and data. Select appropriate datasets and their representation methods. Perform data analysis (statistical and otherwise), to derive inferences from data\\n• Design machine learning systems, and oversee the platform on which the solutions would be deployed\\n• Ensure data integrity through – Data quality, validation, Governance and Transparency\\n• Design and Build distributed, scalable, and reliable data pipelines that ingest and process data at scale and in real-time\\n• Production deployment and Model monitoring to ensure stable performance and adherence to standards\\n• Evaluate state-of-art data-centric technologies and prototype solutions to improve our architecture and platform\\n• Understand data visualization to create meaningful dashboards for end-users\\nQualifications - External\\nPrimary skills\\n• Experienced professional with 8-15 years of experience developing and implementing ML models in Big data ecosystem i.e. Hadoop, Spark, Kafka, HBase, Hive / Impala, Cassandra, MongoDB or any other similar distributed computing technology\\n• Proficiency with Scala / Python and basic libraries for machine learning such as scikit-learn, pandas, deep-learning\\n• Proficiency in data analysis using complex and optimized SQL and / or above mentioned technologies\\n• Understanding of data structures, data modeling and software architecture\\n• Experience in architecture, design and implementation of data intensive applications for practical use-cases\\n• Expertise in visualizing large datasets in an efficient manner\\n• Ability to work in fast paced and dynamic environment\\n• Good written and verbal communication skills\\nGood to have skills\\n• In-depth understanding of Machine Learning and Statistics, in addition to above\\n• Experience in domains – Financial Risk and Log Analytics\\n• Worked on large scale Anomaly Detection use cases\\n• Practical knowledge of Natural Language Processing (NLP) and/or Neural network implementation\\n• Tableau for data visualization\\n• Experience working in an Agile environment\\n\\nIf you are interested, please respond with your updated resume along with below mentioned details.\\n\\nCTC:\\nExp:\\nNotice:\\nHave you earlier worked with Morgan Stanley:']\n"
     ]
    },
    {
     "data": {
      "text/plain": [
       "3"
      ]
     },
     "execution_count": 17,
     "metadata": {},
     "output_type": "execute_result"
    }
   ],
   "source": [
    "#Extract 3rd Job description\n",
    "driver=webdriver.Chrome(r\"C:\\Users\\Akash\\Downloads\\chromedriver_win32\\chromedriver.exe\")\n",
    "url=\"https://www.naukri.com/job-listings-vp-sr-data-scientist-for-morgan-stanley-bangalore-morgan-stanley-advantage-services-pvt-ltd-bangalore-bengaluru-8-to-13-years-010621002131?src=jobsearchDesk&sid=16236737383639996&xp=3&px=1\"\n",
    "driver.get(url)\n",
    "titles_tag=driver.find_elements_by_xpath(\"//div[@class='dang-inner-html']\")\n",
    "\n",
    "for i in titles_tag:\n",
    "    jd.append(i.text)\n",
    "print(jd)\n",
    "len(jd)"
   ]
  },
  {
   "cell_type": "code",
   "execution_count": 18,
   "metadata": {},
   "outputs": [
    {
     "name": "stdout",
     "output_type": "stream",
     "text": [
      "[\"Job Role : Data Scientist/Data Analyst /Business Analyst\\n\\nLocation : Chennai/Bangalore/Hyderabad/Pune/Mumbai/Delhi\\n\\nGreetings from CAIA - Center for Artificial Intelligence & Advanced Analytics\\n43% of companies experienced a high deficit of skilled resources with Advanced Analytical skills and AI implementing capabilities in year 2020. CAIA gives you a great opportunity to enter the world of future technologies and Innovations- Data Science, Analytics, AI, Data Visualization and Cloud Computing.\\n\\nWhile 2020 was a year like no other, we are living in an interesting times where data is reshaping the world, and businesses are rapidly adopting technology to gain an edge over others. Hence, there's a substantial increase in demand for technology professionals who can implement systems in data science, machine learning and AI in Tier 1 and Tier 2 organization's working closely with us.\\n\\nTo help you build a sustainable career we would like you to utilize data, software and Analytical approaches in Data Science and AI to up skill and get recruited into an organization appreciating your skilling journey.\\nApplications invited from all Freshers and experienced candidates (0-3 yrs) aspiring to make a career in Artificial Intelligence and Advanced Analytics and Data Science.\\nIf you wish to make a shift in your career or undergo a career transition, upskilling is essential since it allows you to learn more about the domain and acquire the required skills.\\n\\nCall to schedule interview Monday -Saturday from 10:00 am to 7Pm\\n\\nAlexandria A - +91 76958 88879\\nManigandan -+91 93444 57360\\n\\nEmail :\\n\\nalexandriaa@centerforaia.com\\nmanigandan@centerforaia.com\\n\\nWhat is needed from you?\\n\\nFreshers who wish to start their career in Analytics and AI and professionals who wish to\\nupskill or change their domain to analytics and emerging technologies are free to apply.\\nAn Educational background in any one of the following- BE/B.Tech, ME/M Tech, MSc, BSc/MSc Math's and Statistics, B Com, BCA, BSc CS, BSC IT, MSC IT, MCA\\nSkills relating to Mathematics/Statistics.\\nNatural passion towards numbers, business, coding, Analytics and Artificial Intelligence, Machine Learning, visualization\\nGood verbal and written communication skills\\nAbility to understand domains in businesses across various sectors\\n\\n\\nSelection procedure includes\\n\\nAptitude Test & Communication Exam - Online / Offline\\nSQL/Python test - Online / Offline\\n\\nCandidates who clears the above will have one-one discussion with our Career Guidance Manager for further evaluation and processing of your Resume.\\n\\n\\nAll the Shortlisted candidates will be eligible to continue the corporate training with CAIA\\nWhat you can expect from us?\\n\\nYou will get trained on the following modules for a period of 12-14 weeks:\\n\\nSQL & PLSQL\\nData Wrangling using Python\\nData Visualization Using Power-BI\\nStatistics for Machine Learning\\nArtificial Intelligence, Data Interpretation\\nSupervised & Unsupervised Learning,\\nNLP & Deep Learning\\nCloud Data Lake\\nBusiness intelligence & Data Visualization\\nSimulation Projects\\nExpected Outcome?\\n\\nAt the end of the Training you are expected to be well versed with the following:\\n\\nAnalysis of large and complex data sets from multiple sources\\nDevelopment and evaluation of data analytics models, algorithms and solutions\\nUnderstanding/implementation of ML algorithms, performance tuning and reporting\\nImplementation of algorithms to mine targeted data and the ability to convert data in to a business story\\nTranslation of business requirements into technical requirements; Data extraction, preparation and transformation\\nIdentification, development and implementation of statistical techniques and algorithms that address business challenges and adds value to the organization\\nRequirement Analysis and communication of findings in the form of a meaningful story with the stakeholders\\nFinding analytical solutions to abstract business issues.\\nApply objective analysis of facts before coming to a conclusion\\n\\nAbout CAIA - Inflexion Analytix Private Limited\\n\\nCenter for Artificial Intelligence and Advanced Analytics (Center for AIA) is the brainchild of experienced and visionary alumni of IIT Madras and Bombay.\\nDigital leaders - 5F World and Systech Solutions have joined hands to create a venture for architecting the future of society, workforce, governments and businesses. 5F World specializes in designing solutions around digital platforms and Systech Solutions has an expertise in architecting Artificial Intelligence and Advance Analytics solutions for Fortune 500 companies.\\nOur Website : http://www.centerforaia.com/\\n\\nhttps://inflexion-analytix-private-limited.business.site/?m=true\\n\\nCenter for Artificial Intelligence & Advanced Analytics (CAIA) focuses on the following:\\n\\n1. Global Research on emerging trends, technologies and applications in AI and Advanced Analytics\\n2. Advanced Training programs for readying the future ready workforce\\n3. Solutions to herald the futuristic lifestyle and workspaces in the field of AI and Data Science.\", 'Job Description\\nJob Role: Senior Data Scientist\\n\\n\\nReporting To: Head of Data Science\\n\\n\\nTotal Exp: 5 - 7 years\\n\\n\\nEducational Qualification: Post-Graduation in Statistics/Computer Science or related field from Premier Institute\\n\\n\\nJob Location: Bangalore\\n\\n\\nPURPOSE OF THE POSITION\\nTo be an independent data scientist and senior resource capable of doing various statistical modeling and predictive analysis for dynamic pricing, dynamic discounting, customer segmentation, and better business decision making\\n\\n\\nRoles and Responsibilities:\\nStrong statistical knowledge and hands-on experience with statistical, machine learning tools and techniques\\nDemonstrated capability to provide meaningful and actionable insights based on data analysis\\nStrong communication skills\\nSignificant experience in predictive modeling and statistical analyses\\nStrong capability of running multivariate regression models using Python/R/Java\\nAbility to conduct cluster analysis on large datasets\\nGood understanding and working experience with multiple data sources\\nHigh level of comfort with receiving, loading, cleansing, enriching & enhancing transactional data sources\\nAbility to proactively come up with solutions requiring minimal guidance\\nShould be a strong team player & able to work in the ambiguous environment with minimal guidance\\n\\nDesired Candidate Profile:\\n\\nWork on advanced data analysis to provide insights to different types of users\\nIdentify behavioral and attribute-based clusters using clustering techniques\\nConduct predictive analysis to create various what-if scenarios to drive organizational planning and marketing strategy\\nDevelop & apply algorithms operating on data to solve real-life business problems.\\nBe the go-to” person for all statistical modeling/analysis in the organization\\n5+ years of experience in statistical modeling/customer segmentation/predictive analysis in a quant-heavy organization\\nCandidates with strong business sense, problem-solving capabilities, and presentation skills will be preferred', 'About Us\\nMorgan Stanley is a leading global financial services firm providing a wide range of investment banking, securities, investment management and wealth management services. We advise, originate, trade, manage and distribute capital for governments, institutions and individuals. As a market leader, the talent and passion of our people is critical to our success. Together, we share a common set of values rooted in integrity, excellence and strong team ethic. We provide you a superior foundation for building a professional career where you can learn, achieve and grow.\\nTechnology/Role/Department at Morgan Stanley\\nTechnology is the key differentiator that ensures that we manage our global businesses and serve clients on a market leading platform that is resilient, safe, efficient, smart, fast and flexible. Technology redefines how we do business in global, complex and dynamic financial markets. We have a large number of award winning technology platforms that help to propel our Firm’s businesses to be the top in the market. Our India technology teams are based in Mumbai and Bengaluru. We have built strong techno-functional teams which partner with our offices globally taking global ownership of systems and products. We have a vibrant and diverse mix of technologists working on different technologies and functional domains. There is a large focus on innovation, inclusion, giving back to the community and sharing knowledge.\\nWealth Management Technology (WMIMT) is responsible for the design, development, delivery, and support of the technical platform behind the products and services used by the Business. Morgan Stanley Wealth Management (WM) is a product of the acquisition of Smith Barney from Citigroup, which was completed in June ‘13. Its core client base is individual investors, small- to medium-size businesses and institutions, and high net worth families and individuals. In the second half of ‘14, WM reached a milestone, with its business having surpassed $2 trillion in total client assets.\\nWe are seeking a Machine Learning Engineer with expertise in design and development of data and ML centric applications at scale. The right candidate would have a background in data engineering and requisite familiarity and experience working with Machine learning (ML) algorithms and Frameworks. The role is a confluence of engineering (programming), ML and data analysis. Knowledge of Data Science is a plus. This position is for the Decision products which is part of Artificial Intelligence and Knowledge Management group within Morgan Stanley Wealth Management. The team is comprised of members located in NY-United States, Mumbai-India and Bengaluru-India. The team partners with various businesses and IT groups within firm to develop analytics and ML powered solutions aimed at targeting Clients, Participants and Financial Advisors with relevant recommendations. The team accumulates data from a variety of internal and external upstream systems in order to develop statistics, models, dashboards and metrics for the Digital Platforms team.\\nThe right candidate has (Responsibilities)\\n• Create ML model training, validation and hyper-parameter search pipelines\\n• Explore new data sources and data. Select appropriate datasets and their representation methods. Perform data analysis (statistical and otherwise), to derive inferences from data\\n• Design machine learning systems, and oversee the platform on which the solutions would be deployed\\n• Ensure data integrity through – Data quality, validation, Governance and Transparency\\n• Design and Build distributed, scalable, and reliable data pipelines that ingest and process data at scale and in real-time\\n• Production deployment and Model monitoring to ensure stable performance and adherence to standards\\n• Evaluate state-of-art data-centric technologies and prototype solutions to improve our architecture and platform\\n• Understand data visualization to create meaningful dashboards for end-users\\nQualifications - External\\nPrimary skills\\n• Experienced professional with 8-15 years of experience developing and implementing ML models in Big data ecosystem i.e. Hadoop, Spark, Kafka, HBase, Hive / Impala, Cassandra, MongoDB or any other similar distributed computing technology\\n• Proficiency with Scala / Python and basic libraries for machine learning such as scikit-learn, pandas, deep-learning\\n• Proficiency in data analysis using complex and optimized SQL and / or above mentioned technologies\\n• Understanding of data structures, data modeling and software architecture\\n• Experience in architecture, design and implementation of data intensive applications for practical use-cases\\n• Expertise in visualizing large datasets in an efficient manner\\n• Ability to work in fast paced and dynamic environment\\n• Good written and verbal communication skills\\nGood to have skills\\n• In-depth understanding of Machine Learning and Statistics, in addition to above\\n• Experience in domains – Financial Risk and Log Analytics\\n• Worked on large scale Anomaly Detection use cases\\n• Practical knowledge of Natural Language Processing (NLP) and/or Neural network implementation\\n• Tableau for data visualization\\n• Experience working in an Agile environment\\n\\nIf you are interested, please respond with your updated resume along with below mentioned details.\\n\\nCTC:\\nExp:\\nNotice:\\nHave you earlier worked with Morgan Stanley:', 'BD (Becton, Dickinson and Company) Jobs - Lead Data Scientist in Bangalore, India BD (Becton, Dickinson and Company) Jobs BD (Becton, Dickinson and Company)\\nJob Description Summary\\nAs a member of the BD Advanced Analytics team, the Data Scientist role will collect, interpret, and deploy predictive analytics and machine learning models to assist our business partners in delivering advanced data analytics solutions to address key strategic business initiatives. The primary focus being the development and deployment of actionable insights that have a positive impact on BD s business operations.\\nJob Description\\nEvaluating business requirements and developing compelling user stories in collaboration with business stakeholders across various functions and regions\\nCollecting, interpreting, preparing and modelling data to provide actionable insights\\nPrototyping advanced data analytics solutions for presentation to business partners and stakeholders\\nApplying predictive analytics and machine learning methods and techniques appropriately to address business requirements\\nProvide expertise to guide business stakeholders in identifying opportunities for the use of BD s data assets for the purpose of advanced data analytics\\nWork closely with data engineering and DataOps peers to productionalize advanced data analytics use cases\\nQualifications\\nMaster s degree in STEM field or equivalent demonstrated work experience\\nExperience with Python, R, Hadoop, HIVE, SPARK, Jupyter and related advanced analytics / machine learning libraries (Scikitlearn, Tensorflow, Keras, )\\nMinimum 2 years of relevant work experience\\nAbility to translate complex solutions to a non-technical audience (storytelling visualization)\\nExpertise in machine learning, neural networks, clustering, classification, regression and other common advanced analytics methods and techniques\\nMature competency for critical thinking, problem solving, working with ambiguity, communications and collaboration\\nExperience with technologies related to data preparation, processing optimization (e.g. Azure, HQL, SPARK SQL)\\nExperience with data visualization tools (Power BI)\\nFlexibility to accommodate meetings with international stakeholders in their respective time-zone\\nIND Bangalore - Technology Campus\\nBD is a leading global medical technology company that creates medical technology, devices and laboratory equipment for a variety of needs across the healthcare continuum. At BD, we are looking for candidates who possess passion, innovative solutions and a commitment to our one mission of improving access to groundbreaking medical and biotechnology services for people near and far, delivering state-of-the-art technology and cutting-edge research in the battle to fight and cure infectious diseases. With a global reach that extends across 50 countries worldwide, our network of professionals collaborates on effective measures to deliver enhanced patient quality such as lower health care delivery costs, improved health care and safety, and expanded health care for all. Join our company and see how you can become a part of one global mission to make a difference in human health.\\nBecton, Dickinson and Company is an Equal Opportunity/Affirmative Action Employer. We do not unlawfully discriminate on the basis of race, color, religion, age, sex, creed, national origin, ancestry, citizenship status, marital or domestic or civil union status, familial status, affectional or sexual orientation, gender identity or expression, genetics, disability, military eligibility or veteran status, or any other protected status.']\n"
     ]
    },
    {
     "data": {
      "text/plain": [
       "4"
      ]
     },
     "execution_count": 18,
     "metadata": {},
     "output_type": "execute_result"
    }
   ],
   "source": [
    "#Extract 4th Job description\n",
    "driver=webdriver.Chrome(r\"C:\\Users\\Akash\\Downloads\\chromedriver_win32\\chromedriver.exe\")\n",
    "url=\"https://www.naukri.com/job-listings-lead-data-scientist-bd-bangalore-bengaluru-2-to-7-years-310521500918?src=jobsearchDesk&sid=16236737383639996&xp=4&px=1\"\n",
    "driver.get(url)\n",
    "titles_tag=driver.find_elements_by_xpath(\"//div[@class='dang-inner-html']\")\n",
    "\n",
    "for i in titles_tag:\n",
    "    jd.append(i.text)\n",
    "print(jd)\n",
    "len(jd)"
   ]
  },
  {
   "cell_type": "code",
   "execution_count": 19,
   "metadata": {},
   "outputs": [
    {
     "name": "stdout",
     "output_type": "stream",
     "text": [
      "[\"Job Role : Data Scientist/Data Analyst /Business Analyst\\n\\nLocation : Chennai/Bangalore/Hyderabad/Pune/Mumbai/Delhi\\n\\nGreetings from CAIA - Center for Artificial Intelligence & Advanced Analytics\\n43% of companies experienced a high deficit of skilled resources with Advanced Analytical skills and AI implementing capabilities in year 2020. CAIA gives you a great opportunity to enter the world of future technologies and Innovations- Data Science, Analytics, AI, Data Visualization and Cloud Computing.\\n\\nWhile 2020 was a year like no other, we are living in an interesting times where data is reshaping the world, and businesses are rapidly adopting technology to gain an edge over others. Hence, there's a substantial increase in demand for technology professionals who can implement systems in data science, machine learning and AI in Tier 1 and Tier 2 organization's working closely with us.\\n\\nTo help you build a sustainable career we would like you to utilize data, software and Analytical approaches in Data Science and AI to up skill and get recruited into an organization appreciating your skilling journey.\\nApplications invited from all Freshers and experienced candidates (0-3 yrs) aspiring to make a career in Artificial Intelligence and Advanced Analytics and Data Science.\\nIf you wish to make a shift in your career or undergo a career transition, upskilling is essential since it allows you to learn more about the domain and acquire the required skills.\\n\\nCall to schedule interview Monday -Saturday from 10:00 am to 7Pm\\n\\nAlexandria A - +91 76958 88879\\nManigandan -+91 93444 57360\\n\\nEmail :\\n\\nalexandriaa@centerforaia.com\\nmanigandan@centerforaia.com\\n\\nWhat is needed from you?\\n\\nFreshers who wish to start their career in Analytics and AI and professionals who wish to\\nupskill or change their domain to analytics and emerging technologies are free to apply.\\nAn Educational background in any one of the following- BE/B.Tech, ME/M Tech, MSc, BSc/MSc Math's and Statistics, B Com, BCA, BSc CS, BSC IT, MSC IT, MCA\\nSkills relating to Mathematics/Statistics.\\nNatural passion towards numbers, business, coding, Analytics and Artificial Intelligence, Machine Learning, visualization\\nGood verbal and written communication skills\\nAbility to understand domains in businesses across various sectors\\n\\n\\nSelection procedure includes\\n\\nAptitude Test & Communication Exam - Online / Offline\\nSQL/Python test - Online / Offline\\n\\nCandidates who clears the above will have one-one discussion with our Career Guidance Manager for further evaluation and processing of your Resume.\\n\\n\\nAll the Shortlisted candidates will be eligible to continue the corporate training with CAIA\\nWhat you can expect from us?\\n\\nYou will get trained on the following modules for a period of 12-14 weeks:\\n\\nSQL & PLSQL\\nData Wrangling using Python\\nData Visualization Using Power-BI\\nStatistics for Machine Learning\\nArtificial Intelligence, Data Interpretation\\nSupervised & Unsupervised Learning,\\nNLP & Deep Learning\\nCloud Data Lake\\nBusiness intelligence & Data Visualization\\nSimulation Projects\\nExpected Outcome?\\n\\nAt the end of the Training you are expected to be well versed with the following:\\n\\nAnalysis of large and complex data sets from multiple sources\\nDevelopment and evaluation of data analytics models, algorithms and solutions\\nUnderstanding/implementation of ML algorithms, performance tuning and reporting\\nImplementation of algorithms to mine targeted data and the ability to convert data in to a business story\\nTranslation of business requirements into technical requirements; Data extraction, preparation and transformation\\nIdentification, development and implementation of statistical techniques and algorithms that address business challenges and adds value to the organization\\nRequirement Analysis and communication of findings in the form of a meaningful story with the stakeholders\\nFinding analytical solutions to abstract business issues.\\nApply objective analysis of facts before coming to a conclusion\\n\\nAbout CAIA - Inflexion Analytix Private Limited\\n\\nCenter for Artificial Intelligence and Advanced Analytics (Center for AIA) is the brainchild of experienced and visionary alumni of IIT Madras and Bombay.\\nDigital leaders - 5F World and Systech Solutions have joined hands to create a venture for architecting the future of society, workforce, governments and businesses. 5F World specializes in designing solutions around digital platforms and Systech Solutions has an expertise in architecting Artificial Intelligence and Advance Analytics solutions for Fortune 500 companies.\\nOur Website : http://www.centerforaia.com/\\n\\nhttps://inflexion-analytix-private-limited.business.site/?m=true\\n\\nCenter for Artificial Intelligence & Advanced Analytics (CAIA) focuses on the following:\\n\\n1. Global Research on emerging trends, technologies and applications in AI and Advanced Analytics\\n2. Advanced Training programs for readying the future ready workforce\\n3. Solutions to herald the futuristic lifestyle and workspaces in the field of AI and Data Science.\", 'Job Description\\nJob Role: Senior Data Scientist\\n\\n\\nReporting To: Head of Data Science\\n\\n\\nTotal Exp: 5 - 7 years\\n\\n\\nEducational Qualification: Post-Graduation in Statistics/Computer Science or related field from Premier Institute\\n\\n\\nJob Location: Bangalore\\n\\n\\nPURPOSE OF THE POSITION\\nTo be an independent data scientist and senior resource capable of doing various statistical modeling and predictive analysis for dynamic pricing, dynamic discounting, customer segmentation, and better business decision making\\n\\n\\nRoles and Responsibilities:\\nStrong statistical knowledge and hands-on experience with statistical, machine learning tools and techniques\\nDemonstrated capability to provide meaningful and actionable insights based on data analysis\\nStrong communication skills\\nSignificant experience in predictive modeling and statistical analyses\\nStrong capability of running multivariate regression models using Python/R/Java\\nAbility to conduct cluster analysis on large datasets\\nGood understanding and working experience with multiple data sources\\nHigh level of comfort with receiving, loading, cleansing, enriching & enhancing transactional data sources\\nAbility to proactively come up with solutions requiring minimal guidance\\nShould be a strong team player & able to work in the ambiguous environment with minimal guidance\\n\\nDesired Candidate Profile:\\n\\nWork on advanced data analysis to provide insights to different types of users\\nIdentify behavioral and attribute-based clusters using clustering techniques\\nConduct predictive analysis to create various what-if scenarios to drive organizational planning and marketing strategy\\nDevelop & apply algorithms operating on data to solve real-life business problems.\\nBe the go-to” person for all statistical modeling/analysis in the organization\\n5+ years of experience in statistical modeling/customer segmentation/predictive analysis in a quant-heavy organization\\nCandidates with strong business sense, problem-solving capabilities, and presentation skills will be preferred', 'About Us\\nMorgan Stanley is a leading global financial services firm providing a wide range of investment banking, securities, investment management and wealth management services. We advise, originate, trade, manage and distribute capital for governments, institutions and individuals. As a market leader, the talent and passion of our people is critical to our success. Together, we share a common set of values rooted in integrity, excellence and strong team ethic. We provide you a superior foundation for building a professional career where you can learn, achieve and grow.\\nTechnology/Role/Department at Morgan Stanley\\nTechnology is the key differentiator that ensures that we manage our global businesses and serve clients on a market leading platform that is resilient, safe, efficient, smart, fast and flexible. Technology redefines how we do business in global, complex and dynamic financial markets. We have a large number of award winning technology platforms that help to propel our Firm’s businesses to be the top in the market. Our India technology teams are based in Mumbai and Bengaluru. We have built strong techno-functional teams which partner with our offices globally taking global ownership of systems and products. We have a vibrant and diverse mix of technologists working on different technologies and functional domains. There is a large focus on innovation, inclusion, giving back to the community and sharing knowledge.\\nWealth Management Technology (WMIMT) is responsible for the design, development, delivery, and support of the technical platform behind the products and services used by the Business. Morgan Stanley Wealth Management (WM) is a product of the acquisition of Smith Barney from Citigroup, which was completed in June ‘13. Its core client base is individual investors, small- to medium-size businesses and institutions, and high net worth families and individuals. In the second half of ‘14, WM reached a milestone, with its business having surpassed $2 trillion in total client assets.\\nWe are seeking a Machine Learning Engineer with expertise in design and development of data and ML centric applications at scale. The right candidate would have a background in data engineering and requisite familiarity and experience working with Machine learning (ML) algorithms and Frameworks. The role is a confluence of engineering (programming), ML and data analysis. Knowledge of Data Science is a plus. This position is for the Decision products which is part of Artificial Intelligence and Knowledge Management group within Morgan Stanley Wealth Management. The team is comprised of members located in NY-United States, Mumbai-India and Bengaluru-India. The team partners with various businesses and IT groups within firm to develop analytics and ML powered solutions aimed at targeting Clients, Participants and Financial Advisors with relevant recommendations. The team accumulates data from a variety of internal and external upstream systems in order to develop statistics, models, dashboards and metrics for the Digital Platforms team.\\nThe right candidate has (Responsibilities)\\n• Create ML model training, validation and hyper-parameter search pipelines\\n• Explore new data sources and data. Select appropriate datasets and their representation methods. Perform data analysis (statistical and otherwise), to derive inferences from data\\n• Design machine learning systems, and oversee the platform on which the solutions would be deployed\\n• Ensure data integrity through – Data quality, validation, Governance and Transparency\\n• Design and Build distributed, scalable, and reliable data pipelines that ingest and process data at scale and in real-time\\n• Production deployment and Model monitoring to ensure stable performance and adherence to standards\\n• Evaluate state-of-art data-centric technologies and prototype solutions to improve our architecture and platform\\n• Understand data visualization to create meaningful dashboards for end-users\\nQualifications - External\\nPrimary skills\\n• Experienced professional with 8-15 years of experience developing and implementing ML models in Big data ecosystem i.e. Hadoop, Spark, Kafka, HBase, Hive / Impala, Cassandra, MongoDB or any other similar distributed computing technology\\n• Proficiency with Scala / Python and basic libraries for machine learning such as scikit-learn, pandas, deep-learning\\n• Proficiency in data analysis using complex and optimized SQL and / or above mentioned technologies\\n• Understanding of data structures, data modeling and software architecture\\n• Experience in architecture, design and implementation of data intensive applications for practical use-cases\\n• Expertise in visualizing large datasets in an efficient manner\\n• Ability to work in fast paced and dynamic environment\\n• Good written and verbal communication skills\\nGood to have skills\\n• In-depth understanding of Machine Learning and Statistics, in addition to above\\n• Experience in domains – Financial Risk and Log Analytics\\n• Worked on large scale Anomaly Detection use cases\\n• Practical knowledge of Natural Language Processing (NLP) and/or Neural network implementation\\n• Tableau for data visualization\\n• Experience working in an Agile environment\\n\\nIf you are interested, please respond with your updated resume along with below mentioned details.\\n\\nCTC:\\nExp:\\nNotice:\\nHave you earlier worked with Morgan Stanley:', 'BD (Becton, Dickinson and Company) Jobs - Lead Data Scientist in Bangalore, India BD (Becton, Dickinson and Company) Jobs BD (Becton, Dickinson and Company)\\nJob Description Summary\\nAs a member of the BD Advanced Analytics team, the Data Scientist role will collect, interpret, and deploy predictive analytics and machine learning models to assist our business partners in delivering advanced data analytics solutions to address key strategic business initiatives. The primary focus being the development and deployment of actionable insights that have a positive impact on BD s business operations.\\nJob Description\\nEvaluating business requirements and developing compelling user stories in collaboration with business stakeholders across various functions and regions\\nCollecting, interpreting, preparing and modelling data to provide actionable insights\\nPrototyping advanced data analytics solutions for presentation to business partners and stakeholders\\nApplying predictive analytics and machine learning methods and techniques appropriately to address business requirements\\nProvide expertise to guide business stakeholders in identifying opportunities for the use of BD s data assets for the purpose of advanced data analytics\\nWork closely with data engineering and DataOps peers to productionalize advanced data analytics use cases\\nQualifications\\nMaster s degree in STEM field or equivalent demonstrated work experience\\nExperience with Python, R, Hadoop, HIVE, SPARK, Jupyter and related advanced analytics / machine learning libraries (Scikitlearn, Tensorflow, Keras, )\\nMinimum 2 years of relevant work experience\\nAbility to translate complex solutions to a non-technical audience (storytelling visualization)\\nExpertise in machine learning, neural networks, clustering, classification, regression and other common advanced analytics methods and techniques\\nMature competency for critical thinking, problem solving, working with ambiguity, communications and collaboration\\nExperience with technologies related to data preparation, processing optimization (e.g. Azure, HQL, SPARK SQL)\\nExperience with data visualization tools (Power BI)\\nFlexibility to accommodate meetings with international stakeholders in their respective time-zone\\nIND Bangalore - Technology Campus\\nBD is a leading global medical technology company that creates medical technology, devices and laboratory equipment for a variety of needs across the healthcare continuum. At BD, we are looking for candidates who possess passion, innovative solutions and a commitment to our one mission of improving access to groundbreaking medical and biotechnology services for people near and far, delivering state-of-the-art technology and cutting-edge research in the battle to fight and cure infectious diseases. With a global reach that extends across 50 countries worldwide, our network of professionals collaborates on effective measures to deliver enhanced patient quality such as lower health care delivery costs, improved health care and safety, and expanded health care for all. Join our company and see how you can become a part of one global mission to make a difference in human health.\\nBecton, Dickinson and Company is an Equal Opportunity/Affirmative Action Employer. We do not unlawfully discriminate on the basis of race, color, religion, age, sex, creed, national origin, ancestry, citizenship status, marital or domestic or civil union status, familial status, affectional or sexual orientation, gender identity or expression, genetics, disability, military eligibility or veteran status, or any other protected status.', 'Position Description:\\nThe Artificial Intelligence and Machine Learning (AIML) group at Fractal Analytics is actively involved in helping Fortune 500 companies by enabling them to discover how they can leverage their data using advanced and sophisticated AI/ML algorithms for which we are looking for Data Scientists with the capability to work on independent statistical and machine learning research/ projects. If you are a problem solver with a curiosity for exploring new techniques and technologies in AIML space, then we would like to talk with you.\\nJob Responsibilities:\\nAbility to understand a problem statement and implement analytical solutions & techniques independently with independently/proactively/thought-leadership\\nWork with stakeholders throughout the organization to identify opportunities for leveraging company/client data to drive business solutions\\nFast learner: ability to learn and pick up a new language/tool/ platform quickly\\nConceptualize, design, and deliver high-quality solutions and insightful analysis\\nConduct research and prototyping innovations; data and requirements gathering; solution scoping and architecture; consulting clients and client facing teams on advanced statistical and machine learning problems\\nCollaborate and coordinate with different functional teams (engineering and product development) to implement models and monitor outcomes\\nAbility to deliver AIML based solutions around a host of domains and problems, with some of them being: Customer Segmentation & Targeting, Propensity Modeling, Churn Modeling, Lifetime Value Estimation, Forecasting, Recommender Systems, Modeling Response to Incentives, Marketing Mix Optimization, Price Optimization\\nExperience Required:\\nMinimum 10+ years of experience in Machine Learning domain\\nExpert level proficiency in at least one of R and Python\\nAbility to create efficient solutions to complex problems. Strong skills in data-structures and ML algorithms\\nExperience of working on end-to-end data science pipeline: problem scoping, data gathering, EDA, modelling, insights, visualizations, monitoring and maintenance\\nProblem-solving: Ability to break the problem into small parts and applying relevant techniques to drive required outcomes\\nIntermediate to advanced knowledge of machine learning, probability theory, statistics, and algorithms. You will be required to discuss and use various algorithms and approaches on a daily basis\\nWe use regression, Bayesian methods, tree-based learners, SVM, RF, XGBOOST, time series modeling, dimensionality reduction, SEM, GLM, GLMM, clustering, Deep learning etc. on a regular basis. If you know few of them you are good to go\\nGood to Have:\\nExperience in one of the upcoming technologies like deep learning, NLP, image processing, recommender systems\\nExperience of working in on one or more domains:\\nCPG: pricing and promotion analytics, marketing analytics, trade promotions, supply chain management\\nBFSI: cross-sell, up-sell, campaign analytics, treasury analytics, fraud detection\\nHealthcare: medical adherence, medical risk profiling, EHR data, fraud-waste-abuse\\nExperience in working with Linux computing environment and use of command line tools like sed/awk\\nGood grasp on databases including RDBMS, NoSQL, MongoDB etc.']\n"
     ]
    },
    {
     "data": {
      "text/plain": [
       "5"
      ]
     },
     "execution_count": 19,
     "metadata": {},
     "output_type": "execute_result"
    }
   ],
   "source": [
    "#Extract 5th Job description\n",
    "driver=webdriver.Chrome(r\"C:\\Users\\Akash\\Downloads\\chromedriver_win32\\chromedriver.exe\")\n",
    "url=\"https://www.naukri.com/job-listings-lead-data-scientist-fractal-analytics-pvt-ltd-gurgaon-gurugram-bangalore-bengaluru-mumbai-all-areas-10-to-15-years-110621003012?src=jobsearchDesk&sid=16236737383639996&xp=5&px=1\"\n",
    "driver.get(url)\n",
    "titles_tag=driver.find_elements_by_xpath(\"//div[@class='dang-inner-html']\")\n",
    "\n",
    "for i in titles_tag:\n",
    "    jd.append(i.text)\n",
    "print(jd)\n",
    "len(jd)"
   ]
  },
  {
   "cell_type": "code",
   "execution_count": 20,
   "metadata": {},
   "outputs": [
    {
     "name": "stdout",
     "output_type": "stream",
     "text": [
      "[\"Job Role : Data Scientist/Data Analyst /Business Analyst\\n\\nLocation : Chennai/Bangalore/Hyderabad/Pune/Mumbai/Delhi\\n\\nGreetings from CAIA - Center for Artificial Intelligence & Advanced Analytics\\n43% of companies experienced a high deficit of skilled resources with Advanced Analytical skills and AI implementing capabilities in year 2020. CAIA gives you a great opportunity to enter the world of future technologies and Innovations- Data Science, Analytics, AI, Data Visualization and Cloud Computing.\\n\\nWhile 2020 was a year like no other, we are living in an interesting times where data is reshaping the world, and businesses are rapidly adopting technology to gain an edge over others. Hence, there's a substantial increase in demand for technology professionals who can implement systems in data science, machine learning and AI in Tier 1 and Tier 2 organization's working closely with us.\\n\\nTo help you build a sustainable career we would like you to utilize data, software and Analytical approaches in Data Science and AI to up skill and get recruited into an organization appreciating your skilling journey.\\nApplications invited from all Freshers and experienced candidates (0-3 yrs) aspiring to make a career in Artificial Intelligence and Advanced Analytics and Data Science.\\nIf you wish to make a shift in your career or undergo a career transition, upskilling is essential since it allows you to learn more about the domain and acquire the required skills.\\n\\nCall to schedule interview Monday -Saturday from 10:00 am to 7Pm\\n\\nAlexandria A - +91 76958 88879\\nManigandan -+91 93444 57360\\n\\nEmail :\\n\\nalexandriaa@centerforaia.com\\nmanigandan@centerforaia.com\\n\\nWhat is needed from you?\\n\\nFreshers who wish to start their career in Analytics and AI and professionals who wish to\\nupskill or change their domain to analytics and emerging technologies are free to apply.\\nAn Educational background in any one of the following- BE/B.Tech, ME/M Tech, MSc, BSc/MSc Math's and Statistics, B Com, BCA, BSc CS, BSC IT, MSC IT, MCA\\nSkills relating to Mathematics/Statistics.\\nNatural passion towards numbers, business, coding, Analytics and Artificial Intelligence, Machine Learning, visualization\\nGood verbal and written communication skills\\nAbility to understand domains in businesses across various sectors\\n\\n\\nSelection procedure includes\\n\\nAptitude Test & Communication Exam - Online / Offline\\nSQL/Python test - Online / Offline\\n\\nCandidates who clears the above will have one-one discussion with our Career Guidance Manager for further evaluation and processing of your Resume.\\n\\n\\nAll the Shortlisted candidates will be eligible to continue the corporate training with CAIA\\nWhat you can expect from us?\\n\\nYou will get trained on the following modules for a period of 12-14 weeks:\\n\\nSQL & PLSQL\\nData Wrangling using Python\\nData Visualization Using Power-BI\\nStatistics for Machine Learning\\nArtificial Intelligence, Data Interpretation\\nSupervised & Unsupervised Learning,\\nNLP & Deep Learning\\nCloud Data Lake\\nBusiness intelligence & Data Visualization\\nSimulation Projects\\nExpected Outcome?\\n\\nAt the end of the Training you are expected to be well versed with the following:\\n\\nAnalysis of large and complex data sets from multiple sources\\nDevelopment and evaluation of data analytics models, algorithms and solutions\\nUnderstanding/implementation of ML algorithms, performance tuning and reporting\\nImplementation of algorithms to mine targeted data and the ability to convert data in to a business story\\nTranslation of business requirements into technical requirements; Data extraction, preparation and transformation\\nIdentification, development and implementation of statistical techniques and algorithms that address business challenges and adds value to the organization\\nRequirement Analysis and communication of findings in the form of a meaningful story with the stakeholders\\nFinding analytical solutions to abstract business issues.\\nApply objective analysis of facts before coming to a conclusion\\n\\nAbout CAIA - Inflexion Analytix Private Limited\\n\\nCenter for Artificial Intelligence and Advanced Analytics (Center for AIA) is the brainchild of experienced and visionary alumni of IIT Madras and Bombay.\\nDigital leaders - 5F World and Systech Solutions have joined hands to create a venture for architecting the future of society, workforce, governments and businesses. 5F World specializes in designing solutions around digital platforms and Systech Solutions has an expertise in architecting Artificial Intelligence and Advance Analytics solutions for Fortune 500 companies.\\nOur Website : http://www.centerforaia.com/\\n\\nhttps://inflexion-analytix-private-limited.business.site/?m=true\\n\\nCenter for Artificial Intelligence & Advanced Analytics (CAIA) focuses on the following:\\n\\n1. Global Research on emerging trends, technologies and applications in AI and Advanced Analytics\\n2. Advanced Training programs for readying the future ready workforce\\n3. Solutions to herald the futuristic lifestyle and workspaces in the field of AI and Data Science.\", 'Job Description\\nJob Role: Senior Data Scientist\\n\\n\\nReporting To: Head of Data Science\\n\\n\\nTotal Exp: 5 - 7 years\\n\\n\\nEducational Qualification: Post-Graduation in Statistics/Computer Science or related field from Premier Institute\\n\\n\\nJob Location: Bangalore\\n\\n\\nPURPOSE OF THE POSITION\\nTo be an independent data scientist and senior resource capable of doing various statistical modeling and predictive analysis for dynamic pricing, dynamic discounting, customer segmentation, and better business decision making\\n\\n\\nRoles and Responsibilities:\\nStrong statistical knowledge and hands-on experience with statistical, machine learning tools and techniques\\nDemonstrated capability to provide meaningful and actionable insights based on data analysis\\nStrong communication skills\\nSignificant experience in predictive modeling and statistical analyses\\nStrong capability of running multivariate regression models using Python/R/Java\\nAbility to conduct cluster analysis on large datasets\\nGood understanding and working experience with multiple data sources\\nHigh level of comfort with receiving, loading, cleansing, enriching & enhancing transactional data sources\\nAbility to proactively come up with solutions requiring minimal guidance\\nShould be a strong team player & able to work in the ambiguous environment with minimal guidance\\n\\nDesired Candidate Profile:\\n\\nWork on advanced data analysis to provide insights to different types of users\\nIdentify behavioral and attribute-based clusters using clustering techniques\\nConduct predictive analysis to create various what-if scenarios to drive organizational planning and marketing strategy\\nDevelop & apply algorithms operating on data to solve real-life business problems.\\nBe the go-to” person for all statistical modeling/analysis in the organization\\n5+ years of experience in statistical modeling/customer segmentation/predictive analysis in a quant-heavy organization\\nCandidates with strong business sense, problem-solving capabilities, and presentation skills will be preferred', 'About Us\\nMorgan Stanley is a leading global financial services firm providing a wide range of investment banking, securities, investment management and wealth management services. We advise, originate, trade, manage and distribute capital for governments, institutions and individuals. As a market leader, the talent and passion of our people is critical to our success. Together, we share a common set of values rooted in integrity, excellence and strong team ethic. We provide you a superior foundation for building a professional career where you can learn, achieve and grow.\\nTechnology/Role/Department at Morgan Stanley\\nTechnology is the key differentiator that ensures that we manage our global businesses and serve clients on a market leading platform that is resilient, safe, efficient, smart, fast and flexible. Technology redefines how we do business in global, complex and dynamic financial markets. We have a large number of award winning technology platforms that help to propel our Firm’s businesses to be the top in the market. Our India technology teams are based in Mumbai and Bengaluru. We have built strong techno-functional teams which partner with our offices globally taking global ownership of systems and products. We have a vibrant and diverse mix of technologists working on different technologies and functional domains. There is a large focus on innovation, inclusion, giving back to the community and sharing knowledge.\\nWealth Management Technology (WMIMT) is responsible for the design, development, delivery, and support of the technical platform behind the products and services used by the Business. Morgan Stanley Wealth Management (WM) is a product of the acquisition of Smith Barney from Citigroup, which was completed in June ‘13. Its core client base is individual investors, small- to medium-size businesses and institutions, and high net worth families and individuals. In the second half of ‘14, WM reached a milestone, with its business having surpassed $2 trillion in total client assets.\\nWe are seeking a Machine Learning Engineer with expertise in design and development of data and ML centric applications at scale. The right candidate would have a background in data engineering and requisite familiarity and experience working with Machine learning (ML) algorithms and Frameworks. The role is a confluence of engineering (programming), ML and data analysis. Knowledge of Data Science is a plus. This position is for the Decision products which is part of Artificial Intelligence and Knowledge Management group within Morgan Stanley Wealth Management. The team is comprised of members located in NY-United States, Mumbai-India and Bengaluru-India. The team partners with various businesses and IT groups within firm to develop analytics and ML powered solutions aimed at targeting Clients, Participants and Financial Advisors with relevant recommendations. The team accumulates data from a variety of internal and external upstream systems in order to develop statistics, models, dashboards and metrics for the Digital Platforms team.\\nThe right candidate has (Responsibilities)\\n• Create ML model training, validation and hyper-parameter search pipelines\\n• Explore new data sources and data. Select appropriate datasets and their representation methods. Perform data analysis (statistical and otherwise), to derive inferences from data\\n• Design machine learning systems, and oversee the platform on which the solutions would be deployed\\n• Ensure data integrity through – Data quality, validation, Governance and Transparency\\n• Design and Build distributed, scalable, and reliable data pipelines that ingest and process data at scale and in real-time\\n• Production deployment and Model monitoring to ensure stable performance and adherence to standards\\n• Evaluate state-of-art data-centric technologies and prototype solutions to improve our architecture and platform\\n• Understand data visualization to create meaningful dashboards for end-users\\nQualifications - External\\nPrimary skills\\n• Experienced professional with 8-15 years of experience developing and implementing ML models in Big data ecosystem i.e. Hadoop, Spark, Kafka, HBase, Hive / Impala, Cassandra, MongoDB or any other similar distributed computing technology\\n• Proficiency with Scala / Python and basic libraries for machine learning such as scikit-learn, pandas, deep-learning\\n• Proficiency in data analysis using complex and optimized SQL and / or above mentioned technologies\\n• Understanding of data structures, data modeling and software architecture\\n• Experience in architecture, design and implementation of data intensive applications for practical use-cases\\n• Expertise in visualizing large datasets in an efficient manner\\n• Ability to work in fast paced and dynamic environment\\n• Good written and verbal communication skills\\nGood to have skills\\n• In-depth understanding of Machine Learning and Statistics, in addition to above\\n• Experience in domains – Financial Risk and Log Analytics\\n• Worked on large scale Anomaly Detection use cases\\n• Practical knowledge of Natural Language Processing (NLP) and/or Neural network implementation\\n• Tableau for data visualization\\n• Experience working in an Agile environment\\n\\nIf you are interested, please respond with your updated resume along with below mentioned details.\\n\\nCTC:\\nExp:\\nNotice:\\nHave you earlier worked with Morgan Stanley:', 'BD (Becton, Dickinson and Company) Jobs - Lead Data Scientist in Bangalore, India BD (Becton, Dickinson and Company) Jobs BD (Becton, Dickinson and Company)\\nJob Description Summary\\nAs a member of the BD Advanced Analytics team, the Data Scientist role will collect, interpret, and deploy predictive analytics and machine learning models to assist our business partners in delivering advanced data analytics solutions to address key strategic business initiatives. The primary focus being the development and deployment of actionable insights that have a positive impact on BD s business operations.\\nJob Description\\nEvaluating business requirements and developing compelling user stories in collaboration with business stakeholders across various functions and regions\\nCollecting, interpreting, preparing and modelling data to provide actionable insights\\nPrototyping advanced data analytics solutions for presentation to business partners and stakeholders\\nApplying predictive analytics and machine learning methods and techniques appropriately to address business requirements\\nProvide expertise to guide business stakeholders in identifying opportunities for the use of BD s data assets for the purpose of advanced data analytics\\nWork closely with data engineering and DataOps peers to productionalize advanced data analytics use cases\\nQualifications\\nMaster s degree in STEM field or equivalent demonstrated work experience\\nExperience with Python, R, Hadoop, HIVE, SPARK, Jupyter and related advanced analytics / machine learning libraries (Scikitlearn, Tensorflow, Keras, )\\nMinimum 2 years of relevant work experience\\nAbility to translate complex solutions to a non-technical audience (storytelling visualization)\\nExpertise in machine learning, neural networks, clustering, classification, regression and other common advanced analytics methods and techniques\\nMature competency for critical thinking, problem solving, working with ambiguity, communications and collaboration\\nExperience with technologies related to data preparation, processing optimization (e.g. Azure, HQL, SPARK SQL)\\nExperience with data visualization tools (Power BI)\\nFlexibility to accommodate meetings with international stakeholders in their respective time-zone\\nIND Bangalore - Technology Campus\\nBD is a leading global medical technology company that creates medical technology, devices and laboratory equipment for a variety of needs across the healthcare continuum. At BD, we are looking for candidates who possess passion, innovative solutions and a commitment to our one mission of improving access to groundbreaking medical and biotechnology services for people near and far, delivering state-of-the-art technology and cutting-edge research in the battle to fight and cure infectious diseases. With a global reach that extends across 50 countries worldwide, our network of professionals collaborates on effective measures to deliver enhanced patient quality such as lower health care delivery costs, improved health care and safety, and expanded health care for all. Join our company and see how you can become a part of one global mission to make a difference in human health.\\nBecton, Dickinson and Company is an Equal Opportunity/Affirmative Action Employer. We do not unlawfully discriminate on the basis of race, color, religion, age, sex, creed, national origin, ancestry, citizenship status, marital or domestic or civil union status, familial status, affectional or sexual orientation, gender identity or expression, genetics, disability, military eligibility or veteran status, or any other protected status.', 'Position Description:\\nThe Artificial Intelligence and Machine Learning (AIML) group at Fractal Analytics is actively involved in helping Fortune 500 companies by enabling them to discover how they can leverage their data using advanced and sophisticated AI/ML algorithms for which we are looking for Data Scientists with the capability to work on independent statistical and machine learning research/ projects. If you are a problem solver with a curiosity for exploring new techniques and technologies in AIML space, then we would like to talk with you.\\nJob Responsibilities:\\nAbility to understand a problem statement and implement analytical solutions & techniques independently with independently/proactively/thought-leadership\\nWork with stakeholders throughout the organization to identify opportunities for leveraging company/client data to drive business solutions\\nFast learner: ability to learn and pick up a new language/tool/ platform quickly\\nConceptualize, design, and deliver high-quality solutions and insightful analysis\\nConduct research and prototyping innovations; data and requirements gathering; solution scoping and architecture; consulting clients and client facing teams on advanced statistical and machine learning problems\\nCollaborate and coordinate with different functional teams (engineering and product development) to implement models and monitor outcomes\\nAbility to deliver AIML based solutions around a host of domains and problems, with some of them being: Customer Segmentation & Targeting, Propensity Modeling, Churn Modeling, Lifetime Value Estimation, Forecasting, Recommender Systems, Modeling Response to Incentives, Marketing Mix Optimization, Price Optimization\\nExperience Required:\\nMinimum 10+ years of experience in Machine Learning domain\\nExpert level proficiency in at least one of R and Python\\nAbility to create efficient solutions to complex problems. Strong skills in data-structures and ML algorithms\\nExperience of working on end-to-end data science pipeline: problem scoping, data gathering, EDA, modelling, insights, visualizations, monitoring and maintenance\\nProblem-solving: Ability to break the problem into small parts and applying relevant techniques to drive required outcomes\\nIntermediate to advanced knowledge of machine learning, probability theory, statistics, and algorithms. You will be required to discuss and use various algorithms and approaches on a daily basis\\nWe use regression, Bayesian methods, tree-based learners, SVM, RF, XGBOOST, time series modeling, dimensionality reduction, SEM, GLM, GLMM, clustering, Deep learning etc. on a regular basis. If you know few of them you are good to go\\nGood to Have:\\nExperience in one of the upcoming technologies like deep learning, NLP, image processing, recommender systems\\nExperience of working in on one or more domains:\\nCPG: pricing and promotion analytics, marketing analytics, trade promotions, supply chain management\\nBFSI: cross-sell, up-sell, campaign analytics, treasury analytics, fraud detection\\nHealthcare: medical adherence, medical risk profiling, EHR data, fraud-waste-abuse\\nExperience in working with Linux computing environment and use of command line tools like sed/awk\\nGood grasp on databases including RDBMS, NoSQL, MongoDB etc.', 'Job Summary\\nThe candidate should be a Cybersecurity Data Scientist with a background in machine learning for cybersecurity applications.\\nHeShe will contribute, provide subject matter expertise in the area of cybersecurity for critical infrastructure systems.\\n\\nResearch, develop, design and implement machine learning algorithms for cyber threat detection in operational technology environments, under limited direction.\\nIdentify data types to enable detection of cyber events.\\nTest and validate developed algorithms on real operational data.\\nIdentify, define, and scope complex data analytics problems in the cybersecurity domain.\\nDevelop cross-domain strategies for increased network security and resiliency of the entire network.']\n"
     ]
    },
    {
     "data": {
      "text/plain": [
       "6"
      ]
     },
     "execution_count": 20,
     "metadata": {},
     "output_type": "execute_result"
    }
   ],
   "source": [
    "#Extract 6th Job description\n",
    "driver=webdriver.Chrome(r\"C:\\Users\\Akash\\Downloads\\chromedriver_win32\\chromedriver.exe\")\n",
    "url=\"https://www.naukri.com/job-listings-lead-data-scientist-fico-bangalore-bengaluru-6-to-11-years-090621500701?src=jobsearchDesk&sid=16236737383639996&xp=6&px=1\"\n",
    "driver.get(url)\n",
    "titles_tag=driver.find_elements_by_xpath(\"//div[@class='dang-inner-html']\")\n",
    "\n",
    "for i in titles_tag:\n",
    "    jd.append(i.text)\n",
    "print(jd)\n",
    "len(jd)"
   ]
  },
  {
   "cell_type": "code",
   "execution_count": 21,
   "metadata": {},
   "outputs": [
    {
     "name": "stdout",
     "output_type": "stream",
     "text": [
      "[\"Job Role : Data Scientist/Data Analyst /Business Analyst\\n\\nLocation : Chennai/Bangalore/Hyderabad/Pune/Mumbai/Delhi\\n\\nGreetings from CAIA - Center for Artificial Intelligence & Advanced Analytics\\n43% of companies experienced a high deficit of skilled resources with Advanced Analytical skills and AI implementing capabilities in year 2020. CAIA gives you a great opportunity to enter the world of future technologies and Innovations- Data Science, Analytics, AI, Data Visualization and Cloud Computing.\\n\\nWhile 2020 was a year like no other, we are living in an interesting times where data is reshaping the world, and businesses are rapidly adopting technology to gain an edge over others. Hence, there's a substantial increase in demand for technology professionals who can implement systems in data science, machine learning and AI in Tier 1 and Tier 2 organization's working closely with us.\\n\\nTo help you build a sustainable career we would like you to utilize data, software and Analytical approaches in Data Science and AI to up skill and get recruited into an organization appreciating your skilling journey.\\nApplications invited from all Freshers and experienced candidates (0-3 yrs) aspiring to make a career in Artificial Intelligence and Advanced Analytics and Data Science.\\nIf you wish to make a shift in your career or undergo a career transition, upskilling is essential since it allows you to learn more about the domain and acquire the required skills.\\n\\nCall to schedule interview Monday -Saturday from 10:00 am to 7Pm\\n\\nAlexandria A - +91 76958 88879\\nManigandan -+91 93444 57360\\n\\nEmail :\\n\\nalexandriaa@centerforaia.com\\nmanigandan@centerforaia.com\\n\\nWhat is needed from you?\\n\\nFreshers who wish to start their career in Analytics and AI and professionals who wish to\\nupskill or change their domain to analytics and emerging technologies are free to apply.\\nAn Educational background in any one of the following- BE/B.Tech, ME/M Tech, MSc, BSc/MSc Math's and Statistics, B Com, BCA, BSc CS, BSC IT, MSC IT, MCA\\nSkills relating to Mathematics/Statistics.\\nNatural passion towards numbers, business, coding, Analytics and Artificial Intelligence, Machine Learning, visualization\\nGood verbal and written communication skills\\nAbility to understand domains in businesses across various sectors\\n\\n\\nSelection procedure includes\\n\\nAptitude Test & Communication Exam - Online / Offline\\nSQL/Python test - Online / Offline\\n\\nCandidates who clears the above will have one-one discussion with our Career Guidance Manager for further evaluation and processing of your Resume.\\n\\n\\nAll the Shortlisted candidates will be eligible to continue the corporate training with CAIA\\nWhat you can expect from us?\\n\\nYou will get trained on the following modules for a period of 12-14 weeks:\\n\\nSQL & PLSQL\\nData Wrangling using Python\\nData Visualization Using Power-BI\\nStatistics for Machine Learning\\nArtificial Intelligence, Data Interpretation\\nSupervised & Unsupervised Learning,\\nNLP & Deep Learning\\nCloud Data Lake\\nBusiness intelligence & Data Visualization\\nSimulation Projects\\nExpected Outcome?\\n\\nAt the end of the Training you are expected to be well versed with the following:\\n\\nAnalysis of large and complex data sets from multiple sources\\nDevelopment and evaluation of data analytics models, algorithms and solutions\\nUnderstanding/implementation of ML algorithms, performance tuning and reporting\\nImplementation of algorithms to mine targeted data and the ability to convert data in to a business story\\nTranslation of business requirements into technical requirements; Data extraction, preparation and transformation\\nIdentification, development and implementation of statistical techniques and algorithms that address business challenges and adds value to the organization\\nRequirement Analysis and communication of findings in the form of a meaningful story with the stakeholders\\nFinding analytical solutions to abstract business issues.\\nApply objective analysis of facts before coming to a conclusion\\n\\nAbout CAIA - Inflexion Analytix Private Limited\\n\\nCenter for Artificial Intelligence and Advanced Analytics (Center for AIA) is the brainchild of experienced and visionary alumni of IIT Madras and Bombay.\\nDigital leaders - 5F World and Systech Solutions have joined hands to create a venture for architecting the future of society, workforce, governments and businesses. 5F World specializes in designing solutions around digital platforms and Systech Solutions has an expertise in architecting Artificial Intelligence and Advance Analytics solutions for Fortune 500 companies.\\nOur Website : http://www.centerforaia.com/\\n\\nhttps://inflexion-analytix-private-limited.business.site/?m=true\\n\\nCenter for Artificial Intelligence & Advanced Analytics (CAIA) focuses on the following:\\n\\n1. Global Research on emerging trends, technologies and applications in AI and Advanced Analytics\\n2. Advanced Training programs for readying the future ready workforce\\n3. Solutions to herald the futuristic lifestyle and workspaces in the field of AI and Data Science.\", 'Job Description\\nJob Role: Senior Data Scientist\\n\\n\\nReporting To: Head of Data Science\\n\\n\\nTotal Exp: 5 - 7 years\\n\\n\\nEducational Qualification: Post-Graduation in Statistics/Computer Science or related field from Premier Institute\\n\\n\\nJob Location: Bangalore\\n\\n\\nPURPOSE OF THE POSITION\\nTo be an independent data scientist and senior resource capable of doing various statistical modeling and predictive analysis for dynamic pricing, dynamic discounting, customer segmentation, and better business decision making\\n\\n\\nRoles and Responsibilities:\\nStrong statistical knowledge and hands-on experience with statistical, machine learning tools and techniques\\nDemonstrated capability to provide meaningful and actionable insights based on data analysis\\nStrong communication skills\\nSignificant experience in predictive modeling and statistical analyses\\nStrong capability of running multivariate regression models using Python/R/Java\\nAbility to conduct cluster analysis on large datasets\\nGood understanding and working experience with multiple data sources\\nHigh level of comfort with receiving, loading, cleansing, enriching & enhancing transactional data sources\\nAbility to proactively come up with solutions requiring minimal guidance\\nShould be a strong team player & able to work in the ambiguous environment with minimal guidance\\n\\nDesired Candidate Profile:\\n\\nWork on advanced data analysis to provide insights to different types of users\\nIdentify behavioral and attribute-based clusters using clustering techniques\\nConduct predictive analysis to create various what-if scenarios to drive organizational planning and marketing strategy\\nDevelop & apply algorithms operating on data to solve real-life business problems.\\nBe the go-to” person for all statistical modeling/analysis in the organization\\n5+ years of experience in statistical modeling/customer segmentation/predictive analysis in a quant-heavy organization\\nCandidates with strong business sense, problem-solving capabilities, and presentation skills will be preferred', 'About Us\\nMorgan Stanley is a leading global financial services firm providing a wide range of investment banking, securities, investment management and wealth management services. We advise, originate, trade, manage and distribute capital for governments, institutions and individuals. As a market leader, the talent and passion of our people is critical to our success. Together, we share a common set of values rooted in integrity, excellence and strong team ethic. We provide you a superior foundation for building a professional career where you can learn, achieve and grow.\\nTechnology/Role/Department at Morgan Stanley\\nTechnology is the key differentiator that ensures that we manage our global businesses and serve clients on a market leading platform that is resilient, safe, efficient, smart, fast and flexible. Technology redefines how we do business in global, complex and dynamic financial markets. We have a large number of award winning technology platforms that help to propel our Firm’s businesses to be the top in the market. Our India technology teams are based in Mumbai and Bengaluru. We have built strong techno-functional teams which partner with our offices globally taking global ownership of systems and products. We have a vibrant and diverse mix of technologists working on different technologies and functional domains. There is a large focus on innovation, inclusion, giving back to the community and sharing knowledge.\\nWealth Management Technology (WMIMT) is responsible for the design, development, delivery, and support of the technical platform behind the products and services used by the Business. Morgan Stanley Wealth Management (WM) is a product of the acquisition of Smith Barney from Citigroup, which was completed in June ‘13. Its core client base is individual investors, small- to medium-size businesses and institutions, and high net worth families and individuals. In the second half of ‘14, WM reached a milestone, with its business having surpassed $2 trillion in total client assets.\\nWe are seeking a Machine Learning Engineer with expertise in design and development of data and ML centric applications at scale. The right candidate would have a background in data engineering and requisite familiarity and experience working with Machine learning (ML) algorithms and Frameworks. The role is a confluence of engineering (programming), ML and data analysis. Knowledge of Data Science is a plus. This position is for the Decision products which is part of Artificial Intelligence and Knowledge Management group within Morgan Stanley Wealth Management. The team is comprised of members located in NY-United States, Mumbai-India and Bengaluru-India. The team partners with various businesses and IT groups within firm to develop analytics and ML powered solutions aimed at targeting Clients, Participants and Financial Advisors with relevant recommendations. The team accumulates data from a variety of internal and external upstream systems in order to develop statistics, models, dashboards and metrics for the Digital Platforms team.\\nThe right candidate has (Responsibilities)\\n• Create ML model training, validation and hyper-parameter search pipelines\\n• Explore new data sources and data. Select appropriate datasets and their representation methods. Perform data analysis (statistical and otherwise), to derive inferences from data\\n• Design machine learning systems, and oversee the platform on which the solutions would be deployed\\n• Ensure data integrity through – Data quality, validation, Governance and Transparency\\n• Design and Build distributed, scalable, and reliable data pipelines that ingest and process data at scale and in real-time\\n• Production deployment and Model monitoring to ensure stable performance and adherence to standards\\n• Evaluate state-of-art data-centric technologies and prototype solutions to improve our architecture and platform\\n• Understand data visualization to create meaningful dashboards for end-users\\nQualifications - External\\nPrimary skills\\n• Experienced professional with 8-15 years of experience developing and implementing ML models in Big data ecosystem i.e. Hadoop, Spark, Kafka, HBase, Hive / Impala, Cassandra, MongoDB or any other similar distributed computing technology\\n• Proficiency with Scala / Python and basic libraries for machine learning such as scikit-learn, pandas, deep-learning\\n• Proficiency in data analysis using complex and optimized SQL and / or above mentioned technologies\\n• Understanding of data structures, data modeling and software architecture\\n• Experience in architecture, design and implementation of data intensive applications for practical use-cases\\n• Expertise in visualizing large datasets in an efficient manner\\n• Ability to work in fast paced and dynamic environment\\n• Good written and verbal communication skills\\nGood to have skills\\n• In-depth understanding of Machine Learning and Statistics, in addition to above\\n• Experience in domains – Financial Risk and Log Analytics\\n• Worked on large scale Anomaly Detection use cases\\n• Practical knowledge of Natural Language Processing (NLP) and/or Neural network implementation\\n• Tableau for data visualization\\n• Experience working in an Agile environment\\n\\nIf you are interested, please respond with your updated resume along with below mentioned details.\\n\\nCTC:\\nExp:\\nNotice:\\nHave you earlier worked with Morgan Stanley:', 'BD (Becton, Dickinson and Company) Jobs - Lead Data Scientist in Bangalore, India BD (Becton, Dickinson and Company) Jobs BD (Becton, Dickinson and Company)\\nJob Description Summary\\nAs a member of the BD Advanced Analytics team, the Data Scientist role will collect, interpret, and deploy predictive analytics and machine learning models to assist our business partners in delivering advanced data analytics solutions to address key strategic business initiatives. The primary focus being the development and deployment of actionable insights that have a positive impact on BD s business operations.\\nJob Description\\nEvaluating business requirements and developing compelling user stories in collaboration with business stakeholders across various functions and regions\\nCollecting, interpreting, preparing and modelling data to provide actionable insights\\nPrototyping advanced data analytics solutions for presentation to business partners and stakeholders\\nApplying predictive analytics and machine learning methods and techniques appropriately to address business requirements\\nProvide expertise to guide business stakeholders in identifying opportunities for the use of BD s data assets for the purpose of advanced data analytics\\nWork closely with data engineering and DataOps peers to productionalize advanced data analytics use cases\\nQualifications\\nMaster s degree in STEM field or equivalent demonstrated work experience\\nExperience with Python, R, Hadoop, HIVE, SPARK, Jupyter and related advanced analytics / machine learning libraries (Scikitlearn, Tensorflow, Keras, )\\nMinimum 2 years of relevant work experience\\nAbility to translate complex solutions to a non-technical audience (storytelling visualization)\\nExpertise in machine learning, neural networks, clustering, classification, regression and other common advanced analytics methods and techniques\\nMature competency for critical thinking, problem solving, working with ambiguity, communications and collaboration\\nExperience with technologies related to data preparation, processing optimization (e.g. Azure, HQL, SPARK SQL)\\nExperience with data visualization tools (Power BI)\\nFlexibility to accommodate meetings with international stakeholders in their respective time-zone\\nIND Bangalore - Technology Campus\\nBD is a leading global medical technology company that creates medical technology, devices and laboratory equipment for a variety of needs across the healthcare continuum. At BD, we are looking for candidates who possess passion, innovative solutions and a commitment to our one mission of improving access to groundbreaking medical and biotechnology services for people near and far, delivering state-of-the-art technology and cutting-edge research in the battle to fight and cure infectious diseases. With a global reach that extends across 50 countries worldwide, our network of professionals collaborates on effective measures to deliver enhanced patient quality such as lower health care delivery costs, improved health care and safety, and expanded health care for all. Join our company and see how you can become a part of one global mission to make a difference in human health.\\nBecton, Dickinson and Company is an Equal Opportunity/Affirmative Action Employer. We do not unlawfully discriminate on the basis of race, color, religion, age, sex, creed, national origin, ancestry, citizenship status, marital or domestic or civil union status, familial status, affectional or sexual orientation, gender identity or expression, genetics, disability, military eligibility or veteran status, or any other protected status.', 'Position Description:\\nThe Artificial Intelligence and Machine Learning (AIML) group at Fractal Analytics is actively involved in helping Fortune 500 companies by enabling them to discover how they can leverage their data using advanced and sophisticated AI/ML algorithms for which we are looking for Data Scientists with the capability to work on independent statistical and machine learning research/ projects. If you are a problem solver with a curiosity for exploring new techniques and technologies in AIML space, then we would like to talk with you.\\nJob Responsibilities:\\nAbility to understand a problem statement and implement analytical solutions & techniques independently with independently/proactively/thought-leadership\\nWork with stakeholders throughout the organization to identify opportunities for leveraging company/client data to drive business solutions\\nFast learner: ability to learn and pick up a new language/tool/ platform quickly\\nConceptualize, design, and deliver high-quality solutions and insightful analysis\\nConduct research and prototyping innovations; data and requirements gathering; solution scoping and architecture; consulting clients and client facing teams on advanced statistical and machine learning problems\\nCollaborate and coordinate with different functional teams (engineering and product development) to implement models and monitor outcomes\\nAbility to deliver AIML based solutions around a host of domains and problems, with some of them being: Customer Segmentation & Targeting, Propensity Modeling, Churn Modeling, Lifetime Value Estimation, Forecasting, Recommender Systems, Modeling Response to Incentives, Marketing Mix Optimization, Price Optimization\\nExperience Required:\\nMinimum 10+ years of experience in Machine Learning domain\\nExpert level proficiency in at least one of R and Python\\nAbility to create efficient solutions to complex problems. Strong skills in data-structures and ML algorithms\\nExperience of working on end-to-end data science pipeline: problem scoping, data gathering, EDA, modelling, insights, visualizations, monitoring and maintenance\\nProblem-solving: Ability to break the problem into small parts and applying relevant techniques to drive required outcomes\\nIntermediate to advanced knowledge of machine learning, probability theory, statistics, and algorithms. You will be required to discuss and use various algorithms and approaches on a daily basis\\nWe use regression, Bayesian methods, tree-based learners, SVM, RF, XGBOOST, time series modeling, dimensionality reduction, SEM, GLM, GLMM, clustering, Deep learning etc. on a regular basis. If you know few of them you are good to go\\nGood to Have:\\nExperience in one of the upcoming technologies like deep learning, NLP, image processing, recommender systems\\nExperience of working in on one or more domains:\\nCPG: pricing and promotion analytics, marketing analytics, trade promotions, supply chain management\\nBFSI: cross-sell, up-sell, campaign analytics, treasury analytics, fraud detection\\nHealthcare: medical adherence, medical risk profiling, EHR data, fraud-waste-abuse\\nExperience in working with Linux computing environment and use of command line tools like sed/awk\\nGood grasp on databases including RDBMS, NoSQL, MongoDB etc.', 'Job Summary\\nThe candidate should be a Cybersecurity Data Scientist with a background in machine learning for cybersecurity applications.\\nHeShe will contribute, provide subject matter expertise in the area of cybersecurity for critical infrastructure systems.\\n\\nResearch, develop, design and implement machine learning algorithms for cyber threat detection in operational technology environments, under limited direction.\\nIdentify data types to enable detection of cyber events.\\nTest and validate developed algorithms on real operational data.\\nIdentify, define, and scope complex data analytics problems in the cybersecurity domain.\\nDevelop cross-domain strategies for increased network security and resiliency of the entire network.', 'Essential Duties Responsibilities\\nPerform basic descriptive data analysis\\nImplement and assess different ways of data transformation\\nFormulate business problems into math / statistics / machine-learning problems\\nBuild math / statistics / machine-learning models in a scientific way\\nCarry out hypothesis tests in a scientific way\\nDo model selection and model diagnostics\\nActively participate in research meetings\\nSupport the research team by creating desired datasets\\nQualifications\\nGood communication skills\\nExcellent analytical and data science skills with strong attention to detail\\nGood Python programmers with good knowledge of pandas/numpy/sklearn\\nGraduate level math and statistics knowledge is preferred\\nKnowledge in machine learning, NLP knowledge is a plus\\nAbility to communicate complex information clearly\\nAbility to work independently\\nTeam player and open to new ideas']\n"
     ]
    },
    {
     "data": {
      "text/plain": [
       "7"
      ]
     },
     "execution_count": 21,
     "metadata": {},
     "output_type": "execute_result"
    }
   ],
   "source": [
    "#Extract 7th Job description\n",
    "driver=webdriver.Chrome(r\"C:\\Users\\Akash\\Downloads\\chromedriver_win32\\chromedriver.exe\")\n",
    "url=\"https://www.naukri.com/job-listings-data-scientist-global-talent-pool-bangalore-bengaluru-0-to-2-years-310521500397?src=jobsearchDesk&sid=16236737383639996&xp=7&px=1\"\n",
    "driver.get(url)\n",
    "titles_tag=driver.find_elements_by_xpath(\"//div[@class='dang-inner-html']\")\n",
    "\n",
    "for i in titles_tag:\n",
    "    jd.append(i.text)\n",
    "print(jd)\n",
    "len(jd)"
   ]
  },
  {
   "cell_type": "code",
   "execution_count": 23,
   "metadata": {},
   "outputs": [
    {
     "name": "stdout",
     "output_type": "stream",
     "text": [
      "[\"Job Role : Data Scientist/Data Analyst /Business Analyst\\n\\nLocation : Chennai/Bangalore/Hyderabad/Pune/Mumbai/Delhi\\n\\nGreetings from CAIA - Center for Artificial Intelligence & Advanced Analytics\\n43% of companies experienced a high deficit of skilled resources with Advanced Analytical skills and AI implementing capabilities in year 2020. CAIA gives you a great opportunity to enter the world of future technologies and Innovations- Data Science, Analytics, AI, Data Visualization and Cloud Computing.\\n\\nWhile 2020 was a year like no other, we are living in an interesting times where data is reshaping the world, and businesses are rapidly adopting technology to gain an edge over others. Hence, there's a substantial increase in demand for technology professionals who can implement systems in data science, machine learning and AI in Tier 1 and Tier 2 organization's working closely with us.\\n\\nTo help you build a sustainable career we would like you to utilize data, software and Analytical approaches in Data Science and AI to up skill and get recruited into an organization appreciating your skilling journey.\\nApplications invited from all Freshers and experienced candidates (0-3 yrs) aspiring to make a career in Artificial Intelligence and Advanced Analytics and Data Science.\\nIf you wish to make a shift in your career or undergo a career transition, upskilling is essential since it allows you to learn more about the domain and acquire the required skills.\\n\\nCall to schedule interview Monday -Saturday from 10:00 am to 7Pm\\n\\nAlexandria A - +91 76958 88879\\nManigandan -+91 93444 57360\\n\\nEmail :\\n\\nalexandriaa@centerforaia.com\\nmanigandan@centerforaia.com\\n\\nWhat is needed from you?\\n\\nFreshers who wish to start their career in Analytics and AI and professionals who wish to\\nupskill or change their domain to analytics and emerging technologies are free to apply.\\nAn Educational background in any one of the following- BE/B.Tech, ME/M Tech, MSc, BSc/MSc Math's and Statistics, B Com, BCA, BSc CS, BSC IT, MSC IT, MCA\\nSkills relating to Mathematics/Statistics.\\nNatural passion towards numbers, business, coding, Analytics and Artificial Intelligence, Machine Learning, visualization\\nGood verbal and written communication skills\\nAbility to understand domains in businesses across various sectors\\n\\n\\nSelection procedure includes\\n\\nAptitude Test & Communication Exam - Online / Offline\\nSQL/Python test - Online / Offline\\n\\nCandidates who clears the above will have one-one discussion with our Career Guidance Manager for further evaluation and processing of your Resume.\\n\\n\\nAll the Shortlisted candidates will be eligible to continue the corporate training with CAIA\\nWhat you can expect from us?\\n\\nYou will get trained on the following modules for a period of 12-14 weeks:\\n\\nSQL & PLSQL\\nData Wrangling using Python\\nData Visualization Using Power-BI\\nStatistics for Machine Learning\\nArtificial Intelligence, Data Interpretation\\nSupervised & Unsupervised Learning,\\nNLP & Deep Learning\\nCloud Data Lake\\nBusiness intelligence & Data Visualization\\nSimulation Projects\\nExpected Outcome?\\n\\nAt the end of the Training you are expected to be well versed with the following:\\n\\nAnalysis of large and complex data sets from multiple sources\\nDevelopment and evaluation of data analytics models, algorithms and solutions\\nUnderstanding/implementation of ML algorithms, performance tuning and reporting\\nImplementation of algorithms to mine targeted data and the ability to convert data in to a business story\\nTranslation of business requirements into technical requirements; Data extraction, preparation and transformation\\nIdentification, development and implementation of statistical techniques and algorithms that address business challenges and adds value to the organization\\nRequirement Analysis and communication of findings in the form of a meaningful story with the stakeholders\\nFinding analytical solutions to abstract business issues.\\nApply objective analysis of facts before coming to a conclusion\\n\\nAbout CAIA - Inflexion Analytix Private Limited\\n\\nCenter for Artificial Intelligence and Advanced Analytics (Center for AIA) is the brainchild of experienced and visionary alumni of IIT Madras and Bombay.\\nDigital leaders - 5F World and Systech Solutions have joined hands to create a venture for architecting the future of society, workforce, governments and businesses. 5F World specializes in designing solutions around digital platforms and Systech Solutions has an expertise in architecting Artificial Intelligence and Advance Analytics solutions for Fortune 500 companies.\\nOur Website : http://www.centerforaia.com/\\n\\nhttps://inflexion-analytix-private-limited.business.site/?m=true\\n\\nCenter for Artificial Intelligence & Advanced Analytics (CAIA) focuses on the following:\\n\\n1. Global Research on emerging trends, technologies and applications in AI and Advanced Analytics\\n2. Advanced Training programs for readying the future ready workforce\\n3. Solutions to herald the futuristic lifestyle and workspaces in the field of AI and Data Science.\", 'Job Description\\nJob Role: Senior Data Scientist\\n\\n\\nReporting To: Head of Data Science\\n\\n\\nTotal Exp: 5 - 7 years\\n\\n\\nEducational Qualification: Post-Graduation in Statistics/Computer Science or related field from Premier Institute\\n\\n\\nJob Location: Bangalore\\n\\n\\nPURPOSE OF THE POSITION\\nTo be an independent data scientist and senior resource capable of doing various statistical modeling and predictive analysis for dynamic pricing, dynamic discounting, customer segmentation, and better business decision making\\n\\n\\nRoles and Responsibilities:\\nStrong statistical knowledge and hands-on experience with statistical, machine learning tools and techniques\\nDemonstrated capability to provide meaningful and actionable insights based on data analysis\\nStrong communication skills\\nSignificant experience in predictive modeling and statistical analyses\\nStrong capability of running multivariate regression models using Python/R/Java\\nAbility to conduct cluster analysis on large datasets\\nGood understanding and working experience with multiple data sources\\nHigh level of comfort with receiving, loading, cleansing, enriching & enhancing transactional data sources\\nAbility to proactively come up with solutions requiring minimal guidance\\nShould be a strong team player & able to work in the ambiguous environment with minimal guidance\\n\\nDesired Candidate Profile:\\n\\nWork on advanced data analysis to provide insights to different types of users\\nIdentify behavioral and attribute-based clusters using clustering techniques\\nConduct predictive analysis to create various what-if scenarios to drive organizational planning and marketing strategy\\nDevelop & apply algorithms operating on data to solve real-life business problems.\\nBe the go-to” person for all statistical modeling/analysis in the organization\\n5+ years of experience in statistical modeling/customer segmentation/predictive analysis in a quant-heavy organization\\nCandidates with strong business sense, problem-solving capabilities, and presentation skills will be preferred', 'About Us\\nMorgan Stanley is a leading global financial services firm providing a wide range of investment banking, securities, investment management and wealth management services. We advise, originate, trade, manage and distribute capital for governments, institutions and individuals. As a market leader, the talent and passion of our people is critical to our success. Together, we share a common set of values rooted in integrity, excellence and strong team ethic. We provide you a superior foundation for building a professional career where you can learn, achieve and grow.\\nTechnology/Role/Department at Morgan Stanley\\nTechnology is the key differentiator that ensures that we manage our global businesses and serve clients on a market leading platform that is resilient, safe, efficient, smart, fast and flexible. Technology redefines how we do business in global, complex and dynamic financial markets. We have a large number of award winning technology platforms that help to propel our Firm’s businesses to be the top in the market. Our India technology teams are based in Mumbai and Bengaluru. We have built strong techno-functional teams which partner with our offices globally taking global ownership of systems and products. We have a vibrant and diverse mix of technologists working on different technologies and functional domains. There is a large focus on innovation, inclusion, giving back to the community and sharing knowledge.\\nWealth Management Technology (WMIMT) is responsible for the design, development, delivery, and support of the technical platform behind the products and services used by the Business. Morgan Stanley Wealth Management (WM) is a product of the acquisition of Smith Barney from Citigroup, which was completed in June ‘13. Its core client base is individual investors, small- to medium-size businesses and institutions, and high net worth families and individuals. In the second half of ‘14, WM reached a milestone, with its business having surpassed $2 trillion in total client assets.\\nWe are seeking a Machine Learning Engineer with expertise in design and development of data and ML centric applications at scale. The right candidate would have a background in data engineering and requisite familiarity and experience working with Machine learning (ML) algorithms and Frameworks. The role is a confluence of engineering (programming), ML and data analysis. Knowledge of Data Science is a plus. This position is for the Decision products which is part of Artificial Intelligence and Knowledge Management group within Morgan Stanley Wealth Management. The team is comprised of members located in NY-United States, Mumbai-India and Bengaluru-India. The team partners with various businesses and IT groups within firm to develop analytics and ML powered solutions aimed at targeting Clients, Participants and Financial Advisors with relevant recommendations. The team accumulates data from a variety of internal and external upstream systems in order to develop statistics, models, dashboards and metrics for the Digital Platforms team.\\nThe right candidate has (Responsibilities)\\n• Create ML model training, validation and hyper-parameter search pipelines\\n• Explore new data sources and data. Select appropriate datasets and their representation methods. Perform data analysis (statistical and otherwise), to derive inferences from data\\n• Design machine learning systems, and oversee the platform on which the solutions would be deployed\\n• Ensure data integrity through – Data quality, validation, Governance and Transparency\\n• Design and Build distributed, scalable, and reliable data pipelines that ingest and process data at scale and in real-time\\n• Production deployment and Model monitoring to ensure stable performance and adherence to standards\\n• Evaluate state-of-art data-centric technologies and prototype solutions to improve our architecture and platform\\n• Understand data visualization to create meaningful dashboards for end-users\\nQualifications - External\\nPrimary skills\\n• Experienced professional with 8-15 years of experience developing and implementing ML models in Big data ecosystem i.e. Hadoop, Spark, Kafka, HBase, Hive / Impala, Cassandra, MongoDB or any other similar distributed computing technology\\n• Proficiency with Scala / Python and basic libraries for machine learning such as scikit-learn, pandas, deep-learning\\n• Proficiency in data analysis using complex and optimized SQL and / or above mentioned technologies\\n• Understanding of data structures, data modeling and software architecture\\n• Experience in architecture, design and implementation of data intensive applications for practical use-cases\\n• Expertise in visualizing large datasets in an efficient manner\\n• Ability to work in fast paced and dynamic environment\\n• Good written and verbal communication skills\\nGood to have skills\\n• In-depth understanding of Machine Learning and Statistics, in addition to above\\n• Experience in domains – Financial Risk and Log Analytics\\n• Worked on large scale Anomaly Detection use cases\\n• Practical knowledge of Natural Language Processing (NLP) and/or Neural network implementation\\n• Tableau for data visualization\\n• Experience working in an Agile environment\\n\\nIf you are interested, please respond with your updated resume along with below mentioned details.\\n\\nCTC:\\nExp:\\nNotice:\\nHave you earlier worked with Morgan Stanley:', 'BD (Becton, Dickinson and Company) Jobs - Lead Data Scientist in Bangalore, India BD (Becton, Dickinson and Company) Jobs BD (Becton, Dickinson and Company)\\nJob Description Summary\\nAs a member of the BD Advanced Analytics team, the Data Scientist role will collect, interpret, and deploy predictive analytics and machine learning models to assist our business partners in delivering advanced data analytics solutions to address key strategic business initiatives. The primary focus being the development and deployment of actionable insights that have a positive impact on BD s business operations.\\nJob Description\\nEvaluating business requirements and developing compelling user stories in collaboration with business stakeholders across various functions and regions\\nCollecting, interpreting, preparing and modelling data to provide actionable insights\\nPrototyping advanced data analytics solutions for presentation to business partners and stakeholders\\nApplying predictive analytics and machine learning methods and techniques appropriately to address business requirements\\nProvide expertise to guide business stakeholders in identifying opportunities for the use of BD s data assets for the purpose of advanced data analytics\\nWork closely with data engineering and DataOps peers to productionalize advanced data analytics use cases\\nQualifications\\nMaster s degree in STEM field or equivalent demonstrated work experience\\nExperience with Python, R, Hadoop, HIVE, SPARK, Jupyter and related advanced analytics / machine learning libraries (Scikitlearn, Tensorflow, Keras, )\\nMinimum 2 years of relevant work experience\\nAbility to translate complex solutions to a non-technical audience (storytelling visualization)\\nExpertise in machine learning, neural networks, clustering, classification, regression and other common advanced analytics methods and techniques\\nMature competency for critical thinking, problem solving, working with ambiguity, communications and collaboration\\nExperience with technologies related to data preparation, processing optimization (e.g. Azure, HQL, SPARK SQL)\\nExperience with data visualization tools (Power BI)\\nFlexibility to accommodate meetings with international stakeholders in their respective time-zone\\nIND Bangalore - Technology Campus\\nBD is a leading global medical technology company that creates medical technology, devices and laboratory equipment for a variety of needs across the healthcare continuum. At BD, we are looking for candidates who possess passion, innovative solutions and a commitment to our one mission of improving access to groundbreaking medical and biotechnology services for people near and far, delivering state-of-the-art technology and cutting-edge research in the battle to fight and cure infectious diseases. With a global reach that extends across 50 countries worldwide, our network of professionals collaborates on effective measures to deliver enhanced patient quality such as lower health care delivery costs, improved health care and safety, and expanded health care for all. Join our company and see how you can become a part of one global mission to make a difference in human health.\\nBecton, Dickinson and Company is an Equal Opportunity/Affirmative Action Employer. We do not unlawfully discriminate on the basis of race, color, religion, age, sex, creed, national origin, ancestry, citizenship status, marital or domestic or civil union status, familial status, affectional or sexual orientation, gender identity or expression, genetics, disability, military eligibility or veteran status, or any other protected status.', 'Position Description:\\nThe Artificial Intelligence and Machine Learning (AIML) group at Fractal Analytics is actively involved in helping Fortune 500 companies by enabling them to discover how they can leverage their data using advanced and sophisticated AI/ML algorithms for which we are looking for Data Scientists with the capability to work on independent statistical and machine learning research/ projects. If you are a problem solver with a curiosity for exploring new techniques and technologies in AIML space, then we would like to talk with you.\\nJob Responsibilities:\\nAbility to understand a problem statement and implement analytical solutions & techniques independently with independently/proactively/thought-leadership\\nWork with stakeholders throughout the organization to identify opportunities for leveraging company/client data to drive business solutions\\nFast learner: ability to learn and pick up a new language/tool/ platform quickly\\nConceptualize, design, and deliver high-quality solutions and insightful analysis\\nConduct research and prototyping innovations; data and requirements gathering; solution scoping and architecture; consulting clients and client facing teams on advanced statistical and machine learning problems\\nCollaborate and coordinate with different functional teams (engineering and product development) to implement models and monitor outcomes\\nAbility to deliver AIML based solutions around a host of domains and problems, with some of them being: Customer Segmentation & Targeting, Propensity Modeling, Churn Modeling, Lifetime Value Estimation, Forecasting, Recommender Systems, Modeling Response to Incentives, Marketing Mix Optimization, Price Optimization\\nExperience Required:\\nMinimum 10+ years of experience in Machine Learning domain\\nExpert level proficiency in at least one of R and Python\\nAbility to create efficient solutions to complex problems. Strong skills in data-structures and ML algorithms\\nExperience of working on end-to-end data science pipeline: problem scoping, data gathering, EDA, modelling, insights, visualizations, monitoring and maintenance\\nProblem-solving: Ability to break the problem into small parts and applying relevant techniques to drive required outcomes\\nIntermediate to advanced knowledge of machine learning, probability theory, statistics, and algorithms. You will be required to discuss and use various algorithms and approaches on a daily basis\\nWe use regression, Bayesian methods, tree-based learners, SVM, RF, XGBOOST, time series modeling, dimensionality reduction, SEM, GLM, GLMM, clustering, Deep learning etc. on a regular basis. If you know few of them you are good to go\\nGood to Have:\\nExperience in one of the upcoming technologies like deep learning, NLP, image processing, recommender systems\\nExperience of working in on one or more domains:\\nCPG: pricing and promotion analytics, marketing analytics, trade promotions, supply chain management\\nBFSI: cross-sell, up-sell, campaign analytics, treasury analytics, fraud detection\\nHealthcare: medical adherence, medical risk profiling, EHR data, fraud-waste-abuse\\nExperience in working with Linux computing environment and use of command line tools like sed/awk\\nGood grasp on databases including RDBMS, NoSQL, MongoDB etc.', 'Job Summary\\nThe candidate should be a Cybersecurity Data Scientist with a background in machine learning for cybersecurity applications.\\nHeShe will contribute, provide subject matter expertise in the area of cybersecurity for critical infrastructure systems.\\n\\nResearch, develop, design and implement machine learning algorithms for cyber threat detection in operational technology environments, under limited direction.\\nIdentify data types to enable detection of cyber events.\\nTest and validate developed algorithms on real operational data.\\nIdentify, define, and scope complex data analytics problems in the cybersecurity domain.\\nDevelop cross-domain strategies for increased network security and resiliency of the entire network.', 'Essential Duties Responsibilities\\nPerform basic descriptive data analysis\\nImplement and assess different ways of data transformation\\nFormulate business problems into math / statistics / machine-learning problems\\nBuild math / statistics / machine-learning models in a scientific way\\nCarry out hypothesis tests in a scientific way\\nDo model selection and model diagnostics\\nActively participate in research meetings\\nSupport the research team by creating desired datasets\\nQualifications\\nGood communication skills\\nExcellent analytical and data science skills with strong attention to detail\\nGood Python programmers with good knowledge of pandas/numpy/sklearn\\nGraduate level math and statistics knowledge is preferred\\nKnowledge in machine learning, NLP knowledge is a plus\\nAbility to communicate complex information clearly\\nAbility to work independently\\nTeam player and open to new ideas', 'We are a group of tenured professors from Tier-1 business schools in US universities. We teach machine learning and deep learning to master and PhD students. For our efforts with MentorStudents.org, we are looking to hire a team of interns who are interested in learning data science and analyze data under our supervision.\\n\\nHours commitment: at least 42.5 hrs/week\\n\\nDuration of the internship: 3 months\\n\\nRequired skills: Communication skills, Python, and OOP\\n\\nPerks (besides getting paid): Learn from professors who teach machine learning in the US\\n+ internship completion certificate\\n+ endorsement of your candidacy to US companies for a remote job via our placement business unit\\n+ networking (check out https://MentorStudents.org)\\n\\nNext step / TEST for Selection:\\nThis test will help you present your resume better and improve your employability. Hence, it is in your interest to work on this test. Create a tutorial in Google doc on how to create a timeline in Tableau Public. Use events from your resume as events for the timeline. You are encouraged to look at https://public.tableau.com/en-us/gallery for inspiration. Send your Google doc link at jobs [at] mentorstudents [dot] org. Make sure to make the link publicly accessible so that our team can evaluate your work.']\n"
     ]
    },
    {
     "data": {
      "text/plain": [
       "8"
      ]
     },
     "execution_count": 23,
     "metadata": {},
     "output_type": "execute_result"
    }
   ],
   "source": [
    "#Extract 8th Job description\n",
    "driver=webdriver.Chrome(r\"C:\\Users\\Akash\\Downloads\\chromedriver_win32\\chromedriver.exe\")\n",
    "url=\"https://www.naukri.com/job-listings-data-analytics-data-scientist-intern-work-from-home-talkvalley-llc-kolkata-bangalore-bengaluru-delhi-ncr-0-to-5-years-050621000128?src=jobsearchDesk&sid=16236737383639996&xp=8&px=1\"\n",
    "driver.get(url)\n",
    "titles_tag=driver.find_elements_by_xpath(\"//div[@class='dang-inner-html']\")\n",
    "\n",
    "for i in titles_tag:\n",
    "    jd.append(i.text)\n",
    "print(jd)\n",
    "len(jd)"
   ]
  },
  {
   "cell_type": "code",
   "execution_count": 24,
   "metadata": {},
   "outputs": [
    {
     "name": "stdout",
     "output_type": "stream",
     "text": [
      "[\"Job Role : Data Scientist/Data Analyst /Business Analyst\\n\\nLocation : Chennai/Bangalore/Hyderabad/Pune/Mumbai/Delhi\\n\\nGreetings from CAIA - Center for Artificial Intelligence & Advanced Analytics\\n43% of companies experienced a high deficit of skilled resources with Advanced Analytical skills and AI implementing capabilities in year 2020. CAIA gives you a great opportunity to enter the world of future technologies and Innovations- Data Science, Analytics, AI, Data Visualization and Cloud Computing.\\n\\nWhile 2020 was a year like no other, we are living in an interesting times where data is reshaping the world, and businesses are rapidly adopting technology to gain an edge over others. Hence, there's a substantial increase in demand for technology professionals who can implement systems in data science, machine learning and AI in Tier 1 and Tier 2 organization's working closely with us.\\n\\nTo help you build a sustainable career we would like you to utilize data, software and Analytical approaches in Data Science and AI to up skill and get recruited into an organization appreciating your skilling journey.\\nApplications invited from all Freshers and experienced candidates (0-3 yrs) aspiring to make a career in Artificial Intelligence and Advanced Analytics and Data Science.\\nIf you wish to make a shift in your career or undergo a career transition, upskilling is essential since it allows you to learn more about the domain and acquire the required skills.\\n\\nCall to schedule interview Monday -Saturday from 10:00 am to 7Pm\\n\\nAlexandria A - +91 76958 88879\\nManigandan -+91 93444 57360\\n\\nEmail :\\n\\nalexandriaa@centerforaia.com\\nmanigandan@centerforaia.com\\n\\nWhat is needed from you?\\n\\nFreshers who wish to start their career in Analytics and AI and professionals who wish to\\nupskill or change their domain to analytics and emerging technologies are free to apply.\\nAn Educational background in any one of the following- BE/B.Tech, ME/M Tech, MSc, BSc/MSc Math's and Statistics, B Com, BCA, BSc CS, BSC IT, MSC IT, MCA\\nSkills relating to Mathematics/Statistics.\\nNatural passion towards numbers, business, coding, Analytics and Artificial Intelligence, Machine Learning, visualization\\nGood verbal and written communication skills\\nAbility to understand domains in businesses across various sectors\\n\\n\\nSelection procedure includes\\n\\nAptitude Test & Communication Exam - Online / Offline\\nSQL/Python test - Online / Offline\\n\\nCandidates who clears the above will have one-one discussion with our Career Guidance Manager for further evaluation and processing of your Resume.\\n\\n\\nAll the Shortlisted candidates will be eligible to continue the corporate training with CAIA\\nWhat you can expect from us?\\n\\nYou will get trained on the following modules for a period of 12-14 weeks:\\n\\nSQL & PLSQL\\nData Wrangling using Python\\nData Visualization Using Power-BI\\nStatistics for Machine Learning\\nArtificial Intelligence, Data Interpretation\\nSupervised & Unsupervised Learning,\\nNLP & Deep Learning\\nCloud Data Lake\\nBusiness intelligence & Data Visualization\\nSimulation Projects\\nExpected Outcome?\\n\\nAt the end of the Training you are expected to be well versed with the following:\\n\\nAnalysis of large and complex data sets from multiple sources\\nDevelopment and evaluation of data analytics models, algorithms and solutions\\nUnderstanding/implementation of ML algorithms, performance tuning and reporting\\nImplementation of algorithms to mine targeted data and the ability to convert data in to a business story\\nTranslation of business requirements into technical requirements; Data extraction, preparation and transformation\\nIdentification, development and implementation of statistical techniques and algorithms that address business challenges and adds value to the organization\\nRequirement Analysis and communication of findings in the form of a meaningful story with the stakeholders\\nFinding analytical solutions to abstract business issues.\\nApply objective analysis of facts before coming to a conclusion\\n\\nAbout CAIA - Inflexion Analytix Private Limited\\n\\nCenter for Artificial Intelligence and Advanced Analytics (Center for AIA) is the brainchild of experienced and visionary alumni of IIT Madras and Bombay.\\nDigital leaders - 5F World and Systech Solutions have joined hands to create a venture for architecting the future of society, workforce, governments and businesses. 5F World specializes in designing solutions around digital platforms and Systech Solutions has an expertise in architecting Artificial Intelligence and Advance Analytics solutions for Fortune 500 companies.\\nOur Website : http://www.centerforaia.com/\\n\\nhttps://inflexion-analytix-private-limited.business.site/?m=true\\n\\nCenter for Artificial Intelligence & Advanced Analytics (CAIA) focuses on the following:\\n\\n1. Global Research on emerging trends, technologies and applications in AI and Advanced Analytics\\n2. Advanced Training programs for readying the future ready workforce\\n3. Solutions to herald the futuristic lifestyle and workspaces in the field of AI and Data Science.\", 'Job Description\\nJob Role: Senior Data Scientist\\n\\n\\nReporting To: Head of Data Science\\n\\n\\nTotal Exp: 5 - 7 years\\n\\n\\nEducational Qualification: Post-Graduation in Statistics/Computer Science or related field from Premier Institute\\n\\n\\nJob Location: Bangalore\\n\\n\\nPURPOSE OF THE POSITION\\nTo be an independent data scientist and senior resource capable of doing various statistical modeling and predictive analysis for dynamic pricing, dynamic discounting, customer segmentation, and better business decision making\\n\\n\\nRoles and Responsibilities:\\nStrong statistical knowledge and hands-on experience with statistical, machine learning tools and techniques\\nDemonstrated capability to provide meaningful and actionable insights based on data analysis\\nStrong communication skills\\nSignificant experience in predictive modeling and statistical analyses\\nStrong capability of running multivariate regression models using Python/R/Java\\nAbility to conduct cluster analysis on large datasets\\nGood understanding and working experience with multiple data sources\\nHigh level of comfort with receiving, loading, cleansing, enriching & enhancing transactional data sources\\nAbility to proactively come up with solutions requiring minimal guidance\\nShould be a strong team player & able to work in the ambiguous environment with minimal guidance\\n\\nDesired Candidate Profile:\\n\\nWork on advanced data analysis to provide insights to different types of users\\nIdentify behavioral and attribute-based clusters using clustering techniques\\nConduct predictive analysis to create various what-if scenarios to drive organizational planning and marketing strategy\\nDevelop & apply algorithms operating on data to solve real-life business problems.\\nBe the go-to” person for all statistical modeling/analysis in the organization\\n5+ years of experience in statistical modeling/customer segmentation/predictive analysis in a quant-heavy organization\\nCandidates with strong business sense, problem-solving capabilities, and presentation skills will be preferred', 'About Us\\nMorgan Stanley is a leading global financial services firm providing a wide range of investment banking, securities, investment management and wealth management services. We advise, originate, trade, manage and distribute capital for governments, institutions and individuals. As a market leader, the talent and passion of our people is critical to our success. Together, we share a common set of values rooted in integrity, excellence and strong team ethic. We provide you a superior foundation for building a professional career where you can learn, achieve and grow.\\nTechnology/Role/Department at Morgan Stanley\\nTechnology is the key differentiator that ensures that we manage our global businesses and serve clients on a market leading platform that is resilient, safe, efficient, smart, fast and flexible. Technology redefines how we do business in global, complex and dynamic financial markets. We have a large number of award winning technology platforms that help to propel our Firm’s businesses to be the top in the market. Our India technology teams are based in Mumbai and Bengaluru. We have built strong techno-functional teams which partner with our offices globally taking global ownership of systems and products. We have a vibrant and diverse mix of technologists working on different technologies and functional domains. There is a large focus on innovation, inclusion, giving back to the community and sharing knowledge.\\nWealth Management Technology (WMIMT) is responsible for the design, development, delivery, and support of the technical platform behind the products and services used by the Business. Morgan Stanley Wealth Management (WM) is a product of the acquisition of Smith Barney from Citigroup, which was completed in June ‘13. Its core client base is individual investors, small- to medium-size businesses and institutions, and high net worth families and individuals. In the second half of ‘14, WM reached a milestone, with its business having surpassed $2 trillion in total client assets.\\nWe are seeking a Machine Learning Engineer with expertise in design and development of data and ML centric applications at scale. The right candidate would have a background in data engineering and requisite familiarity and experience working with Machine learning (ML) algorithms and Frameworks. The role is a confluence of engineering (programming), ML and data analysis. Knowledge of Data Science is a plus. This position is for the Decision products which is part of Artificial Intelligence and Knowledge Management group within Morgan Stanley Wealth Management. The team is comprised of members located in NY-United States, Mumbai-India and Bengaluru-India. The team partners with various businesses and IT groups within firm to develop analytics and ML powered solutions aimed at targeting Clients, Participants and Financial Advisors with relevant recommendations. The team accumulates data from a variety of internal and external upstream systems in order to develop statistics, models, dashboards and metrics for the Digital Platforms team.\\nThe right candidate has (Responsibilities)\\n• Create ML model training, validation and hyper-parameter search pipelines\\n• Explore new data sources and data. Select appropriate datasets and their representation methods. Perform data analysis (statistical and otherwise), to derive inferences from data\\n• Design machine learning systems, and oversee the platform on which the solutions would be deployed\\n• Ensure data integrity through – Data quality, validation, Governance and Transparency\\n• Design and Build distributed, scalable, and reliable data pipelines that ingest and process data at scale and in real-time\\n• Production deployment and Model monitoring to ensure stable performance and adherence to standards\\n• Evaluate state-of-art data-centric technologies and prototype solutions to improve our architecture and platform\\n• Understand data visualization to create meaningful dashboards for end-users\\nQualifications - External\\nPrimary skills\\n• Experienced professional with 8-15 years of experience developing and implementing ML models in Big data ecosystem i.e. Hadoop, Spark, Kafka, HBase, Hive / Impala, Cassandra, MongoDB or any other similar distributed computing technology\\n• Proficiency with Scala / Python and basic libraries for machine learning such as scikit-learn, pandas, deep-learning\\n• Proficiency in data analysis using complex and optimized SQL and / or above mentioned technologies\\n• Understanding of data structures, data modeling and software architecture\\n• Experience in architecture, design and implementation of data intensive applications for practical use-cases\\n• Expertise in visualizing large datasets in an efficient manner\\n• Ability to work in fast paced and dynamic environment\\n• Good written and verbal communication skills\\nGood to have skills\\n• In-depth understanding of Machine Learning and Statistics, in addition to above\\n• Experience in domains – Financial Risk and Log Analytics\\n• Worked on large scale Anomaly Detection use cases\\n• Practical knowledge of Natural Language Processing (NLP) and/or Neural network implementation\\n• Tableau for data visualization\\n• Experience working in an Agile environment\\n\\nIf you are interested, please respond with your updated resume along with below mentioned details.\\n\\nCTC:\\nExp:\\nNotice:\\nHave you earlier worked with Morgan Stanley:', 'BD (Becton, Dickinson and Company) Jobs - Lead Data Scientist in Bangalore, India BD (Becton, Dickinson and Company) Jobs BD (Becton, Dickinson and Company)\\nJob Description Summary\\nAs a member of the BD Advanced Analytics team, the Data Scientist role will collect, interpret, and deploy predictive analytics and machine learning models to assist our business partners in delivering advanced data analytics solutions to address key strategic business initiatives. The primary focus being the development and deployment of actionable insights that have a positive impact on BD s business operations.\\nJob Description\\nEvaluating business requirements and developing compelling user stories in collaboration with business stakeholders across various functions and regions\\nCollecting, interpreting, preparing and modelling data to provide actionable insights\\nPrototyping advanced data analytics solutions for presentation to business partners and stakeholders\\nApplying predictive analytics and machine learning methods and techniques appropriately to address business requirements\\nProvide expertise to guide business stakeholders in identifying opportunities for the use of BD s data assets for the purpose of advanced data analytics\\nWork closely with data engineering and DataOps peers to productionalize advanced data analytics use cases\\nQualifications\\nMaster s degree in STEM field or equivalent demonstrated work experience\\nExperience with Python, R, Hadoop, HIVE, SPARK, Jupyter and related advanced analytics / machine learning libraries (Scikitlearn, Tensorflow, Keras, )\\nMinimum 2 years of relevant work experience\\nAbility to translate complex solutions to a non-technical audience (storytelling visualization)\\nExpertise in machine learning, neural networks, clustering, classification, regression and other common advanced analytics methods and techniques\\nMature competency for critical thinking, problem solving, working with ambiguity, communications and collaboration\\nExperience with technologies related to data preparation, processing optimization (e.g. Azure, HQL, SPARK SQL)\\nExperience with data visualization tools (Power BI)\\nFlexibility to accommodate meetings with international stakeholders in their respective time-zone\\nIND Bangalore - Technology Campus\\nBD is a leading global medical technology company that creates medical technology, devices and laboratory equipment for a variety of needs across the healthcare continuum. At BD, we are looking for candidates who possess passion, innovative solutions and a commitment to our one mission of improving access to groundbreaking medical and biotechnology services for people near and far, delivering state-of-the-art technology and cutting-edge research in the battle to fight and cure infectious diseases. With a global reach that extends across 50 countries worldwide, our network of professionals collaborates on effective measures to deliver enhanced patient quality such as lower health care delivery costs, improved health care and safety, and expanded health care for all. Join our company and see how you can become a part of one global mission to make a difference in human health.\\nBecton, Dickinson and Company is an Equal Opportunity/Affirmative Action Employer. We do not unlawfully discriminate on the basis of race, color, religion, age, sex, creed, national origin, ancestry, citizenship status, marital or domestic or civil union status, familial status, affectional or sexual orientation, gender identity or expression, genetics, disability, military eligibility or veteran status, or any other protected status.', 'Position Description:\\nThe Artificial Intelligence and Machine Learning (AIML) group at Fractal Analytics is actively involved in helping Fortune 500 companies by enabling them to discover how they can leverage their data using advanced and sophisticated AI/ML algorithms for which we are looking for Data Scientists with the capability to work on independent statistical and machine learning research/ projects. If you are a problem solver with a curiosity for exploring new techniques and technologies in AIML space, then we would like to talk with you.\\nJob Responsibilities:\\nAbility to understand a problem statement and implement analytical solutions & techniques independently with independently/proactively/thought-leadership\\nWork with stakeholders throughout the organization to identify opportunities for leveraging company/client data to drive business solutions\\nFast learner: ability to learn and pick up a new language/tool/ platform quickly\\nConceptualize, design, and deliver high-quality solutions and insightful analysis\\nConduct research and prototyping innovations; data and requirements gathering; solution scoping and architecture; consulting clients and client facing teams on advanced statistical and machine learning problems\\nCollaborate and coordinate with different functional teams (engineering and product development) to implement models and monitor outcomes\\nAbility to deliver AIML based solutions around a host of domains and problems, with some of them being: Customer Segmentation & Targeting, Propensity Modeling, Churn Modeling, Lifetime Value Estimation, Forecasting, Recommender Systems, Modeling Response to Incentives, Marketing Mix Optimization, Price Optimization\\nExperience Required:\\nMinimum 10+ years of experience in Machine Learning domain\\nExpert level proficiency in at least one of R and Python\\nAbility to create efficient solutions to complex problems. Strong skills in data-structures and ML algorithms\\nExperience of working on end-to-end data science pipeline: problem scoping, data gathering, EDA, modelling, insights, visualizations, monitoring and maintenance\\nProblem-solving: Ability to break the problem into small parts and applying relevant techniques to drive required outcomes\\nIntermediate to advanced knowledge of machine learning, probability theory, statistics, and algorithms. You will be required to discuss and use various algorithms and approaches on a daily basis\\nWe use regression, Bayesian methods, tree-based learners, SVM, RF, XGBOOST, time series modeling, dimensionality reduction, SEM, GLM, GLMM, clustering, Deep learning etc. on a regular basis. If you know few of them you are good to go\\nGood to Have:\\nExperience in one of the upcoming technologies like deep learning, NLP, image processing, recommender systems\\nExperience of working in on one or more domains:\\nCPG: pricing and promotion analytics, marketing analytics, trade promotions, supply chain management\\nBFSI: cross-sell, up-sell, campaign analytics, treasury analytics, fraud detection\\nHealthcare: medical adherence, medical risk profiling, EHR data, fraud-waste-abuse\\nExperience in working with Linux computing environment and use of command line tools like sed/awk\\nGood grasp on databases including RDBMS, NoSQL, MongoDB etc.', 'Job Summary\\nThe candidate should be a Cybersecurity Data Scientist with a background in machine learning for cybersecurity applications.\\nHeShe will contribute, provide subject matter expertise in the area of cybersecurity for critical infrastructure systems.\\n\\nResearch, develop, design and implement machine learning algorithms for cyber threat detection in operational technology environments, under limited direction.\\nIdentify data types to enable detection of cyber events.\\nTest and validate developed algorithms on real operational data.\\nIdentify, define, and scope complex data analytics problems in the cybersecurity domain.\\nDevelop cross-domain strategies for increased network security and resiliency of the entire network.', 'Essential Duties Responsibilities\\nPerform basic descriptive data analysis\\nImplement and assess different ways of data transformation\\nFormulate business problems into math / statistics / machine-learning problems\\nBuild math / statistics / machine-learning models in a scientific way\\nCarry out hypothesis tests in a scientific way\\nDo model selection and model diagnostics\\nActively participate in research meetings\\nSupport the research team by creating desired datasets\\nQualifications\\nGood communication skills\\nExcellent analytical and data science skills with strong attention to detail\\nGood Python programmers with good knowledge of pandas/numpy/sklearn\\nGraduate level math and statistics knowledge is preferred\\nKnowledge in machine learning, NLP knowledge is a plus\\nAbility to communicate complex information clearly\\nAbility to work independently\\nTeam player and open to new ideas', 'We are a group of tenured professors from Tier-1 business schools in US universities. We teach machine learning and deep learning to master and PhD students. For our efforts with MentorStudents.org, we are looking to hire a team of interns who are interested in learning data science and analyze data under our supervision.\\n\\nHours commitment: at least 42.5 hrs/week\\n\\nDuration of the internship: 3 months\\n\\nRequired skills: Communication skills, Python, and OOP\\n\\nPerks (besides getting paid): Learn from professors who teach machine learning in the US\\n+ internship completion certificate\\n+ endorsement of your candidacy to US companies for a remote job via our placement business unit\\n+ networking (check out https://MentorStudents.org)\\n\\nNext step / TEST for Selection:\\nThis test will help you present your resume better and improve your employability. Hence, it is in your interest to work on this test. Create a tutorial in Google doc on how to create a timeline in Tableau Public. Use events from your resume as events for the timeline. You are encouraged to look at https://public.tableau.com/en-us/gallery for inspiration. Send your Google doc link at jobs [at] mentorstudents [dot] org. Make sure to make the link publicly accessible so that our team can evaluate your work.', 'Job Description\\nAs a Data Scientist in the IBM Garage team you will part of a cross-functional team that delivers a unique client co-creation experience to accelerate client transformation.\\n\\nYour Role and Responsibilities\\nWho you are\\nYou are a key contributor to a pre-sales Garage team ,partnering with client to understand business problems and propose solutions.\\nYou demonstrate strong business acumen and ability to understand business problems, formulate hypotheses and test conclusions to influence solution design.\\nWhat you will do\\nContribute to co-creation of rapid proofs of concept and minimally viable solutions that demonstrate business value, leading to client investment in strategic solution .\\nTranslate business problems into leading-edge analytics solutions using consulting skills ,industry expertise and technical knowledge\\nDeliver meaningful insights and predict emerging trends to inform business solution that optimize client value\\nApply Data Engineering techniques to gather ,prepare, cleanse and transform client data for analysis and AI automation ,including automating data pipelines\\n\\nRequired Technical and Professional Expertise\\nExcellent understanding of machine learning and deep learning techniques and algorithms, such Deep CNNs, Optimizers, Feature Engineering, Transformers, etc.\\nExperience handling large scale production datasets and understanding of related challenges and processes to address them\\nExperience with common data science toolkits such as NumPy, scikit-learn, spaCy, Keras, PyTorch, etc. Excellence in at least one of these is highly desirable\\nExperience with NoSQL databases, such as MongoDB, DnamoDB, Cloudant etc and understanding of basic data wrangling techniques\\nGood to have academic training in a quantitative discipline and /or a specialized degree in data science or analytics .\\nPossesses relevant industry and /or business domain knowledge such finance or healthcare .\\n\\nPreferred Technical and Professional Expertise\\nDemonstrated experience in applying user centric approach to design and create compelling prototypes that lead to transformative change for the client\\nKnowledge of a variety of modern application of data science, including machine learning ,optimization ,neural networks and /or artificial intelligence that can be applied to solve client problems\\nDeep understanding of statistical machine learning models with Python or R to propose innovative solution\\nExpertise in the use of cloud based infrastructure to manage the volume and veracity of complex data streams .']\n"
     ]
    },
    {
     "data": {
      "text/plain": [
       "9"
      ]
     },
     "execution_count": 24,
     "metadata": {},
     "output_type": "execute_result"
    }
   ],
   "source": [
    "#Extract 9th Job description\n",
    "driver=webdriver.Chrome(r\"C:\\Users\\Akash\\Downloads\\chromedriver_win32\\chromedriver.exe\")\n",
    "url=\"https://www.naukri.com/job-listings-data-scientist-ibm-garage-ibm-india-pvt-limited-bengaluru-bangalore-2-to-6-years-080621904251?src=jobsearchDesk&sid=16236737383639996&xp=9&px=1\"\n",
    "driver.get(url)\n",
    "titles_tag=driver.find_elements_by_xpath(\"//div[@class='nConfig_textblock ']\")\n",
    "\n",
    "for i in titles_tag:\n",
    "    jd.append(i.text)\n",
    "print(jd)\n",
    "len(jd)"
   ]
  },
  {
   "cell_type": "code",
   "execution_count": 25,
   "metadata": {},
   "outputs": [
    {
     "name": "stdout",
     "output_type": "stream",
     "text": [
      "[\"Job Role : Data Scientist/Data Analyst /Business Analyst\\n\\nLocation : Chennai/Bangalore/Hyderabad/Pune/Mumbai/Delhi\\n\\nGreetings from CAIA - Center for Artificial Intelligence & Advanced Analytics\\n43% of companies experienced a high deficit of skilled resources with Advanced Analytical skills and AI implementing capabilities in year 2020. CAIA gives you a great opportunity to enter the world of future technologies and Innovations- Data Science, Analytics, AI, Data Visualization and Cloud Computing.\\n\\nWhile 2020 was a year like no other, we are living in an interesting times where data is reshaping the world, and businesses are rapidly adopting technology to gain an edge over others. Hence, there's a substantial increase in demand for technology professionals who can implement systems in data science, machine learning and AI in Tier 1 and Tier 2 organization's working closely with us.\\n\\nTo help you build a sustainable career we would like you to utilize data, software and Analytical approaches in Data Science and AI to up skill and get recruited into an organization appreciating your skilling journey.\\nApplications invited from all Freshers and experienced candidates (0-3 yrs) aspiring to make a career in Artificial Intelligence and Advanced Analytics and Data Science.\\nIf you wish to make a shift in your career or undergo a career transition, upskilling is essential since it allows you to learn more about the domain and acquire the required skills.\\n\\nCall to schedule interview Monday -Saturday from 10:00 am to 7Pm\\n\\nAlexandria A - +91 76958 88879\\nManigandan -+91 93444 57360\\n\\nEmail :\\n\\nalexandriaa@centerforaia.com\\nmanigandan@centerforaia.com\\n\\nWhat is needed from you?\\n\\nFreshers who wish to start their career in Analytics and AI and professionals who wish to\\nupskill or change their domain to analytics and emerging technologies are free to apply.\\nAn Educational background in any one of the following- BE/B.Tech, ME/M Tech, MSc, BSc/MSc Math's and Statistics, B Com, BCA, BSc CS, BSC IT, MSC IT, MCA\\nSkills relating to Mathematics/Statistics.\\nNatural passion towards numbers, business, coding, Analytics and Artificial Intelligence, Machine Learning, visualization\\nGood verbal and written communication skills\\nAbility to understand domains in businesses across various sectors\\n\\n\\nSelection procedure includes\\n\\nAptitude Test & Communication Exam - Online / Offline\\nSQL/Python test - Online / Offline\\n\\nCandidates who clears the above will have one-one discussion with our Career Guidance Manager for further evaluation and processing of your Resume.\\n\\n\\nAll the Shortlisted candidates will be eligible to continue the corporate training with CAIA\\nWhat you can expect from us?\\n\\nYou will get trained on the following modules for a period of 12-14 weeks:\\n\\nSQL & PLSQL\\nData Wrangling using Python\\nData Visualization Using Power-BI\\nStatistics for Machine Learning\\nArtificial Intelligence, Data Interpretation\\nSupervised & Unsupervised Learning,\\nNLP & Deep Learning\\nCloud Data Lake\\nBusiness intelligence & Data Visualization\\nSimulation Projects\\nExpected Outcome?\\n\\nAt the end of the Training you are expected to be well versed with the following:\\n\\nAnalysis of large and complex data sets from multiple sources\\nDevelopment and evaluation of data analytics models, algorithms and solutions\\nUnderstanding/implementation of ML algorithms, performance tuning and reporting\\nImplementation of algorithms to mine targeted data and the ability to convert data in to a business story\\nTranslation of business requirements into technical requirements; Data extraction, preparation and transformation\\nIdentification, development and implementation of statistical techniques and algorithms that address business challenges and adds value to the organization\\nRequirement Analysis and communication of findings in the form of a meaningful story with the stakeholders\\nFinding analytical solutions to abstract business issues.\\nApply objective analysis of facts before coming to a conclusion\\n\\nAbout CAIA - Inflexion Analytix Private Limited\\n\\nCenter for Artificial Intelligence and Advanced Analytics (Center for AIA) is the brainchild of experienced and visionary alumni of IIT Madras and Bombay.\\nDigital leaders - 5F World and Systech Solutions have joined hands to create a venture for architecting the future of society, workforce, governments and businesses. 5F World specializes in designing solutions around digital platforms and Systech Solutions has an expertise in architecting Artificial Intelligence and Advance Analytics solutions for Fortune 500 companies.\\nOur Website : http://www.centerforaia.com/\\n\\nhttps://inflexion-analytix-private-limited.business.site/?m=true\\n\\nCenter for Artificial Intelligence & Advanced Analytics (CAIA) focuses on the following:\\n\\n1. Global Research on emerging trends, technologies and applications in AI and Advanced Analytics\\n2. Advanced Training programs for readying the future ready workforce\\n3. Solutions to herald the futuristic lifestyle and workspaces in the field of AI and Data Science.\", 'Job Description\\nJob Role: Senior Data Scientist\\n\\n\\nReporting To: Head of Data Science\\n\\n\\nTotal Exp: 5 - 7 years\\n\\n\\nEducational Qualification: Post-Graduation in Statistics/Computer Science or related field from Premier Institute\\n\\n\\nJob Location: Bangalore\\n\\n\\nPURPOSE OF THE POSITION\\nTo be an independent data scientist and senior resource capable of doing various statistical modeling and predictive analysis for dynamic pricing, dynamic discounting, customer segmentation, and better business decision making\\n\\n\\nRoles and Responsibilities:\\nStrong statistical knowledge and hands-on experience with statistical, machine learning tools and techniques\\nDemonstrated capability to provide meaningful and actionable insights based on data analysis\\nStrong communication skills\\nSignificant experience in predictive modeling and statistical analyses\\nStrong capability of running multivariate regression models using Python/R/Java\\nAbility to conduct cluster analysis on large datasets\\nGood understanding and working experience with multiple data sources\\nHigh level of comfort with receiving, loading, cleansing, enriching & enhancing transactional data sources\\nAbility to proactively come up with solutions requiring minimal guidance\\nShould be a strong team player & able to work in the ambiguous environment with minimal guidance\\n\\nDesired Candidate Profile:\\n\\nWork on advanced data analysis to provide insights to different types of users\\nIdentify behavioral and attribute-based clusters using clustering techniques\\nConduct predictive analysis to create various what-if scenarios to drive organizational planning and marketing strategy\\nDevelop & apply algorithms operating on data to solve real-life business problems.\\nBe the go-to” person for all statistical modeling/analysis in the organization\\n5+ years of experience in statistical modeling/customer segmentation/predictive analysis in a quant-heavy organization\\nCandidates with strong business sense, problem-solving capabilities, and presentation skills will be preferred', 'About Us\\nMorgan Stanley is a leading global financial services firm providing a wide range of investment banking, securities, investment management and wealth management services. We advise, originate, trade, manage and distribute capital for governments, institutions and individuals. As a market leader, the talent and passion of our people is critical to our success. Together, we share a common set of values rooted in integrity, excellence and strong team ethic. We provide you a superior foundation for building a professional career where you can learn, achieve and grow.\\nTechnology/Role/Department at Morgan Stanley\\nTechnology is the key differentiator that ensures that we manage our global businesses and serve clients on a market leading platform that is resilient, safe, efficient, smart, fast and flexible. Technology redefines how we do business in global, complex and dynamic financial markets. We have a large number of award winning technology platforms that help to propel our Firm’s businesses to be the top in the market. Our India technology teams are based in Mumbai and Bengaluru. We have built strong techno-functional teams which partner with our offices globally taking global ownership of systems and products. We have a vibrant and diverse mix of technologists working on different technologies and functional domains. There is a large focus on innovation, inclusion, giving back to the community and sharing knowledge.\\nWealth Management Technology (WMIMT) is responsible for the design, development, delivery, and support of the technical platform behind the products and services used by the Business. Morgan Stanley Wealth Management (WM) is a product of the acquisition of Smith Barney from Citigroup, which was completed in June ‘13. Its core client base is individual investors, small- to medium-size businesses and institutions, and high net worth families and individuals. In the second half of ‘14, WM reached a milestone, with its business having surpassed $2 trillion in total client assets.\\nWe are seeking a Machine Learning Engineer with expertise in design and development of data and ML centric applications at scale. The right candidate would have a background in data engineering and requisite familiarity and experience working with Machine learning (ML) algorithms and Frameworks. The role is a confluence of engineering (programming), ML and data analysis. Knowledge of Data Science is a plus. This position is for the Decision products which is part of Artificial Intelligence and Knowledge Management group within Morgan Stanley Wealth Management. The team is comprised of members located in NY-United States, Mumbai-India and Bengaluru-India. The team partners with various businesses and IT groups within firm to develop analytics and ML powered solutions aimed at targeting Clients, Participants and Financial Advisors with relevant recommendations. The team accumulates data from a variety of internal and external upstream systems in order to develop statistics, models, dashboards and metrics for the Digital Platforms team.\\nThe right candidate has (Responsibilities)\\n• Create ML model training, validation and hyper-parameter search pipelines\\n• Explore new data sources and data. Select appropriate datasets and their representation methods. Perform data analysis (statistical and otherwise), to derive inferences from data\\n• Design machine learning systems, and oversee the platform on which the solutions would be deployed\\n• Ensure data integrity through – Data quality, validation, Governance and Transparency\\n• Design and Build distributed, scalable, and reliable data pipelines that ingest and process data at scale and in real-time\\n• Production deployment and Model monitoring to ensure stable performance and adherence to standards\\n• Evaluate state-of-art data-centric technologies and prototype solutions to improve our architecture and platform\\n• Understand data visualization to create meaningful dashboards for end-users\\nQualifications - External\\nPrimary skills\\n• Experienced professional with 8-15 years of experience developing and implementing ML models in Big data ecosystem i.e. Hadoop, Spark, Kafka, HBase, Hive / Impala, Cassandra, MongoDB or any other similar distributed computing technology\\n• Proficiency with Scala / Python and basic libraries for machine learning such as scikit-learn, pandas, deep-learning\\n• Proficiency in data analysis using complex and optimized SQL and / or above mentioned technologies\\n• Understanding of data structures, data modeling and software architecture\\n• Experience in architecture, design and implementation of data intensive applications for practical use-cases\\n• Expertise in visualizing large datasets in an efficient manner\\n• Ability to work in fast paced and dynamic environment\\n• Good written and verbal communication skills\\nGood to have skills\\n• In-depth understanding of Machine Learning and Statistics, in addition to above\\n• Experience in domains – Financial Risk and Log Analytics\\n• Worked on large scale Anomaly Detection use cases\\n• Practical knowledge of Natural Language Processing (NLP) and/or Neural network implementation\\n• Tableau for data visualization\\n• Experience working in an Agile environment\\n\\nIf you are interested, please respond with your updated resume along with below mentioned details.\\n\\nCTC:\\nExp:\\nNotice:\\nHave you earlier worked with Morgan Stanley:', 'BD (Becton, Dickinson and Company) Jobs - Lead Data Scientist in Bangalore, India BD (Becton, Dickinson and Company) Jobs BD (Becton, Dickinson and Company)\\nJob Description Summary\\nAs a member of the BD Advanced Analytics team, the Data Scientist role will collect, interpret, and deploy predictive analytics and machine learning models to assist our business partners in delivering advanced data analytics solutions to address key strategic business initiatives. The primary focus being the development and deployment of actionable insights that have a positive impact on BD s business operations.\\nJob Description\\nEvaluating business requirements and developing compelling user stories in collaboration with business stakeholders across various functions and regions\\nCollecting, interpreting, preparing and modelling data to provide actionable insights\\nPrototyping advanced data analytics solutions for presentation to business partners and stakeholders\\nApplying predictive analytics and machine learning methods and techniques appropriately to address business requirements\\nProvide expertise to guide business stakeholders in identifying opportunities for the use of BD s data assets for the purpose of advanced data analytics\\nWork closely with data engineering and DataOps peers to productionalize advanced data analytics use cases\\nQualifications\\nMaster s degree in STEM field or equivalent demonstrated work experience\\nExperience with Python, R, Hadoop, HIVE, SPARK, Jupyter and related advanced analytics / machine learning libraries (Scikitlearn, Tensorflow, Keras, )\\nMinimum 2 years of relevant work experience\\nAbility to translate complex solutions to a non-technical audience (storytelling visualization)\\nExpertise in machine learning, neural networks, clustering, classification, regression and other common advanced analytics methods and techniques\\nMature competency for critical thinking, problem solving, working with ambiguity, communications and collaboration\\nExperience with technologies related to data preparation, processing optimization (e.g. Azure, HQL, SPARK SQL)\\nExperience with data visualization tools (Power BI)\\nFlexibility to accommodate meetings with international stakeholders in their respective time-zone\\nIND Bangalore - Technology Campus\\nBD is a leading global medical technology company that creates medical technology, devices and laboratory equipment for a variety of needs across the healthcare continuum. At BD, we are looking for candidates who possess passion, innovative solutions and a commitment to our one mission of improving access to groundbreaking medical and biotechnology services for people near and far, delivering state-of-the-art technology and cutting-edge research in the battle to fight and cure infectious diseases. With a global reach that extends across 50 countries worldwide, our network of professionals collaborates on effective measures to deliver enhanced patient quality such as lower health care delivery costs, improved health care and safety, and expanded health care for all. Join our company and see how you can become a part of one global mission to make a difference in human health.\\nBecton, Dickinson and Company is an Equal Opportunity/Affirmative Action Employer. We do not unlawfully discriminate on the basis of race, color, religion, age, sex, creed, national origin, ancestry, citizenship status, marital or domestic or civil union status, familial status, affectional or sexual orientation, gender identity or expression, genetics, disability, military eligibility or veteran status, or any other protected status.', 'Position Description:\\nThe Artificial Intelligence and Machine Learning (AIML) group at Fractal Analytics is actively involved in helping Fortune 500 companies by enabling them to discover how they can leverage their data using advanced and sophisticated AI/ML algorithms for which we are looking for Data Scientists with the capability to work on independent statistical and machine learning research/ projects. If you are a problem solver with a curiosity for exploring new techniques and technologies in AIML space, then we would like to talk with you.\\nJob Responsibilities:\\nAbility to understand a problem statement and implement analytical solutions & techniques independently with independently/proactively/thought-leadership\\nWork with stakeholders throughout the organization to identify opportunities for leveraging company/client data to drive business solutions\\nFast learner: ability to learn and pick up a new language/tool/ platform quickly\\nConceptualize, design, and deliver high-quality solutions and insightful analysis\\nConduct research and prototyping innovations; data and requirements gathering; solution scoping and architecture; consulting clients and client facing teams on advanced statistical and machine learning problems\\nCollaborate and coordinate with different functional teams (engineering and product development) to implement models and monitor outcomes\\nAbility to deliver AIML based solutions around a host of domains and problems, with some of them being: Customer Segmentation & Targeting, Propensity Modeling, Churn Modeling, Lifetime Value Estimation, Forecasting, Recommender Systems, Modeling Response to Incentives, Marketing Mix Optimization, Price Optimization\\nExperience Required:\\nMinimum 10+ years of experience in Machine Learning domain\\nExpert level proficiency in at least one of R and Python\\nAbility to create efficient solutions to complex problems. Strong skills in data-structures and ML algorithms\\nExperience of working on end-to-end data science pipeline: problem scoping, data gathering, EDA, modelling, insights, visualizations, monitoring and maintenance\\nProblem-solving: Ability to break the problem into small parts and applying relevant techniques to drive required outcomes\\nIntermediate to advanced knowledge of machine learning, probability theory, statistics, and algorithms. You will be required to discuss and use various algorithms and approaches on a daily basis\\nWe use regression, Bayesian methods, tree-based learners, SVM, RF, XGBOOST, time series modeling, dimensionality reduction, SEM, GLM, GLMM, clustering, Deep learning etc. on a regular basis. If you know few of them you are good to go\\nGood to Have:\\nExperience in one of the upcoming technologies like deep learning, NLP, image processing, recommender systems\\nExperience of working in on one or more domains:\\nCPG: pricing and promotion analytics, marketing analytics, trade promotions, supply chain management\\nBFSI: cross-sell, up-sell, campaign analytics, treasury analytics, fraud detection\\nHealthcare: medical adherence, medical risk profiling, EHR data, fraud-waste-abuse\\nExperience in working with Linux computing environment and use of command line tools like sed/awk\\nGood grasp on databases including RDBMS, NoSQL, MongoDB etc.', 'Job Summary\\nThe candidate should be a Cybersecurity Data Scientist with a background in machine learning for cybersecurity applications.\\nHeShe will contribute, provide subject matter expertise in the area of cybersecurity for critical infrastructure systems.\\n\\nResearch, develop, design and implement machine learning algorithms for cyber threat detection in operational technology environments, under limited direction.\\nIdentify data types to enable detection of cyber events.\\nTest and validate developed algorithms on real operational data.\\nIdentify, define, and scope complex data analytics problems in the cybersecurity domain.\\nDevelop cross-domain strategies for increased network security and resiliency of the entire network.', 'Essential Duties Responsibilities\\nPerform basic descriptive data analysis\\nImplement and assess different ways of data transformation\\nFormulate business problems into math / statistics / machine-learning problems\\nBuild math / statistics / machine-learning models in a scientific way\\nCarry out hypothesis tests in a scientific way\\nDo model selection and model diagnostics\\nActively participate in research meetings\\nSupport the research team by creating desired datasets\\nQualifications\\nGood communication skills\\nExcellent analytical and data science skills with strong attention to detail\\nGood Python programmers with good knowledge of pandas/numpy/sklearn\\nGraduate level math and statistics knowledge is preferred\\nKnowledge in machine learning, NLP knowledge is a plus\\nAbility to communicate complex information clearly\\nAbility to work independently\\nTeam player and open to new ideas', 'We are a group of tenured professors from Tier-1 business schools in US universities. We teach machine learning and deep learning to master and PhD students. For our efforts with MentorStudents.org, we are looking to hire a team of interns who are interested in learning data science and analyze data under our supervision.\\n\\nHours commitment: at least 42.5 hrs/week\\n\\nDuration of the internship: 3 months\\n\\nRequired skills: Communication skills, Python, and OOP\\n\\nPerks (besides getting paid): Learn from professors who teach machine learning in the US\\n+ internship completion certificate\\n+ endorsement of your candidacy to US companies for a remote job via our placement business unit\\n+ networking (check out https://MentorStudents.org)\\n\\nNext step / TEST for Selection:\\nThis test will help you present your resume better and improve your employability. Hence, it is in your interest to work on this test. Create a tutorial in Google doc on how to create a timeline in Tableau Public. Use events from your resume as events for the timeline. You are encouraged to look at https://public.tableau.com/en-us/gallery for inspiration. Send your Google doc link at jobs [at] mentorstudents [dot] org. Make sure to make the link publicly accessible so that our team can evaluate your work.', 'Job Description\\nAs a Data Scientist in the IBM Garage team you will part of a cross-functional team that delivers a unique client co-creation experience to accelerate client transformation.\\n\\nYour Role and Responsibilities\\nWho you are\\nYou are a key contributor to a pre-sales Garage team ,partnering with client to understand business problems and propose solutions.\\nYou demonstrate strong business acumen and ability to understand business problems, formulate hypotheses and test conclusions to influence solution design.\\nWhat you will do\\nContribute to co-creation of rapid proofs of concept and minimally viable solutions that demonstrate business value, leading to client investment in strategic solution .\\nTranslate business problems into leading-edge analytics solutions using consulting skills ,industry expertise and technical knowledge\\nDeliver meaningful insights and predict emerging trends to inform business solution that optimize client value\\nApply Data Engineering techniques to gather ,prepare, cleanse and transform client data for analysis and AI automation ,including automating data pipelines\\n\\nRequired Technical and Professional Expertise\\nExcellent understanding of machine learning and deep learning techniques and algorithms, such Deep CNNs, Optimizers, Feature Engineering, Transformers, etc.\\nExperience handling large scale production datasets and understanding of related challenges and processes to address them\\nExperience with common data science toolkits such as NumPy, scikit-learn, spaCy, Keras, PyTorch, etc. Excellence in at least one of these is highly desirable\\nExperience with NoSQL databases, such as MongoDB, DnamoDB, Cloudant etc and understanding of basic data wrangling techniques\\nGood to have academic training in a quantitative discipline and /or a specialized degree in data science or analytics .\\nPossesses relevant industry and /or business domain knowledge such finance or healthcare .\\n\\nPreferred Technical and Professional Expertise\\nDemonstrated experience in applying user centric approach to design and create compelling prototypes that lead to transformative change for the client\\nKnowledge of a variety of modern application of data science, including machine learning ,optimization ,neural networks and /or artificial intelligence that can be applied to solve client problems\\nDeep understanding of statistical machine learning models with Python or R to propose innovative solution\\nExpertise in the use of cloud based infrastructure to manage the volume and veracity of complex data streams .', 'Job Description\\nWe are looking for applicants who will thrive in an open, dynamic, flexible, collaborative environment and desire creative freedom and an opportunity to work with high performing teams, who can join in 15 to 20 days.\\nWe are looking for a Data Scientist that will help us discover the information hidden in vast amounts of data for our client projects and help us derive cognitive based solutions for. Your primary focus will be in applying data mining techniques, doing statistical analysis and building high quality prediction systems integrated with our solutions like Automate scoring using machine learning techniques”, “build recommendation systems”, “improve and extend the features used by our existing classifier”, “develop internal A/B testing procedures”, “build system for automated fraud detection”, etc.\\nResponsibilities:\\nSelecting features, building and optimizing classifiers using machine learning techniques\\nData mining using state-of-the-art methods\\nExtending company’s data with third party sources of information when needed\\nEnhancing data collection procedures to include information that is relevant for building analytic systems\\nProcessing, cleansing, and verifying the integrity of data used for analysis\\nDoing ad-hoc analysis and presenting results in a clear manner\\nCreating automated anomaly detection systems and constant tracking of its performance\\nUnderstands the Data science methodologies to the existing enterprise services to bring in the cognitive edge as the differentiators\\nSkills & Qualifications:\\nSolid knowledge of several statistical modeling and learning techniques. Hands on Coding in Azure Databricks, PySparks, Azure AI/ML services and Python/R\\nExpertise in use of algorithmic / quantitative techniques to solve problems across following four areas\\nStructured data analysis and programming\\nUnstructured content mining\\nNatural language processing\\nMachine learning\\nExperience in Azure platform (good to have)\\nTechnically hands-on experience in Azure Machine Learning services, Azure ML Studio, Azure Cognitive toolkit, designing, building and training machines etc.,\\nExcellent understanding of machine learning techniques and algorithms, such as k-NN, Naive Bayes, SVM, Decision Forests, etc.\\nExperience with common data science toolkits, such as Anaconda, NumPy, MatLab, Pandas, Seaborn, SciKit-Learn, NLTK, etc . Excellence in at least one of these is highly desirable\\nGreat communication skills\\nExperience with data visualization tools, such as D3.js, GGplot, etc.\\nGood applied statistics skills, such as distributions, statistical testing, regression, etc.\\nGood scripting and programming skills\\nProficiency in using query languages such as SQL, Hive, Pig etc.,\\nExperience with NoSQL databases, such as MongoDB, Cassandra, HBase\\nExperience working with enterprise architecture for the complex solutions solving business problems and complying to organization policies\\nMaster of Technology in Data Science specialization']\n"
     ]
    },
    {
     "data": {
      "text/plain": [
       "10"
      ]
     },
     "execution_count": 25,
     "metadata": {},
     "output_type": "execute_result"
    }
   ],
   "source": [
    "#Extract 10th Job description\n",
    "driver=webdriver.Chrome(r\"C:\\Users\\Akash\\Downloads\\chromedriver_win32\\chromedriver.exe\")\n",
    "url=\"https://www.naukri.com/job-listings-digital-enterprise-architect-data-scientist-mphasis-limited-bangalore-bengaluru-10-to-13-years-030621902728?src=jobsearchDesk&sid=16236737383639996&xp=10&px=1\"\n",
    "driver.get(url)\n",
    "titles_tag=driver.find_elements_by_xpath(\"//div[@class='nConfig_textblock ']\")\n",
    "\n",
    "for i in titles_tag:\n",
    "    jd.append(i.text)\n",
    "print(jd)\n",
    "len(jd)"
   ]
  },
  {
   "cell_type": "code",
   "execution_count": 27,
   "metadata": {},
   "outputs": [
    {
     "data": {
      "text/plain": [
       "['Data Scientist / Data Analyst -Business Analyst',\n",
       " 'Senior Data Scientist',\n",
       " 'VP - Sr. Data Scientist For Morgan Stanley, Bangalore',\n",
       " 'Lead Data Scientist',\n",
       " 'Lead Data Scientist',\n",
       " 'Lead Data Scientist',\n",
       " 'data scientist',\n",
       " 'Data analytics / Data scientist intern (work from Home)',\n",
       " 'Data Scientist - IBM Garage',\n",
       " 'Digital Enterprise Architect (Data Scientist)']"
      ]
     },
     "execution_count": 27,
     "metadata": {},
     "output_type": "execute_result"
    }
   ],
   "source": [
    "job_title[0:10]"
   ]
  },
  {
   "cell_type": "code",
   "execution_count": 28,
   "metadata": {},
   "outputs": [
    {
     "data": {
      "text/html": [
       "<div>\n",
       "<style scoped>\n",
       "    .dataframe tbody tr th:only-of-type {\n",
       "        vertical-align: middle;\n",
       "    }\n",
       "\n",
       "    .dataframe tbody tr th {\n",
       "        vertical-align: top;\n",
       "    }\n",
       "\n",
       "    .dataframe thead th {\n",
       "        text-align: right;\n",
       "    }\n",
       "</style>\n",
       "<table border=\"1\" class=\"dataframe\">\n",
       "  <thead>\n",
       "    <tr style=\"text-align: right;\">\n",
       "      <th></th>\n",
       "      <th>Job Title</th>\n",
       "      <th>Location</th>\n",
       "      <th>Company Name</th>\n",
       "      <th>Full Job Description</th>\n",
       "    </tr>\n",
       "  </thead>\n",
       "  <tbody>\n",
       "    <tr>\n",
       "      <th>0</th>\n",
       "      <td>Data Scientist / Data Analyst -Business Analyst</td>\n",
       "      <td>Mumbai, Hyderabad/Secunderabad, Pune, Gurgaon/...</td>\n",
       "      <td>Inflexion Analytix Private Limited</td>\n",
       "      <td>Job Role : Data Scientist/Data Analyst /Busine...</td>\n",
       "    </tr>\n",
       "    <tr>\n",
       "      <th>1</th>\n",
       "      <td>Senior Data Scientist</td>\n",
       "      <td>Bangalore/Bengaluru</td>\n",
       "      <td>RedBus</td>\n",
       "      <td>Job Description\\nJob Role: Senior Data Scienti...</td>\n",
       "    </tr>\n",
       "    <tr>\n",
       "      <th>2</th>\n",
       "      <td>VP - Sr. Data Scientist For Morgan Stanley, Ba...</td>\n",
       "      <td>Bangalore/Bengaluru</td>\n",
       "      <td>Morgan Stanley Advantage Services</td>\n",
       "      <td>About Us\\nMorgan Stanley is a leading global f...</td>\n",
       "    </tr>\n",
       "    <tr>\n",
       "      <th>3</th>\n",
       "      <td>Lead Data Scientist</td>\n",
       "      <td>Bangalore/Bengaluru</td>\n",
       "      <td>bd</td>\n",
       "      <td>BD (Becton, Dickinson and Company) Jobs - Lead...</td>\n",
       "    </tr>\n",
       "    <tr>\n",
       "      <th>4</th>\n",
       "      <td>Lead Data Scientist</td>\n",
       "      <td>Gurgaon/Gurugram, Bangalore/Bengaluru, Mumbai ...</td>\n",
       "      <td>Fractal Analytics</td>\n",
       "      <td>Position Description:\\nThe Artificial Intellig...</td>\n",
       "    </tr>\n",
       "    <tr>\n",
       "      <th>5</th>\n",
       "      <td>Lead Data Scientist</td>\n",
       "      <td>Bangalore/Bengaluru</td>\n",
       "      <td>FICO</td>\n",
       "      <td>Job Summary\\nThe candidate should be a Cyberse...</td>\n",
       "    </tr>\n",
       "    <tr>\n",
       "      <th>6</th>\n",
       "      <td>data scientist</td>\n",
       "      <td>Bangalore/Bengaluru</td>\n",
       "      <td>Global Talent Pool</td>\n",
       "      <td>Essential Duties Responsibilities\\nPerform bas...</td>\n",
       "    </tr>\n",
       "    <tr>\n",
       "      <th>7</th>\n",
       "      <td>Data analytics / Data scientist intern (work f...</td>\n",
       "      <td>Kolkata, Bangalore/Bengaluru, Delhi / NCR</td>\n",
       "      <td>TalkValley LLC</td>\n",
       "      <td>We are a group of tenured professors from Tier...</td>\n",
       "    </tr>\n",
       "    <tr>\n",
       "      <th>8</th>\n",
       "      <td>Data Scientist - IBM Garage</td>\n",
       "      <td>Bengaluru/Bangalore</td>\n",
       "      <td>IBM India Pvt. Limited</td>\n",
       "      <td>Job Description\\nAs a Data Scientist in the IB...</td>\n",
       "    </tr>\n",
       "    <tr>\n",
       "      <th>9</th>\n",
       "      <td>Digital Enterprise Architect (Data Scientist)</td>\n",
       "      <td>Bangalore/Bengaluru</td>\n",
       "      <td>Mphasis Limited</td>\n",
       "      <td>Job Description\\nWe are looking for applicants...</td>\n",
       "    </tr>\n",
       "  </tbody>\n",
       "</table>\n",
       "</div>"
      ],
      "text/plain": [
       "                                           Job Title  \\\n",
       "0    Data Scientist / Data Analyst -Business Analyst   \n",
       "1                              Senior Data Scientist   \n",
       "2  VP - Sr. Data Scientist For Morgan Stanley, Ba...   \n",
       "3                                Lead Data Scientist   \n",
       "4                                Lead Data Scientist   \n",
       "5                                Lead Data Scientist   \n",
       "6                                     data scientist   \n",
       "7  Data analytics / Data scientist intern (work f...   \n",
       "8                        Data Scientist - IBM Garage   \n",
       "9      Digital Enterprise Architect (Data Scientist)   \n",
       "\n",
       "                                            Location  \\\n",
       "0  Mumbai, Hyderabad/Secunderabad, Pune, Gurgaon/...   \n",
       "1                                Bangalore/Bengaluru   \n",
       "2                                Bangalore/Bengaluru   \n",
       "3                                Bangalore/Bengaluru   \n",
       "4  Gurgaon/Gurugram, Bangalore/Bengaluru, Mumbai ...   \n",
       "5                                Bangalore/Bengaluru   \n",
       "6                                Bangalore/Bengaluru   \n",
       "7          Kolkata, Bangalore/Bengaluru, Delhi / NCR   \n",
       "8                                Bengaluru/Bangalore   \n",
       "9                                Bangalore/Bengaluru   \n",
       "\n",
       "                         Company Name  \\\n",
       "0  Inflexion Analytix Private Limited   \n",
       "1                              RedBus   \n",
       "2   Morgan Stanley Advantage Services   \n",
       "3                                  bd   \n",
       "4                   Fractal Analytics   \n",
       "5                                FICO   \n",
       "6                  Global Talent Pool   \n",
       "7                      TalkValley LLC   \n",
       "8              IBM India Pvt. Limited   \n",
       "9                     Mphasis Limited   \n",
       "\n",
       "                                Full Job Description  \n",
       "0  Job Role : Data Scientist/Data Analyst /Busine...  \n",
       "1  Job Description\\nJob Role: Senior Data Scienti...  \n",
       "2  About Us\\nMorgan Stanley is a leading global f...  \n",
       "3  BD (Becton, Dickinson and Company) Jobs - Lead...  \n",
       "4  Position Description:\\nThe Artificial Intellig...  \n",
       "5  Job Summary\\nThe candidate should be a Cyberse...  \n",
       "6  Essential Duties Responsibilities\\nPerform bas...  \n",
       "7  We are a group of tenured professors from Tier...  \n",
       "8  Job Description\\nAs a Data Scientist in the IB...  \n",
       "9  Job Description\\nWe are looking for applicants...  "
      ]
     },
     "execution_count": 28,
     "metadata": {},
     "output_type": "execute_result"
    }
   ],
   "source": [
    "#Dataframe for Q2\n",
    "job=pd.DataFrame()\n",
    "job[\"Job Title\"]=job_title[0:10]\n",
    "job[\"Location\"]=location[0:10]\n",
    "job[\"Company Name\"]=company_name[0:10]\n",
    "job[\"Full Job Description\"]=jd\n",
    "\n",
    "job"
   ]
  },
  {
   "cell_type": "markdown",
   "metadata": {},
   "source": [
    "# Question 3"
   ]
  },
  {
   "cell_type": "code",
   "execution_count": 29,
   "metadata": {},
   "outputs": [],
   "source": [
    "#Lets first connect to web driver\n",
    "driver=webdriver.Chrome(r\"C:\\Users\\Akash\\Downloads\\chromedriver_win32\\chromedriver.exe\")\n",
    "#Connect URL\n",
    "url=\"https://www.naukri.com/\"\n",
    "driver.get(url)"
   ]
  },
  {
   "cell_type": "code",
   "execution_count": 30,
   "metadata": {},
   "outputs": [],
   "source": [
    "\n",
    "#Finding element for job search\n",
    "search_job=driver.find_element_by_id('qsb-keyword-sugg')\n",
    "\n",
    "#Write on search bar\n",
    "search_job.send_keys('Data Scientist')\n",
    "\n",
    "#Click search button using XPath\n",
    "search_btn=driver.find_element_by_xpath(\"//button[@class='btn']\")\n",
    "search_btn.click()"
   ]
  },
  {
   "cell_type": "code",
   "execution_count": 57,
   "metadata": {},
   "outputs": [],
   "source": [
    "#Click on filter Delhi/NCr\n",
    "loc=driver.find_element_by_xpath(\"/html/body/div[1]/div[3]/div[2]/section[1]/div[2]/div[1]/div[2]/div[2]/label/i\")\n",
    "loc.click()"
   ]
  },
  {
   "cell_type": "code",
   "execution_count": 58,
   "metadata": {},
   "outputs": [],
   "source": [
    "#Click on filter 3-6 Lakh\n",
    "loc=driver.find_element_by_xpath(\"/html/body/div[1]/div[3]/div[2]/section[1]/div[2]/div[3]/div[2]/div[2]/label/i\")\n",
    "loc.click()"
   ]
  },
  {
   "cell_type": "code",
   "execution_count": 59,
   "metadata": {},
   "outputs": [
    {
     "name": "stdout",
     "output_type": "stream",
     "text": [
      "['Data Scientist / Data Analyst -Business Analyst', 'Data analytics / Data scientist intern (work from Home)', 'Chaayos is Looking For Data Scientist', 'Data Scientist', 'Junior Data Scientist', 'We are hiring- Data Scientist +Python- Noida', 'Data Scientist', 'Data Analyst/Scientist Big Data, Statistical Techniques', 'Business Analyst- Data Scientist', 'Data Scientist', 'Senior Data Scientist', 'Data Scientist - High growth VC backed Influencer Marketplace', 'Data Scientist', 'Data Scientist', 'Data Scientist', 'Data Scientist', 'Associate Data Scientist', 'Associate Data Scientist', 'Data Scientist Machine Learning', 'Data Scientist - Python/ SQL']\n"
     ]
    },
    {
     "data": {
      "text/plain": [
       "20"
      ]
     },
     "execution_count": 59,
     "metadata": {},
     "output_type": "execute_result"
    }
   ],
   "source": [
    "#Job title\n",
    "#Extract all the job titles\n",
    "titles_tag=driver.find_elements_by_xpath(\"//a[@class='title fw500 ellipsis']\")\n",
    "job_title=[]\n",
    "for i in titles_tag:\n",
    "    job_title.append(i.text)\n",
    "print(job_title)\n",
    "len(job_title)"
   ]
  },
  {
   "cell_type": "code",
   "execution_count": 60,
   "metadata": {},
   "outputs": [
    {
     "name": "stdout",
     "output_type": "stream",
     "text": [
      "['Mumbai, Hyderabad/Secunderabad, Pune, Gurgaon/Gurugram, Chennai, Bangalore/Bengaluru', 'Kolkata, Bangalore/Bengaluru, Delhi / NCR', 'New Delhi', 'Mumbai, Gurgaon/Gurugram, Bangalore/Bengaluru', 'Noida(Sector-59 Noida)', 'Noida, Gurgaon/Gurugram, Delhi / NCR', 'Gurgaon/Gurugram, Delhi / NCR', 'Gurgaon/Gurugram', 'Noida, Gurgaon/Gurugram', 'Gurgaon/Gurugram', 'Delhi', 'Bangalore/Bengaluru, Delhi / NCR, Mumbai (All Areas)', 'Gurgaon/Gurugram, Bangalore/Bengaluru', 'Bharuch, Jaipur, Bhopal, Mumbai, Jhansi, Nagpur, Ghaziabad, Jaunpur, Kanpur, New Delhi, Lucknow, Agra, Gurgaon/Gurugram, Rajkot, Bangalore/Bengaluru', 'New Delhi', 'Delhi', 'Noida', 'New Delhi', 'Gurgaon/Gurugram', 'Noida, Gurgaon/Gurugram, Delhi / NCR']\n"
     ]
    },
    {
     "data": {
      "text/plain": [
       "20"
      ]
     },
     "execution_count": 60,
     "metadata": {},
     "output_type": "execute_result"
    }
   ],
   "source": [
    "#Job location\n",
    "titles_tag=driver.find_elements_by_xpath(\"//li[@class='fleft grey-text br2 placeHolderLi location']//span\")\n",
    "location=[]\n",
    "for i in titles_tag:\n",
    "    location.append(i.text)\n",
    "print(location)\n",
    "len(location)"
   ]
  },
  {
   "cell_type": "code",
   "execution_count": 61,
   "metadata": {},
   "outputs": [
    {
     "name": "stdout",
     "output_type": "stream",
     "text": [
      "['Inflexion Analytix Private Limited', 'TalkValley LLC', 'Chaayos (Sunshine Teahouse Pvt. Ltd.)', 'Fractal Analytics', 'R Systems International Ltd.', 'RANDSTAD INDIA PVT LTD', 'Milliman India Pvt Ltd', 'The Search House (A Div of JSD Search House Pvt. L td.)', 'Wipro', 'Evalueserve.com Pvt. Ltd', 'iNICU', 'Ravgins International Pvt. Ltd.', 'BlackBuck', 'Country Veggie', 'Mahajan Imaging', 'Mahajan Imaging', 'Right Step Consulting', 'Blow Trumpet Solutions', 'Delhivery', 'Schlesinger Group']\n"
     ]
    },
    {
     "data": {
      "text/plain": [
       "20"
      ]
     },
     "execution_count": 61,
     "metadata": {},
     "output_type": "execute_result"
    }
   ],
   "source": [
    "#Company name\n",
    "titles_tag=driver.find_elements_by_xpath(\"//a[@class='subTitle ellipsis fleft']\")\n",
    "company_name=[]\n",
    "for i in titles_tag:\n",
    "    company_name.append(i.text)\n",
    "print(company_name)\n",
    "len(company_name)"
   ]
  },
  {
   "cell_type": "code",
   "execution_count": 62,
   "metadata": {},
   "outputs": [
    {
     "name": "stdout",
     "output_type": "stream",
     "text": [
      "['0-3 Yrs', '0-5 Yrs', '0-5 Yrs', '3-7 Yrs', '3-5 Yrs', '4-7 Yrs', '2-5 Yrs', '2-7 Yrs', '2-5 Yrs', '4-7 Yrs', '1-5 Yrs', '3-5 Yrs', '3-7 Yrs', '1-3 Yrs', '2-6 Yrs', '2-6 Yrs', '3-6 Yrs', '1-5 Yrs', '1-3 Yrs', '3-6 Yrs']\n"
     ]
    },
    {
     "data": {
      "text/plain": [
       "20"
      ]
     },
     "execution_count": 62,
     "metadata": {},
     "output_type": "execute_result"
    }
   ],
   "source": [
    "#Experience required\n",
    "titles_tag=driver.find_elements_by_xpath(\"//li[@class='fleft grey-text br2 placeHolderLi experience']//span\")\n",
    "experience=[]\n",
    "for i in titles_tag:\n",
    "    experience.append(i.text)\n",
    "print(experience)\n",
    "len(experience)"
   ]
  },
  {
   "cell_type": "code",
   "execution_count": 63,
   "metadata": {},
   "outputs": [
    {
     "data": {
      "text/html": [
       "<div>\n",
       "<style scoped>\n",
       "    .dataframe tbody tr th:only-of-type {\n",
       "        vertical-align: middle;\n",
       "    }\n",
       "\n",
       "    .dataframe tbody tr th {\n",
       "        vertical-align: top;\n",
       "    }\n",
       "\n",
       "    .dataframe thead th {\n",
       "        text-align: right;\n",
       "    }\n",
       "</style>\n",
       "<table border=\"1\" class=\"dataframe\">\n",
       "  <thead>\n",
       "    <tr style=\"text-align: right;\">\n",
       "      <th></th>\n",
       "      <th>Job Title</th>\n",
       "      <th>Location</th>\n",
       "      <th>Company Name</th>\n",
       "      <th>Experience requires</th>\n",
       "    </tr>\n",
       "  </thead>\n",
       "  <tbody>\n",
       "    <tr>\n",
       "      <th>0</th>\n",
       "      <td>Data Scientist / Data Analyst -Business Analyst</td>\n",
       "      <td>Mumbai, Hyderabad/Secunderabad, Pune, Gurgaon/...</td>\n",
       "      <td>Inflexion Analytix Private Limited</td>\n",
       "      <td>0-3 Yrs</td>\n",
       "    </tr>\n",
       "    <tr>\n",
       "      <th>1</th>\n",
       "      <td>Data analytics / Data scientist intern (work f...</td>\n",
       "      <td>Kolkata, Bangalore/Bengaluru, Delhi / NCR</td>\n",
       "      <td>TalkValley LLC</td>\n",
       "      <td>0-5 Yrs</td>\n",
       "    </tr>\n",
       "    <tr>\n",
       "      <th>2</th>\n",
       "      <td>Chaayos is Looking For Data Scientist</td>\n",
       "      <td>New Delhi</td>\n",
       "      <td>Chaayos (Sunshine Teahouse Pvt. Ltd.)</td>\n",
       "      <td>0-5 Yrs</td>\n",
       "    </tr>\n",
       "    <tr>\n",
       "      <th>3</th>\n",
       "      <td>Data Scientist</td>\n",
       "      <td>Mumbai, Gurgaon/Gurugram, Bangalore/Bengaluru</td>\n",
       "      <td>Fractal Analytics</td>\n",
       "      <td>3-7 Yrs</td>\n",
       "    </tr>\n",
       "    <tr>\n",
       "      <th>4</th>\n",
       "      <td>Junior Data Scientist</td>\n",
       "      <td>Noida(Sector-59 Noida)</td>\n",
       "      <td>R Systems International Ltd.</td>\n",
       "      <td>3-5 Yrs</td>\n",
       "    </tr>\n",
       "    <tr>\n",
       "      <th>5</th>\n",
       "      <td>We are hiring- Data Scientist +Python- Noida</td>\n",
       "      <td>Noida, Gurgaon/Gurugram, Delhi / NCR</td>\n",
       "      <td>RANDSTAD INDIA PVT LTD</td>\n",
       "      <td>4-7 Yrs</td>\n",
       "    </tr>\n",
       "    <tr>\n",
       "      <th>6</th>\n",
       "      <td>Data Scientist</td>\n",
       "      <td>Gurgaon/Gurugram, Delhi / NCR</td>\n",
       "      <td>Milliman India Pvt Ltd</td>\n",
       "      <td>2-5 Yrs</td>\n",
       "    </tr>\n",
       "    <tr>\n",
       "      <th>7</th>\n",
       "      <td>Data Analyst/Scientist Big Data, Statistical T...</td>\n",
       "      <td>Gurgaon/Gurugram</td>\n",
       "      <td>The Search House (A Div of JSD Search House Pv...</td>\n",
       "      <td>2-7 Yrs</td>\n",
       "    </tr>\n",
       "    <tr>\n",
       "      <th>8</th>\n",
       "      <td>Business Analyst- Data Scientist</td>\n",
       "      <td>Noida, Gurgaon/Gurugram</td>\n",
       "      <td>Wipro</td>\n",
       "      <td>2-5 Yrs</td>\n",
       "    </tr>\n",
       "    <tr>\n",
       "      <th>9</th>\n",
       "      <td>Data Scientist</td>\n",
       "      <td>Gurgaon/Gurugram</td>\n",
       "      <td>Evalueserve.com Pvt. Ltd</td>\n",
       "      <td>4-7 Yrs</td>\n",
       "    </tr>\n",
       "  </tbody>\n",
       "</table>\n",
       "</div>"
      ],
      "text/plain": [
       "                                           Job Title  \\\n",
       "0    Data Scientist / Data Analyst -Business Analyst   \n",
       "1  Data analytics / Data scientist intern (work f...   \n",
       "2              Chaayos is Looking For Data Scientist   \n",
       "3                                     Data Scientist   \n",
       "4                              Junior Data Scientist   \n",
       "5       We are hiring- Data Scientist +Python- Noida   \n",
       "6                                     Data Scientist   \n",
       "7  Data Analyst/Scientist Big Data, Statistical T...   \n",
       "8                   Business Analyst- Data Scientist   \n",
       "9                                     Data Scientist   \n",
       "\n",
       "                                            Location  \\\n",
       "0  Mumbai, Hyderabad/Secunderabad, Pune, Gurgaon/...   \n",
       "1          Kolkata, Bangalore/Bengaluru, Delhi / NCR   \n",
       "2                                          New Delhi   \n",
       "3      Mumbai, Gurgaon/Gurugram, Bangalore/Bengaluru   \n",
       "4                             Noida(Sector-59 Noida)   \n",
       "5               Noida, Gurgaon/Gurugram, Delhi / NCR   \n",
       "6                      Gurgaon/Gurugram, Delhi / NCR   \n",
       "7                                   Gurgaon/Gurugram   \n",
       "8                            Noida, Gurgaon/Gurugram   \n",
       "9                                   Gurgaon/Gurugram   \n",
       "\n",
       "                                        Company Name Experience requires  \n",
       "0                 Inflexion Analytix Private Limited             0-3 Yrs  \n",
       "1                                     TalkValley LLC             0-5 Yrs  \n",
       "2              Chaayos (Sunshine Teahouse Pvt. Ltd.)             0-5 Yrs  \n",
       "3                                  Fractal Analytics             3-7 Yrs  \n",
       "4                       R Systems International Ltd.             3-5 Yrs  \n",
       "5                             RANDSTAD INDIA PVT LTD             4-7 Yrs  \n",
       "6                             Milliman India Pvt Ltd             2-5 Yrs  \n",
       "7  The Search House (A Div of JSD Search House Pv...             2-7 Yrs  \n",
       "8                                              Wipro             2-5 Yrs  \n",
       "9                           Evalueserve.com Pvt. Ltd             4-7 Yrs  "
      ]
     },
     "execution_count": 63,
     "metadata": {},
     "output_type": "execute_result"
    }
   ],
   "source": [
    "# Dataframe for Q3\n",
    "job=pd.DataFrame()\n",
    "job[\"Job Title\"]=job_title[0:10]\n",
    "job[\"Location\"]=location[0:10]\n",
    "job[\"Company Name\"]=company_name[0:10]\n",
    "job[\"Experience requires\"]=experience[0:10]\n",
    "\n",
    "job"
   ]
  },
  {
   "cell_type": "markdown",
   "metadata": {},
   "source": [
    "# Question-5"
   ]
  },
  {
   "cell_type": "code",
   "execution_count": 4,
   "metadata": {},
   "outputs": [],
   "source": [
    "#Python program to scrape data for first 10 job results for Data scientist Designation in Noida location. \n",
    "#You have to scrape company_name, No. of days ago when job was posted, Rating of the company.\n",
    "#Lets first connect to web driver\n",
    "driver=webdriver.Chrome(r\"C:\\Users\\Akash\\Downloads\\chromedriver_win32\\chromedriver.exe\")\n",
    "#Connect URL\n",
    "url=\"https://www.glassdoor.co.in/Salaries/index.htm\"\n",
    "driver.get(url)"
   ]
  },
  {
   "cell_type": "code",
   "execution_count": 8,
   "metadata": {},
   "outputs": [],
   "source": [
    "search_job=driver.find_element_by_id(\"KeywordSearch\")\n",
    "#Write on search bar\n",
    "search_job.send_keys(\"Data Scientist\")\n",
    "\n",
    "#Finding element for job location\n",
    "search_loc=driver.find_element_by_id(\"LocationSearch\")\n",
    "#Write on search bar\n",
    "search_loc.send_keys('Noida')\n",
    "\n",
    "search_btn=driver.find_element_by_xpath(\"/html/body/div[3]/div/div[1]/div[1]/div/div/form/button\")\n",
    "search_btn.click()"
   ]
  },
  {
   "cell_type": "code",
   "execution_count": 11,
   "metadata": {},
   "outputs": [
    {
     "name": "stdout",
     "output_type": "stream",
     "text": [
      "['Tata Consultancy Services', 'IBM', 'Accenture', 'Ericsson-Worldwide', 'Delhivery', 'UnitedHealth Group', 'Optum Global Solutions', 'Valiance Solutions', 'ZS Associates', 'EXL Service', 'Innovaccer', 'Optum', 'Cognizant Technology Solutions', 'dunnhumby', 'Vidooly Media Tech', 'Tech Mahindra', 'OYO', 'Nagarro', 'R Systems', 'CARS24.com']\n"
     ]
    },
    {
     "data": {
      "text/plain": [
       "20"
      ]
     },
     "execution_count": 11,
     "metadata": {},
     "output_type": "execute_result"
    }
   ],
   "source": [
    "#Extract all the job titles\n",
    "titles_tag=driver.find_elements_by_xpath(\"//p[@class='m-0 ']\")\n",
    "company_name=[]\n",
    "for i in titles_tag:\n",
    "    company_name.append(i.text)\n",
    "print(company_name)\n",
    "len(company_name)"
   ]
  },
  {
   "cell_type": "code",
   "execution_count": 12,
   "metadata": {},
   "outputs": [
    {
     "name": "stdout",
     "output_type": "stream",
     "text": [
      "['17 salaries', '15 salaries', '14 salaries', '14 salaries', '14 salaries', '11 salaries', '9 salaries', '9 salaries', '8 salaries', '8 salaries', '8 salaries', '7 salaries', '6 salaries', '6 salaries', '6 salaries', '5 salaries', '5 salaries', '5 salaries', '5 salaries', '5 salaries']\n"
     ]
    },
    {
     "data": {
      "text/plain": [
       "20"
      ]
     },
     "execution_count": 12,
     "metadata": {},
     "output_type": "execute_result"
    }
   ],
   "source": [
    "#Extract number of salaries\n",
    "titles_tag=driver.find_elements_by_xpath(\"//p[@class='css-1uyte9r css-1kuy7z7 m-0 ']\")\n",
    "nos=[]\n",
    "for i in titles_tag:\n",
    "    nos.append(i.text)\n",
    "print(nos)\n",
    "len(nos)"
   ]
  },
  {
   "cell_type": "code",
   "execution_count": 14,
   "metadata": {},
   "outputs": [
    {
     "name": "stdout",
     "output_type": "stream",
     "text": [
      "['₹ 6,15,289\\n/yr', '₹ 9,00,000\\n/yr', '₹ 11,48,366\\n/yr', '₹ 7,39,238\\n/yr', '₹ 12,41,763\\n/yr', '₹ 13,38,279\\n/yr', '₹ 13,28,697\\n/yr', '₹ 8,16,495\\n/yr', '₹ 11,42,356\\n/yr', '₹ 11,46,073\\n/yr', '₹ 12,09,040\\n/yr', '₹ 12,18,244\\n/yr', '₹ 10,09,021\\n/yr', '₹ 10,55,478\\n/yr', '₹ 34,157\\n/mo', '₹ 10,54,402\\n/yr', '₹ 14,15,338\\n/yr', '₹ 9,63,190\\n/yr', '₹ 18,40,134\\n/yr', '₹ 10,00,000\\n/yr']\n"
     ]
    },
    {
     "data": {
      "text/plain": [
       "20"
      ]
     },
     "execution_count": 14,
     "metadata": {},
     "output_type": "execute_result"
    }
   ],
   "source": [
    "#Average salaries\n",
    "titles_tag=driver.find_elements_by_xpath(\"//div[@class='col-2 d-none d-md-flex flex-row justify-content-end']\")\n",
    "avg_sal=[]\n",
    "for i in titles_tag:\n",
    "    avg_sal.append(i.text)\n",
    "print(avg_sal)\n",
    "len(avg_sal)"
   ]
  },
  {
   "cell_type": "code",
   "execution_count": null,
   "metadata": {},
   "outputs": [],
   "source": [
    "#Salary range\n",
    "titles_tag=driver.find_elements_by_xpath(\"//div[@class='common__RangeBarStyle__values d-flex justify-content-between ']\")\n",
    "sal=[]\n",
    "for i in titles_tag:\n",
    "    sal.append(i.text.split(\"\\n\"))\n",
    "print(sal)\n",
    "len(sal)"
   ]
  },
  {
   "cell_type": "code",
   "execution_count": null,
   "metadata": {},
   "outputs": [],
   "source": [
    "#Minimum Salary\n",
    "min_sal=[]\n",
    "for i in range(0,10):\n",
    "    min_sal.append(sal[i][0])\n",
    "min_sal "
   ]
  },
  {
   "cell_type": "code",
   "execution_count": null,
   "metadata": {},
   "outputs": [],
   "source": [
    "#Maximun Salary\n",
    "max_sal=[]\n",
    "for i in range(0,10):\n",
    "    max_sal.append(sal[i][1])\n",
    "max_sal "
   ]
  },
  {
   "cell_type": "code",
   "execution_count": 52,
   "metadata": {},
   "outputs": [
    {
     "data": {
      "text/html": [
       "<div>\n",
       "<style scoped>\n",
       "    .dataframe tbody tr th:only-of-type {\n",
       "        vertical-align: middle;\n",
       "    }\n",
       "\n",
       "    .dataframe tbody tr th {\n",
       "        vertical-align: top;\n",
       "    }\n",
       "\n",
       "    .dataframe thead th {\n",
       "        text-align: right;\n",
       "    }\n",
       "</style>\n",
       "<table border=\"1\" class=\"dataframe\">\n",
       "  <thead>\n",
       "    <tr style=\"text-align: right;\">\n",
       "      <th></th>\n",
       "      <th>Company Name</th>\n",
       "      <th>No of salaries</th>\n",
       "      <th>Average Salary</th>\n",
       "      <th>Minimum Salary</th>\n",
       "      <th>Maximum Salary</th>\n",
       "    </tr>\n",
       "  </thead>\n",
       "  <tbody>\n",
       "    <tr>\n",
       "      <th>0</th>\n",
       "      <td>Tata Consultancy Services</td>\n",
       "      <td>17 salaries</td>\n",
       "      <td>₹ 6,15,289\\n/yr</td>\n",
       "      <td>₹343K</td>\n",
       "      <td>₹1,250K</td>\n",
       "    </tr>\n",
       "    <tr>\n",
       "      <th>1</th>\n",
       "      <td>IBM</td>\n",
       "      <td>15 salaries</td>\n",
       "      <td>₹ 9,00,000\\n/yr</td>\n",
       "      <td>₹587K</td>\n",
       "      <td>₹2,734K</td>\n",
       "    </tr>\n",
       "    <tr>\n",
       "      <th>2</th>\n",
       "      <td>Accenture</td>\n",
       "      <td>14 salaries</td>\n",
       "      <td>₹ 11,48,366\\n/yr</td>\n",
       "      <td>₹578K</td>\n",
       "      <td>₹2,217K</td>\n",
       "    </tr>\n",
       "    <tr>\n",
       "      <th>3</th>\n",
       "      <td>Ericsson-Worldwide</td>\n",
       "      <td>14 salaries</td>\n",
       "      <td>₹ 7,39,238\\n/yr</td>\n",
       "      <td>₹355K</td>\n",
       "      <td>₹1,615K</td>\n",
       "    </tr>\n",
       "    <tr>\n",
       "      <th>4</th>\n",
       "      <td>Delhivery</td>\n",
       "      <td>14 salaries</td>\n",
       "      <td>₹ 12,41,763\\n/yr</td>\n",
       "      <td>₹451K</td>\n",
       "      <td>₹11,640K</td>\n",
       "    </tr>\n",
       "    <tr>\n",
       "      <th>5</th>\n",
       "      <td>UnitedHealth Group</td>\n",
       "      <td>11 salaries</td>\n",
       "      <td>₹ 13,38,279\\n/yr</td>\n",
       "      <td>₹1,071K</td>\n",
       "      <td>₹1,523K</td>\n",
       "    </tr>\n",
       "    <tr>\n",
       "      <th>6</th>\n",
       "      <td>Optum Global Solutions</td>\n",
       "      <td>9 salaries</td>\n",
       "      <td>₹ 13,28,697\\n/yr</td>\n",
       "      <td>₹350K</td>\n",
       "      <td>₹2,152K</td>\n",
       "    </tr>\n",
       "    <tr>\n",
       "      <th>7</th>\n",
       "      <td>Valiance Solutions</td>\n",
       "      <td>9 salaries</td>\n",
       "      <td>₹ 8,16,495\\n/yr</td>\n",
       "      <td>₹502K</td>\n",
       "      <td>₹1,467K</td>\n",
       "    </tr>\n",
       "    <tr>\n",
       "      <th>8</th>\n",
       "      <td>ZS Associates</td>\n",
       "      <td>8 salaries</td>\n",
       "      <td>₹ 11,42,356\\n/yr</td>\n",
       "      <td>₹202K</td>\n",
       "      <td>₹1,812K</td>\n",
       "    </tr>\n",
       "    <tr>\n",
       "      <th>9</th>\n",
       "      <td>EXL Service</td>\n",
       "      <td>8 salaries</td>\n",
       "      <td>₹ 11,46,073\\n/yr</td>\n",
       "      <td>₹576K</td>\n",
       "      <td>₹1,523K</td>\n",
       "    </tr>\n",
       "  </tbody>\n",
       "</table>\n",
       "</div>"
      ],
      "text/plain": [
       "                Company Name No of salaries    Average Salary Minimum Salary  \\\n",
       "0  Tata Consultancy Services    17 salaries   ₹ 6,15,289\\n/yr          ₹343K   \n",
       "1                        IBM    15 salaries   ₹ 9,00,000\\n/yr          ₹587K   \n",
       "2                  Accenture    14 salaries  ₹ 11,48,366\\n/yr          ₹578K   \n",
       "3         Ericsson-Worldwide    14 salaries   ₹ 7,39,238\\n/yr          ₹355K   \n",
       "4                  Delhivery    14 salaries  ₹ 12,41,763\\n/yr          ₹451K   \n",
       "5         UnitedHealth Group    11 salaries  ₹ 13,38,279\\n/yr        ₹1,071K   \n",
       "6     Optum Global Solutions     9 salaries  ₹ 13,28,697\\n/yr          ₹350K   \n",
       "7         Valiance Solutions     9 salaries   ₹ 8,16,495\\n/yr          ₹502K   \n",
       "8              ZS Associates     8 salaries  ₹ 11,42,356\\n/yr          ₹202K   \n",
       "9                EXL Service     8 salaries  ₹ 11,46,073\\n/yr          ₹576K   \n",
       "\n",
       "  Maximum Salary  \n",
       "0        ₹1,250K  \n",
       "1        ₹2,734K  \n",
       "2        ₹2,217K  \n",
       "3        ₹1,615K  \n",
       "4       ₹11,640K  \n",
       "5        ₹1,523K  \n",
       "6        ₹2,152K  \n",
       "7        ₹1,467K  \n",
       "8        ₹1,812K  \n",
       "9        ₹1,523K  "
      ]
     },
     "execution_count": 52,
     "metadata": {},
     "output_type": "execute_result"
    }
   ],
   "source": [
    "# Dataframe for Q5\n",
    "job=pd.DataFrame()\n",
    "job[\"Company Name\"]=company_name[0:10]\n",
    "job[\"No of salaries\"]=nos[0:10]\n",
    "job[\"Average Salary\"]=avg_sal[0:10]\n",
    "job[\"Minimum Salary\"]=min_sal[0:10]\n",
    "job[\"Maximum Salary\"]=max_sal[0:10]\n",
    "\n",
    "job"
   ]
  },
  {
   "cell_type": "markdown",
   "metadata": {},
   "source": [
    "# Question-6"
   ]
  },
  {
   "cell_type": "code",
   "execution_count": 77,
   "metadata": {},
   "outputs": [],
   "source": [
    "#Q6 : Scrape data of first 100 sunglasses listings on flipkart.com. You have to scrape four attributes:\n",
    "#1. Brand\n",
    "#2. Product Description\n",
    "#3. Price\n",
    "#4. Discount %\n",
    "driver=webdriver.Chrome(r\"C:\\Users\\Akash\\Downloads\\chromedriver_win32\\chromedriver.exe\")\n",
    "#Connect URL\n",
    "url=\"https://www.flipkart.com/\"\n",
    "driver.get(url)"
   ]
  },
  {
   "cell_type": "code",
   "execution_count": 79,
   "metadata": {},
   "outputs": [],
   "source": [
    "#Type \"Sunglasses in search bar\"\n",
    "search=driver.find_element_by_xpath(\"/html/body/div/div/div[1]/div[1]/div[2]/div[2]/form/div/div/input\")\n",
    "#Write on search bar\n",
    "search.send_keys('Sunglasses')"
   ]
  },
  {
   "cell_type": "code",
   "execution_count": 80,
   "metadata": {},
   "outputs": [],
   "source": [
    "#Click on button\n",
    "search_btn=driver.find_element_by_xpath(\"/html/body/div/div/div[1]/div[1]/div[2]/div[2]/form/div/button\")\n",
    "search_btn.click()"
   ]
  },
  {
   "cell_type": "code",
   "execution_count": 81,
   "metadata": {},
   "outputs": [
    {
     "name": "stdout",
     "output_type": "stream",
     "text": [
      "['ROZZETTA CRAFT', 'VINCENT CHASE', 'PIRASO', 'Fastrack', 'DEIXELS', 'Singco India', 'ROZZETTA CRAFT', 'ROYAL SON', 'HIPPON', 'ROYAL SON', 'Silver Kartz', 'ROYAL SON', 'PHENOMENAL', 'GANSTA', 'Singco', 'ROZZETTA CRAFT', 'NuVew', 'hipe', 'Poland', 'Villain', 'Wrogn', 'FOSSIL', 'elegante', 'Singco India', 'Flizz', 'IRUS by IDEE', 'Fravy', 'AISLIN', 'Ray-Ban', 'Cristiano Ronnie', 'Mi', 'ROYAL SON', 'United Colors of Benetton.', 'Fastrack', 'PIRASO', 'ROYAL SON', 'ROZZETTA CRAFT', 'ROYAL SON', 'Singco India', 'NuVew']\n"
     ]
    },
    {
     "data": {
      "text/plain": [
       "40"
      ]
     },
     "execution_count": 81,
     "metadata": {},
     "output_type": "execute_result"
    }
   ],
   "source": [
    "#Extract all the brand\n",
    "titles_tag=driver.find_elements_by_xpath(\"//div[@class='_2WkVRV']\")\n",
    "brand=[]\n",
    "for i in titles_tag:\n",
    "    brand.append(i.text)\n",
    "print(brand)\n",
    "len(brand)"
   ]
  },
  {
   "cell_type": "code",
   "execution_count": 82,
   "metadata": {},
   "outputs": [
    {
     "name": "stdout",
     "output_type": "stream",
     "text": [
      "['UV Protection, Gradient Rectangular Sunglasses (Free Si...', 'by Lenskart UV Protection Wayfarer Sunglasses (49)', 'UV Protection Aviator Sunglasses (54)', 'UV Protection Rectangular Sunglasses (Free Size)', 'UV Protection Aviator, Wayfarer Sunglasses (Free Size)', 'UV Protection, Riding Glasses, Others Aviator, Wayfarer...', 'UV Protection, Gradient Rectangular Sunglasses (Free Si...', 'UV Protection Retro Square Sunglasses (88)', 'UV Protection Wayfarer Sunglasses (55)', 'UV Protection, Gradient Wayfarer Sunglasses (55)', 'UV Protection Wayfarer Sunglasses (Free Size)', 'UV Protection Retro Square Sunglasses (Free Size)', 'UV Protection Aviator Sunglasses (57)', 'Mirrored Aviator Sunglasses (53)', 'UV Protection Shield Sunglasses (54)', 'UV Protection Aviator Sunglasses (58)', 'Mirrored, UV Protection, Gradient Round Sunglasses (55)', 'UV Protection Wayfarer Sunglasses (Free Size)', 'Others Wayfarer Sunglasses (Free Size)', 'UV Protection Wayfarer Sunglasses (56)', 'Mirrored Round Sunglasses (51)', 'UV Protection Round Sunglasses (Free Size)', 'Mirrored, UV Protection, Riding Glasses, Others Wrap-ar...', 'UV Protection Retro Square Sunglasses (Free Size)', 'Others Rectangular Sunglasses (56)', 'UV Protection, Gradient, Night Vision Retro Square Sung...', 'UV Protection, Gradient Butterfly, Retro Square Sunglas...', 'UV Protection Retro Square Sunglasses (55)', 'UV Protection, Riding Glasses Aviator Sunglasses (57)', 'Polarized Aviator Sunglasses (Free Size)', 'Polarized, UV Protection Aviator Sunglasses (52)', 'Gradient, Mirrored, UV Protection Aviator Sunglasses (5...', 'Gradient, UV Protection Wayfarer Sunglasses (Free Size)', 'UV Protection Aviator Sunglasses (54)', 'UV Protection, Polarized Wrap-around Sunglasses (52)', 'UV Protection Retro Square Sunglasses (Free Size)', 'UV Protection Rectangular Sunglasses (58)', 'UV Protection Round Sunglasses (Free Size)', 'UV Protection Cat-eye Sunglasses (60)']\n"
     ]
    },
    {
     "data": {
      "text/plain": [
       "39"
      ]
     },
     "execution_count": 82,
     "metadata": {},
     "output_type": "execute_result"
    }
   ],
   "source": [
    "#Extract Product description\n",
    "titles_tag=driver.find_elements_by_xpath(\"//a[@class='IRpwTa']\")\n",
    "desc=[]\n",
    "for i in titles_tag:\n",
    "    desc.append(i.text)\n",
    "print(desc)\n",
    "len(desc)"
   ]
  },
  {
   "cell_type": "code",
   "execution_count": 83,
   "metadata": {},
   "outputs": [
    {
     "name": "stdout",
     "output_type": "stream",
     "text": [
      "['₹426', '₹890', '₹237', '₹541', '₹213', '₹212', '₹404', '₹479', '₹251', '₹217', '₹246', '₹664', '₹399', '₹284', '₹249', '₹499', '₹204', '₹210', '₹162', '₹750', '₹815', '₹1,573', '₹189', '₹314', '₹399', '₹565', '₹296', '₹485', '₹3,019', '₹399', '₹1,163', '₹759', '₹1,353', '₹509', '₹237', '₹854', '₹499', '₹399', '₹209', '₹356']\n"
     ]
    },
    {
     "data": {
      "text/plain": [
       "40"
      ]
     },
     "execution_count": 83,
     "metadata": {},
     "output_type": "execute_result"
    }
   ],
   "source": [
    "#Extract Price\n",
    "titles_tag=driver.find_elements_by_xpath(\"//div[@class='_30jeq3']\")\n",
    "price=[]\n",
    "for i in titles_tag:\n",
    "    price.append(i.text)\n",
    "print(price)\n",
    "len(price)"
   ]
  },
  {
   "cell_type": "code",
   "execution_count": 84,
   "metadata": {},
   "outputs": [
    {
     "name": "stdout",
     "output_type": "stream",
     "text": [
      "['78% off', '55% off', '85% off', '32% off', '82% off', '69% off', '79% off', '76% off', '79% off', '78% off', '83% off', '66% off', '80% off', '85% off', '75% off', '80% off', '74% off', '85% off', '67% off', '24% off', '68% off', '64% off', '81% off', '84% off', '81% off', '56% off', '85% off', '68% off', '45% off', '74% off', '3% off', '62% off', '67% off', '36% off', '85% off', '57% off', '77% off', '73% off', '79% off', '75% off']\n"
     ]
    },
    {
     "data": {
      "text/plain": [
       "40"
      ]
     },
     "execution_count": 84,
     "metadata": {},
     "output_type": "execute_result"
    }
   ],
   "source": [
    "#Extract discount\n",
    "titles_tag=driver.find_elements_by_xpath(\"//div[@class='_3Ay6Sb']\")\n",
    "discount=[]\n",
    "for i in titles_tag:\n",
    "    discount.append(i.text)\n",
    "print(discount)\n",
    "len(discount)"
   ]
  },
  {
   "cell_type": "code",
   "execution_count": 85,
   "metadata": {},
   "outputs": [],
   "source": [
    "#Click on next button\n",
    "search_btn=driver.find_element_by_xpath(\"/html/body/div/div/div[3]/div[1]/div[2]/div[12]/div/div/nav/a[11]\")\n",
    "search_btn.click()"
   ]
  },
  {
   "cell_type": "code",
   "execution_count": 86,
   "metadata": {},
   "outputs": [
    {
     "name": "stdout",
     "output_type": "stream",
     "text": [
      "['ROZZETTA CRAFT', 'VINCENT CHASE', 'PIRASO', 'Fastrack', 'DEIXELS', 'Singco India', 'ROZZETTA CRAFT', 'ROYAL SON', 'HIPPON', 'ROYAL SON', 'Silver Kartz', 'ROYAL SON', 'PHENOMENAL', 'GANSTA', 'Singco', 'ROZZETTA CRAFT', 'NuVew', 'hipe', 'Poland', 'Villain', 'Wrogn', 'FOSSIL', 'elegante', 'Singco India', 'Flizz', 'IRUS by IDEE', 'Fravy', 'AISLIN', 'Ray-Ban', 'Cristiano Ronnie', 'Mi', 'ROYAL SON', 'United Colors of Benetton.', 'Fastrack', 'PIRASO', 'ROYAL SON', 'ROZZETTA CRAFT', 'ROYAL SON', 'Singco India', 'NuVew', 'hipe', 'NuVew', 'PHENOMENAL', 'VINCENT CHASE', 'GANSTA', 'DEIXELS', 'Wrogn', 'AISLIN', 'Silver Kartz', 'Fravy', 'Flizz', 'AISLIN', 'elegante', 'Fastrack', 'PIRASO', 'NuVew', 'ROZZETTA CRAFT', 'ROYAL SON', 'Singco India', 'NuVew', 'hipe', 'PHENOMENAL', 'Wrogn', 'povty', 'NuVew', 'GANSTA', 'DEIXELS', 'AISLIN', 'Fastrack', 'PIRASO', 'ROYAL SON', 'NuVew', 'ROZZETTA CRAFT', 'GANSTA', 'NuVew', 'AISLIN', 'hipe', 'Wrogn', 'PIRASO', 'DEIXELS']\n",
      "80\n",
      "['UV Protection, Gradient Rectangular Sunglasses (Free Si...', 'by Lenskart UV Protection Wayfarer Sunglasses (49)', 'UV Protection Aviator Sunglasses (54)', 'UV Protection Rectangular Sunglasses (Free Size)', 'UV Protection Aviator, Wayfarer Sunglasses (Free Size)', 'UV Protection, Riding Glasses, Others Aviator, Wayfarer...', 'UV Protection, Gradient Rectangular Sunglasses (Free Si...', 'UV Protection Retro Square Sunglasses (88)', 'UV Protection Wayfarer Sunglasses (55)', 'UV Protection, Gradient Wayfarer Sunglasses (55)', 'UV Protection Wayfarer Sunglasses (Free Size)', 'UV Protection Retro Square Sunglasses (Free Size)', 'UV Protection Aviator Sunglasses (57)', 'Mirrored Aviator Sunglasses (53)', 'UV Protection Shield Sunglasses (54)', 'UV Protection Aviator Sunglasses (58)', 'Mirrored, UV Protection, Gradient Round Sunglasses (55)', 'UV Protection Wayfarer Sunglasses (Free Size)', 'Others Wayfarer Sunglasses (Free Size)', 'UV Protection Wayfarer Sunglasses (56)', 'Mirrored Round Sunglasses (51)', 'UV Protection Round Sunglasses (Free Size)', 'Mirrored, UV Protection, Riding Glasses, Others Wrap-ar...', 'UV Protection Retro Square Sunglasses (Free Size)', 'Others Rectangular Sunglasses (56)', 'UV Protection, Gradient, Night Vision Retro Square Sung...', 'UV Protection, Gradient Butterfly, Retro Square Sunglas...', 'UV Protection Retro Square Sunglasses (55)', 'UV Protection, Riding Glasses Aviator Sunglasses (57)', 'Polarized Aviator Sunglasses (Free Size)', 'Polarized, UV Protection Aviator Sunglasses (52)', 'Gradient, Mirrored, UV Protection Aviator Sunglasses (5...', 'Gradient, UV Protection Wayfarer Sunglasses (Free Size)', 'UV Protection Aviator Sunglasses (54)', 'UV Protection, Polarized Wrap-around Sunglasses (52)', 'UV Protection Retro Square Sunglasses (Free Size)', 'UV Protection Rectangular Sunglasses (58)', 'UV Protection Round Sunglasses (Free Size)', 'UV Protection Cat-eye Sunglasses (60)', 'Mirrored Wayfarer Sunglasses (55)', 'UV Protection, Riding Glasses Wayfarer Sunglasses (56)', 'UV Protection Clubmaster Sunglasses (Free Size)', 'by Lenskart Polarized, UV Protection Round Sunglasses (...', 'UV Protection, Mirrored Wayfarer Sunglasses (53)', 'Polarized, UV Protection, Riding Glasses Wayfarer Sungl...', 'UV Protection Aviator Sunglasses (60)', 'UV Protection, Gradient Wayfarer Sunglasses (57)', 'UV Protection Oval Sunglasses (56)', 'UV Protection Retro Square Sunglasses (Free Size)', 'UV Protection, Polarized Rectangular Sunglasses (Free S...', 'Polarized, UV Protection Wayfarer, Rectangular Sunglass...', 'UV Protection Oval Sunglasses (Free Size)', 'UV Protection Wayfarer Sunglasses (Free Size)', 'UV Protection Aviator Sunglasses (54)', 'UV Protection, Mirrored Wayfarer, Shield Sunglasses (57...', 'UV Protection, Riding Glasses Rectangular Sunglasses (F...', 'Mirrored Aviator Sunglasses (55)', 'Mirrored, Riding Glasses, Others Sports Sunglasses (50)', 'UV Protection Aviator Sunglasses (57)', 'UV Protection Sports Sunglasses (Free Size)', 'UV Protection, Mirrored Clubmaster Sunglasses (Free Siz...', 'UV Protection Wayfarer Sunglasses (57)', 'UV Protection Wayfarer Sunglasses (Free Size)', 'UV Protection, Riding Glasses Aviator Sunglasses (58)', 'UV Protection, Riding Glasses Wayfarer Sunglasses (53)', 'UV Protection Round Sunglasses (Free Size)', 'UV Protection, Gradient Aviator Sunglasses (58)', 'UV Protection Aviator Sunglasses (Free Size)', 'UV Protection Aviator Sunglasses (58)', 'UV Protection Wayfarer Sunglasses (55)', 'UV Protection, Mirrored Wayfarer Sunglasses (56)', 'UV Protection, Gradient Rectangular Sunglasses (Free Si...', 'UV Protection, Gradient Wayfarer Sunglasses (53)', 'UV Protection Aviator Sunglasses (58)', 'Polarized, UV Protection, Gradient Aviator Sunglasses (...', 'UV Protection, Gradient, Riding Glasses Wayfarer Sungla...', 'Mirrored Aviator Sunglasses (60)', 'UV Protection Aviator Sunglasses (Free Size)', 'UV Protection Rectangular Sunglasses (Free Size)']\n",
      "79\n",
      "['₹426', '₹890', '₹237', '₹541', '₹213', '₹212', '₹404', '₹479', '₹251', '₹217', '₹246', '₹664', '₹399', '₹284', '₹249', '₹499', '₹204', '₹210', '₹162', '₹750', '₹815', '₹1,573', '₹189', '₹314', '₹399', '₹565', '₹296', '₹485', '₹3,019', '₹399', '₹1,163', '₹759', '₹1,353', '₹509', '₹237', '₹854', '₹499', '₹399', '₹209', '₹356', '₹219', '₹210', '₹319', '₹1,179', '₹199', '₹224', '₹1,039', '₹592', '₹284', '₹260', '₹279', '₹543', '₹426', '₹716', '₹237', '₹309', '₹426', '₹319', '₹252', '₹237', '₹319', '₹319', '₹815', '₹312', '₹366', '₹263', '₹219', '₹425', '₹659', '₹331', '₹265', '₹198', '₹474', '₹296', '₹248', '₹1,066', '₹249', '₹1,039', '₹331', '₹200']\n",
      "80\n",
      "['78% off', '55% off', '85% off', '32% off', '82% off', '69% off', '79% off', '76% off', '79% off', '78% off', '83% off', '66% off', '80% off', '85% off', '75% off', '80% off', '74% off', '85% off', '67% off', '24% off', '68% off', '64% off', '81% off', '84% off', '81% off', '56% off', '85% off', '68% off', '45% off', '74% off', '3% off', '62% off', '67% off', '36% off', '85% off', '57% off', '77% off', '73% off', '79% off', '75% off', '78% off', '78% off', '84% off', '41% off', '80% off', '62% off', '68% off', '72% off', '76% off', '82% off', '81% off', '77% off', '71% off', '20% off', '85% off', '81% off', '80% off', '78% off', '83% off', '69% off', '83% off', '84% off', '68% off', '68% off', '77% off', '86% off', '72% off', '74% off', '26% off', '87% off', '79% off', '81% off', '78% off', '85% off', '68% off', '74% off', '75% off', '68% off', '79% off', '83% off']\n",
      "80\n"
     ]
    }
   ],
   "source": [
    "#Page 2\n",
    "#Extract all the brand\n",
    "titles_tag=driver.find_elements_by_xpath(\"//div[@class='_2WkVRV']\")\n",
    "for i in titles_tag:\n",
    "    brand.append(i.text)\n",
    "print(brand)\n",
    "print(len(brand))\n",
    "\n",
    "#Extract Product description\n",
    "titles_tag=driver.find_elements_by_xpath(\"//a[@class='IRpwTa']\")\n",
    "for i in titles_tag:\n",
    "    desc.append(i.text)\n",
    "print(desc)\n",
    "print(len(desc))\n",
    "\n",
    "#Extract Price\n",
    "titles_tag=driver.find_elements_by_xpath(\"//div[@class='_30jeq3']\")\n",
    "for i in titles_tag:\n",
    "    price.append(i.text)\n",
    "print(price)\n",
    "print(len(price))\n",
    "\n",
    "#Extract discount\n",
    "titles_tag=driver.find_elements_by_xpath(\"//div[@class='_3Ay6Sb']\")\n",
    "for i in titles_tag:\n",
    "    discount.append(i.text)\n",
    "print(discount)\n",
    "print(len(discount))"
   ]
  },
  {
   "cell_type": "code",
   "execution_count": 87,
   "metadata": {},
   "outputs": [],
   "source": [
    "#Click on next button\n",
    "search_btn=driver.find_element_by_xpath(\"/html/body/div/div/div[3]/div[1]/div[2]/div[12]/div/div/nav/a[12]\")\n",
    "search_btn.click()"
   ]
  },
  {
   "cell_type": "code",
   "execution_count": 88,
   "metadata": {},
   "outputs": [
    {
     "name": "stdout",
     "output_type": "stream",
     "text": [
      "['ROZZETTA CRAFT', 'VINCENT CHASE', 'PIRASO', 'Fastrack', 'DEIXELS', 'Singco India', 'ROZZETTA CRAFT', 'ROYAL SON', 'HIPPON', 'ROYAL SON', 'Silver Kartz', 'ROYAL SON', 'PHENOMENAL', 'GANSTA', 'Singco', 'ROZZETTA CRAFT', 'NuVew', 'hipe', 'Poland', 'Villain', 'Wrogn', 'FOSSIL', 'elegante', 'Singco India', 'Flizz', 'IRUS by IDEE', 'Fravy', 'AISLIN', 'Ray-Ban', 'Cristiano Ronnie', 'Mi', 'ROYAL SON', 'United Colors of Benetton.', 'Fastrack', 'PIRASO', 'ROYAL SON', 'ROZZETTA CRAFT', 'ROYAL SON', 'Singco India', 'NuVew', 'hipe', 'NuVew', 'PHENOMENAL', 'VINCENT CHASE', 'GANSTA', 'DEIXELS', 'Wrogn', 'AISLIN', 'Silver Kartz', 'Fravy', 'Flizz', 'AISLIN', 'elegante', 'Fastrack', 'PIRASO', 'NuVew', 'ROZZETTA CRAFT', 'ROYAL SON', 'Singco India', 'NuVew', 'hipe', 'PHENOMENAL', 'Wrogn', 'povty', 'NuVew', 'GANSTA', 'DEIXELS', 'AISLIN', 'Fastrack', 'PIRASO', 'ROYAL SON', 'NuVew', 'ROZZETTA CRAFT', 'GANSTA', 'NuVew', 'AISLIN', 'hipe', 'Wrogn', 'PIRASO', 'DEIXELS', 'ROYAL SON', 'Singco India', 'PHENOMENAL', 'I Flash', 'GANSTA', 'Wrogn', 'hipe', 'I Flash', 'PIRASO', 'ROYAL SON', 'ROZZETTA CRAFT', 'I Flash', 'NuVew', 'PHENOMENAL', 'GANSTA', 'I Flash', 'Fastrack', 'PIRASO', 'ROYAL SON', 'I Flash', 'ROZZETTA CRAFT', 'PHENOMENAL', 'NuVew', 'I Flash', 'Fastrack', 'PIRASO', 'ROZZETTA CRAFT', 'I Flash', 'ROYAL SON', 'Fastrack', 'PIRASO', 'I Flash', 'ROZZETTA CRAFT', 'ROYAL SON', 'Fastrack', 'funglasses', 'ROYAL SON', 'PIRASO', 'ROZZETTA CRAFT', 'I Flash']\n",
      "120\n",
      "['UV Protection, Gradient Rectangular Sunglasses (Free Si...', 'by Lenskart UV Protection Wayfarer Sunglasses (49)', 'UV Protection Aviator Sunglasses (54)', 'UV Protection Rectangular Sunglasses (Free Size)', 'UV Protection Aviator, Wayfarer Sunglasses (Free Size)', 'UV Protection, Riding Glasses, Others Aviator, Wayfarer...', 'UV Protection, Gradient Rectangular Sunglasses (Free Si...', 'UV Protection Retro Square Sunglasses (88)', 'UV Protection Wayfarer Sunglasses (55)', 'UV Protection, Gradient Wayfarer Sunglasses (55)', 'UV Protection Wayfarer Sunglasses (Free Size)', 'UV Protection Retro Square Sunglasses (Free Size)', 'UV Protection Aviator Sunglasses (57)', 'Mirrored Aviator Sunglasses (53)', 'UV Protection Shield Sunglasses (54)', 'UV Protection Aviator Sunglasses (58)', 'Mirrored, UV Protection, Gradient Round Sunglasses (55)', 'UV Protection Wayfarer Sunglasses (Free Size)', 'Others Wayfarer Sunglasses (Free Size)', 'UV Protection Wayfarer Sunglasses (56)', 'Mirrored Round Sunglasses (51)', 'UV Protection Round Sunglasses (Free Size)', 'Mirrored, UV Protection, Riding Glasses, Others Wrap-ar...', 'UV Protection Retro Square Sunglasses (Free Size)', 'Others Rectangular Sunglasses (56)', 'UV Protection, Gradient, Night Vision Retro Square Sung...', 'UV Protection, Gradient Butterfly, Retro Square Sunglas...', 'UV Protection Retro Square Sunglasses (55)', 'UV Protection, Riding Glasses Aviator Sunglasses (57)', 'Polarized Aviator Sunglasses (Free Size)', 'Polarized, UV Protection Aviator Sunglasses (52)', 'Gradient, Mirrored, UV Protection Aviator Sunglasses (5...', 'Gradient, UV Protection Wayfarer Sunglasses (Free Size)', 'UV Protection Aviator Sunglasses (54)', 'UV Protection, Polarized Wrap-around Sunglasses (52)', 'UV Protection Retro Square Sunglasses (Free Size)', 'UV Protection Rectangular Sunglasses (58)', 'UV Protection Round Sunglasses (Free Size)', 'UV Protection Cat-eye Sunglasses (60)', 'Mirrored Wayfarer Sunglasses (55)', 'UV Protection, Riding Glasses Wayfarer Sunglasses (56)', 'UV Protection Clubmaster Sunglasses (Free Size)', 'by Lenskart Polarized, UV Protection Round Sunglasses (...', 'UV Protection, Mirrored Wayfarer Sunglasses (53)', 'Polarized, UV Protection, Riding Glasses Wayfarer Sungl...', 'UV Protection Aviator Sunglasses (60)', 'UV Protection, Gradient Wayfarer Sunglasses (57)', 'UV Protection Oval Sunglasses (56)', 'UV Protection Retro Square Sunglasses (Free Size)', 'UV Protection, Polarized Rectangular Sunglasses (Free S...', 'Polarized, UV Protection Wayfarer, Rectangular Sunglass...', 'UV Protection Oval Sunglasses (Free Size)', 'UV Protection Wayfarer Sunglasses (Free Size)', 'UV Protection Aviator Sunglasses (54)', 'UV Protection, Mirrored Wayfarer, Shield Sunglasses (57...', 'UV Protection, Riding Glasses Rectangular Sunglasses (F...', 'Mirrored Aviator Sunglasses (55)', 'Mirrored, Riding Glasses, Others Sports Sunglasses (50)', 'UV Protection Aviator Sunglasses (57)', 'UV Protection Sports Sunglasses (Free Size)', 'UV Protection, Mirrored Clubmaster Sunglasses (Free Siz...', 'UV Protection Wayfarer Sunglasses (57)', 'UV Protection Wayfarer Sunglasses (Free Size)', 'UV Protection, Riding Glasses Aviator Sunglasses (58)', 'UV Protection, Riding Glasses Wayfarer Sunglasses (53)', 'UV Protection Round Sunglasses (Free Size)', 'UV Protection, Gradient Aviator Sunglasses (58)', 'UV Protection Aviator Sunglasses (Free Size)', 'UV Protection Aviator Sunglasses (58)', 'UV Protection Wayfarer Sunglasses (55)', 'UV Protection, Mirrored Wayfarer Sunglasses (56)', 'UV Protection, Gradient Rectangular Sunglasses (Free Si...', 'UV Protection, Gradient Wayfarer Sunglasses (53)', 'UV Protection Aviator Sunglasses (58)', 'Polarized, UV Protection, Gradient Aviator Sunglasses (...', 'UV Protection, Gradient, Riding Glasses Wayfarer Sungla...', 'Mirrored Aviator Sunglasses (60)', 'UV Protection Aviator Sunglasses (Free Size)', 'UV Protection Rectangular Sunglasses (Free Size)', 'UV Protection Retro Square Sunglasses (58)', 'Mirrored, Riding Glasses, Others Sports Sunglasses (50)', 'UV Protection, Mirrored Clubmaster Sunglasses (Free Siz...', 'UV Protection, Night Vision, Riding Glasses Aviator Sun...', 'UV Protection Aviator Sunglasses (60)', 'UV Protection, Gradient, Riding Glasses Wayfarer Sungla...', 'UV Protection Aviator Sunglasses (Free Size)', 'UV Protection Wayfarer Sunglasses (55)', 'UV Protection, Gradient Round Sunglasses (Free Size)', 'UV Protection, Riding Glasses Aviator Sunglasses (58)', 'UV Protection, Mirrored Retro Square Sunglasses (53)', 'UV Protection, Gradient Wayfarer Sunglasses (53)', 'Gradient, UV Protection Wayfarer Sunglasses (Free Size)', 'UV Protection Wayfarer Sunglasses (32)', 'Polarized Rectangular Sunglasses (65)', 'Gradient, UV Protection Round Sunglasses (Free Size)', 'UV Protection, Mirrored Retro Square Sunglasses (Free S...', 'UV Protection, Mirrored Sports Sunglasses (73)', 'UV Protection Wayfarer Sunglasses (Free Size)', 'UV Protection Butterfly Sunglasses (65)', 'UV Protection, Gradient Round Sunglasses (Free Size)', 'UV Protection Retro Square Sunglasses (88)', 'UV Protection Wayfarer Sunglasses (56)', 'UV Protection Aviator Sunglasses (58)', 'UV Protection Retro Square Sunglasses (Free Size)', 'Polarized, UV Protection Round Sunglasses (49)', 'Polarized Retro Square Sunglasses (Free Size)', 'Polarized, UV Protection Aviator Sunglasses (58)', 'UV Protection Aviator Sunglasses (50)', 'UV Protection, Gradient Retro Square Sunglasses (Free S...']\n",
      "109\n",
      "['₹426', '₹890', '₹237', '₹541', '₹213', '₹212', '₹404', '₹479', '₹251', '₹217', '₹246', '₹664', '₹399', '₹284', '₹249', '₹499', '₹204', '₹210', '₹162', '₹750', '₹815', '₹1,573', '₹189', '₹314', '₹399', '₹565', '₹296', '₹485', '₹3,019', '₹399', '₹1,163', '₹759', '₹1,353', '₹509', '₹237', '₹854', '₹499', '₹399', '₹209', '₹356', '₹219', '₹210', '₹319', '₹1,179', '₹199', '₹224', '₹1,039', '₹592', '₹284', '₹260', '₹279', '₹543', '₹426', '₹716', '₹237', '₹309', '₹426', '₹319', '₹252', '₹237', '₹319', '₹319', '₹815', '₹312', '₹366', '₹263', '₹219', '₹425', '₹659', '₹331', '₹265', '₹198', '₹474', '₹296', '₹248', '₹1,066', '₹249', '₹1,039', '₹331', '₹200', '₹499', '₹252', '₹319', '₹130', '₹295', '₹1,110', '₹249', '₹135', '₹331', '₹265', '₹426', '₹199', '₹366', '₹379', '₹296', '₹249', '₹638', '₹237', '₹699', '₹199', '₹449', '₹399', '₹311', '₹249', '₹627', '₹323', '₹449', '₹209', '₹569', '₹754', '₹298', '₹199', '₹499', '₹664', '₹701', '₹179', '₹711', '₹331', '₹426', '₹165']\n",
      "120\n",
      "['78% off', '55% off', '85% off', '32% off', '82% off', '69% off', '79% off', '76% off', '79% off', '78% off', '83% off', '66% off', '80% off', '85% off', '75% off', '80% off', '74% off', '85% off', '67% off', '24% off', '68% off', '64% off', '81% off', '84% off', '81% off', '56% off', '85% off', '68% off', '45% off', '74% off', '3% off', '62% off', '67% off', '36% off', '85% off', '57% off', '77% off', '73% off', '79% off', '75% off', '78% off', '78% off', '84% off', '41% off', '80% off', '62% off', '68% off', '72% off', '76% off', '82% off', '81% off', '77% off', '71% off', '20% off', '85% off', '81% off', '80% off', '78% off', '83% off', '69% off', '83% off', '84% off', '68% off', '68% off', '77% off', '86% off', '72% off', '74% off', '26% off', '87% off', '79% off', '81% off', '78% off', '85% off', '68% off', '74% off', '75% off', '68% off', '79% off', '83% off', '66% off', '83% off', '84% off', '86% off', '85% off', '65% off', '75% off', '86% off', '79% off', '79% off', '78% off', '80% off', '77% off', '81% off', '85% off', '75% off', '20% off', '85% off', '65% off', '83% off', '77% off', '80% off', '75% off', '79% off', '21% off', '87% off', '83% off', '82% off', '71% off', '16% off', '88% off', '83% off', '77% off', '66% off', '12% off', '82% off', '64% off', '79% off', '78% off', '86% off']\n",
      "120\n"
     ]
    }
   ],
   "source": [
    "#Page 3\n",
    "#Extract all the brand\n",
    "titles_tag=driver.find_elements_by_xpath(\"//div[@class='_2WkVRV']\")\n",
    "for i in titles_tag:\n",
    "    brand.append(i.text)\n",
    "print(brand)\n",
    "print(len(brand))\n",
    "\n",
    "#Extract Product description\n",
    "titles_tag=driver.find_elements_by_xpath(\"//a[@class='IRpwTa']\")\n",
    "for i in titles_tag:\n",
    "    desc.append(i.text)\n",
    "print(desc)\n",
    "print(len(desc))\n",
    "\n",
    "#Extract Price\n",
    "titles_tag=driver.find_elements_by_xpath(\"//div[@class='_30jeq3']\")\n",
    "for i in titles_tag:\n",
    "    price.append(i.text)\n",
    "print(price)\n",
    "print(len(price))\n",
    "\n",
    "#Extract discount\n",
    "titles_tag=driver.find_elements_by_xpath(\"//div[@class='_3Ay6Sb']\")\n",
    "for i in titles_tag:\n",
    "    discount.append(i.text)\n",
    "print(discount)\n",
    "print(len(discount))"
   ]
  },
  {
   "cell_type": "code",
   "execution_count": 89,
   "metadata": {},
   "outputs": [
    {
     "data": {
      "text/html": [
       "<div>\n",
       "<style scoped>\n",
       "    .dataframe tbody tr th:only-of-type {\n",
       "        vertical-align: middle;\n",
       "    }\n",
       "\n",
       "    .dataframe tbody tr th {\n",
       "        vertical-align: top;\n",
       "    }\n",
       "\n",
       "    .dataframe thead th {\n",
       "        text-align: right;\n",
       "    }\n",
       "</style>\n",
       "<table border=\"1\" class=\"dataframe\">\n",
       "  <thead>\n",
       "    <tr style=\"text-align: right;\">\n",
       "      <th></th>\n",
       "      <th>Brand Name</th>\n",
       "      <th>Product Description</th>\n",
       "      <th>Price</th>\n",
       "      <th>Discount</th>\n",
       "    </tr>\n",
       "  </thead>\n",
       "  <tbody>\n",
       "    <tr>\n",
       "      <th>0</th>\n",
       "      <td>ROZZETTA CRAFT</td>\n",
       "      <td>UV Protection, Gradient Rectangular Sunglasses...</td>\n",
       "      <td>₹426</td>\n",
       "      <td>78% off</td>\n",
       "    </tr>\n",
       "    <tr>\n",
       "      <th>1</th>\n",
       "      <td>VINCENT CHASE</td>\n",
       "      <td>by Lenskart UV Protection Wayfarer Sunglasses ...</td>\n",
       "      <td>₹890</td>\n",
       "      <td>55% off</td>\n",
       "    </tr>\n",
       "    <tr>\n",
       "      <th>2</th>\n",
       "      <td>PIRASO</td>\n",
       "      <td>UV Protection Aviator Sunglasses (54)</td>\n",
       "      <td>₹237</td>\n",
       "      <td>85% off</td>\n",
       "    </tr>\n",
       "    <tr>\n",
       "      <th>3</th>\n",
       "      <td>Fastrack</td>\n",
       "      <td>UV Protection Rectangular Sunglasses (Free Size)</td>\n",
       "      <td>₹541</td>\n",
       "      <td>32% off</td>\n",
       "    </tr>\n",
       "    <tr>\n",
       "      <th>4</th>\n",
       "      <td>DEIXELS</td>\n",
       "      <td>UV Protection Aviator, Wayfarer Sunglasses (Fr...</td>\n",
       "      <td>₹213</td>\n",
       "      <td>82% off</td>\n",
       "    </tr>\n",
       "    <tr>\n",
       "      <th>...</th>\n",
       "      <td>...</td>\n",
       "      <td>...</td>\n",
       "      <td>...</td>\n",
       "      <td>...</td>\n",
       "    </tr>\n",
       "    <tr>\n",
       "      <th>95</th>\n",
       "      <td>I Flash</td>\n",
       "      <td>UV Protection, Mirrored Retro Square Sunglasse...</td>\n",
       "      <td>₹249</td>\n",
       "      <td>75% off</td>\n",
       "    </tr>\n",
       "    <tr>\n",
       "      <th>96</th>\n",
       "      <td>Fastrack</td>\n",
       "      <td>UV Protection, Mirrored Sports Sunglasses (73)</td>\n",
       "      <td>₹638</td>\n",
       "      <td>20% off</td>\n",
       "    </tr>\n",
       "    <tr>\n",
       "      <th>97</th>\n",
       "      <td>PIRASO</td>\n",
       "      <td>UV Protection Wayfarer Sunglasses (Free Size)</td>\n",
       "      <td>₹237</td>\n",
       "      <td>85% off</td>\n",
       "    </tr>\n",
       "    <tr>\n",
       "      <th>98</th>\n",
       "      <td>ROYAL SON</td>\n",
       "      <td>UV Protection Butterfly Sunglasses (65)</td>\n",
       "      <td>₹699</td>\n",
       "      <td>65% off</td>\n",
       "    </tr>\n",
       "    <tr>\n",
       "      <th>99</th>\n",
       "      <td>I Flash</td>\n",
       "      <td>UV Protection, Gradient Round Sunglasses (Free...</td>\n",
       "      <td>₹199</td>\n",
       "      <td>83% off</td>\n",
       "    </tr>\n",
       "  </tbody>\n",
       "</table>\n",
       "<p>100 rows × 4 columns</p>\n",
       "</div>"
      ],
      "text/plain": [
       "        Brand Name                                Product Description Price  \\\n",
       "0   ROZZETTA CRAFT  UV Protection, Gradient Rectangular Sunglasses...  ₹426   \n",
       "1    VINCENT CHASE  by Lenskart UV Protection Wayfarer Sunglasses ...  ₹890   \n",
       "2           PIRASO              UV Protection Aviator Sunglasses (54)  ₹237   \n",
       "3         Fastrack   UV Protection Rectangular Sunglasses (Free Size)  ₹541   \n",
       "4          DEIXELS  UV Protection Aviator, Wayfarer Sunglasses (Fr...  ₹213   \n",
       "..             ...                                                ...   ...   \n",
       "95         I Flash  UV Protection, Mirrored Retro Square Sunglasse...  ₹249   \n",
       "96        Fastrack     UV Protection, Mirrored Sports Sunglasses (73)  ₹638   \n",
       "97          PIRASO      UV Protection Wayfarer Sunglasses (Free Size)  ₹237   \n",
       "98       ROYAL SON            UV Protection Butterfly Sunglasses (65)  ₹699   \n",
       "99         I Flash  UV Protection, Gradient Round Sunglasses (Free...  ₹199   \n",
       "\n",
       "   Discount  \n",
       "0   78% off  \n",
       "1   55% off  \n",
       "2   85% off  \n",
       "3   32% off  \n",
       "4   82% off  \n",
       "..      ...  \n",
       "95  75% off  \n",
       "96  20% off  \n",
       "97  85% off  \n",
       "98  65% off  \n",
       "99  83% off  \n",
       "\n",
       "[100 rows x 4 columns]"
      ]
     },
     "execution_count": 89,
     "metadata": {},
     "output_type": "execute_result"
    }
   ],
   "source": [
    "#Dataframe Q6\n",
    "product=pd.DataFrame()\n",
    "product[\"Brand Name\"]=brand[0:100]\n",
    "product[\"Product Description\"]=desc[0:100]\n",
    "product[\"Price\"]=price[0:100]\n",
    "product[\"Discount\"]=discount[0:100]\n",
    "product"
   ]
  },
  {
   "cell_type": "markdown",
   "metadata": {},
   "source": [
    "# Question -7"
   ]
  },
  {
   "cell_type": "code",
   "execution_count": 112,
   "metadata": {},
   "outputs": [],
   "source": [
    "driver=webdriver.Chrome(r\"C:\\Users\\Akash\\Downloads\\chromedriver_win32\\chromedriver.exe\")\n",
    "#Connect URL\n",
    "url=\"https://www.flipkart.com/apple-iphone-11-black-64-gb-includes-earpods-power-adapter/p/itm0f37c2240b217?pid=MOBFKCTSVZAXUHGR&lid=LSTMOBFKCTSVZAXUHGREPBFGI&marketplace\"\n",
    "driver.get(url)"
   ]
  },
  {
   "cell_type": "code",
   "execution_count": null,
   "metadata": {},
   "outputs": [],
   "source": [
    "#Click on \"All 4888 reviews\"\n",
    "search_btn=driver.find_element_by_xpath(\"/html/body/div[1]/div/div[3]/div[1]/div[2]/div[9]/div/div/div[5]/div/a/div/span\")\n",
    "search_btn.click()"
   ]
  },
  {
   "cell_type": "code",
   "execution_count": null,
   "metadata": {},
   "outputs": [],
   "source": [
    "rating=[] #Rating\n",
    "rev_sum=[] #Review summary\n",
    "rev=[] #Full review    \n",
    "\n",
    "#Page1\n",
    "#Extract rating\n",
    "titles_tag=driver.find_elements_by_xpath(\"//div[@class='_3LWZlK _1BLPMq']\")\n",
    "for i in titles_tag:\n",
    "    rating.append(i.text)\n",
    "print(rating)\n",
    "print(len(rating))\n",
    "\n",
    "#Extract review summary\n",
    "titles_tag=driver.find_elements_by_xpath(\"//p[@class='_2-N8zT']\")\n",
    "    \n",
    "for i in titles_tag:\n",
    "    rev_sum.append(i.text)\n",
    "print(rev_sum)\n",
    "print(len(rev_sum))\n",
    "\n",
    "#Extract review \n",
    "titles_tag=driver.find_elements_by_xpath(\"//div[@class='t-ZTKy']\")\n",
    "    \n",
    "for i in titles_tag:\n",
    "    rev.append(i.text.replace(\"\\n\",\"\"))\n",
    "print(rev)\n",
    "print(len(rev))"
   ]
  },
  {
   "cell_type": "code",
   "execution_count": 117,
   "metadata": {},
   "outputs": [],
   "source": [
    "#Click on next page\n",
    "search_btn=driver.find_element_by_xpath(\"/html/body/div[1]/div/div[3]/div/div/div[2]/div[13]/div/div/nav/a[11]/span\")\n",
    "search_btn.click()"
   ]
  },
  {
   "cell_type": "code",
   "execution_count": null,
   "metadata": {},
   "outputs": [],
   "source": [
    "#Page2\n",
    "#Extract rating\n",
    "titles_tag=driver.find_elements_by_xpath(\"//div[@class='_3LWZlK _1BLPMq']\")\n",
    "for i in titles_tag:\n",
    "    rating.append(i.text)\n",
    "print(rating)\n",
    "print(len(rating))\n",
    "\n",
    "#Extract review summary\n",
    "titles_tag=driver.find_elements_by_xpath(\"//p[@class='_2-N8zT']\")\n",
    "    \n",
    "for i in titles_tag:\n",
    "    rev_sum.append(i.text)\n",
    "print(rev_sum)\n",
    "print(len(rev_sum))\n",
    "\n",
    "#Extract review \n",
    "titles_tag=driver.find_elements_by_xpath(\"//div[@class='t-ZTKy']\")\n",
    "    \n",
    "for i in titles_tag:\n",
    "    rev.append(i.text.replace(\"\\n\",\"\"))\n",
    "print(rev)\n",
    "print(len(rev))"
   ]
  },
  {
   "cell_type": "code",
   "execution_count": 119,
   "metadata": {},
   "outputs": [],
   "source": [
    "#Click on next page\n",
    "search_btn=driver.find_element_by_xpath(\"/html/body/div[1]/div/div[3]/div/div/div[2]/div[13]/div/div/nav/a[12]/span\")\n",
    "search_btn.click()"
   ]
  },
  {
   "cell_type": "code",
   "execution_count": null,
   "metadata": {},
   "outputs": [],
   "source": [
    "#Page3\n",
    "#Extract rating\n",
    "titles_tag=driver.find_elements_by_xpath(\"//div[@class='_3LWZlK _1BLPMq']\")\n",
    "for i in titles_tag:\n",
    "    rating.append(i.text)\n",
    "print(rating)\n",
    "print(len(rating))\n",
    "\n",
    "#Extract review summary\n",
    "titles_tag=driver.find_elements_by_xpath(\"//p[@class='_2-N8zT']\")\n",
    "    \n",
    "for i in titles_tag:\n",
    "    rev_sum.append(i.text)\n",
    "print(rev_sum)\n",
    "print(len(rev_sum))\n",
    "\n",
    "#Extract review \n",
    "titles_tag=driver.find_elements_by_xpath(\"//div[@class='t-ZTKy']\")\n",
    "    \n",
    "for i in titles_tag:\n",
    "    rev.append(i.text.replace(\"\\n\",\"\"))\n",
    "print(rev)\n",
    "print(len(rev))"
   ]
  },
  {
   "cell_type": "code",
   "execution_count": 121,
   "metadata": {},
   "outputs": [],
   "source": [
    "#Click on next page\n",
    "search_btn=driver.find_element_by_xpath(\"/html/body/div[1]/div/div[3]/div/div/div[2]/div[13]/div/div/nav/a[12]/span\")\n",
    "search_btn.click()"
   ]
  },
  {
   "cell_type": "code",
   "execution_count": null,
   "metadata": {},
   "outputs": [],
   "source": [
    "#Page4\n",
    "#Extract rating\n",
    "titles_tag=driver.find_elements_by_xpath(\"//div[@class='_3LWZlK _1BLPMq']\")\n",
    "for i in titles_tag:\n",
    "    rating.append(i.text)\n",
    "print(rating)\n",
    "print(len(rating))\n",
    "\n",
    "#Extract review summary\n",
    "titles_tag=driver.find_elements_by_xpath(\"//p[@class='_2-N8zT']\")\n",
    "    \n",
    "for i in titles_tag:\n",
    "    rev_sum.append(i.text)\n",
    "print(rev_sum)\n",
    "print(len(rev_sum))\n",
    "\n",
    "#Extract review \n",
    "titles_tag=driver.find_elements_by_xpath(\"//div[@class='t-ZTKy']\")\n",
    "    \n",
    "for i in titles_tag:\n",
    "    rev.append(i.text.replace(\"\\n\",\"\"))\n",
    "print(rev)\n",
    "print(len(rev))"
   ]
  },
  {
   "cell_type": "code",
   "execution_count": 123,
   "metadata": {},
   "outputs": [],
   "source": [
    "#Click on next page\n",
    "search_btn=driver.find_element_by_xpath(\"/html/body/div[1]/div/div[3]/div/div/div[2]/div[13]/div/div/nav/a[12]/span\")\n",
    "search_btn.click()"
   ]
  },
  {
   "cell_type": "code",
   "execution_count": null,
   "metadata": {},
   "outputs": [],
   "source": [
    "#Page5\n",
    "#Extract rating\n",
    "titles_tag=driver.find_elements_by_xpath(\"//div[@class='_3LWZlK _1BLPMq']\")\n",
    "for i in titles_tag:\n",
    "    rating.append(i.text)\n",
    "print(rating)\n",
    "print(len(rating))\n",
    "\n",
    "#Extract review summary\n",
    "titles_tag=driver.find_elements_by_xpath(\"//p[@class='_2-N8zT']\")\n",
    "    \n",
    "for i in titles_tag:\n",
    "    rev_sum.append(i.text)\n",
    "print(rev_sum)\n",
    "print(len(rev_sum))\n",
    "\n",
    "#Extract review \n",
    "titles_tag=driver.find_elements_by_xpath(\"//div[@class='t-ZTKy']\")\n",
    "    \n",
    "for i in titles_tag:\n",
    "    rev.append(i.text.replace(\"\\n\",\"\"))\n",
    "print(rev)\n",
    "print(len(rev))"
   ]
  },
  {
   "cell_type": "code",
   "execution_count": null,
   "metadata": {},
   "outputs": [],
   "source": [
    "#Page6\n",
    "#Extract rating\n",
    "titles_tag=driver.find_elements_by_xpath(\"//div[@class='_3LWZlK _1BLPMq']\")\n",
    "for i in titles_tag:\n",
    "    rating.append(i.text)\n",
    "print(rating)\n",
    "print(len(rating))\n",
    "\n",
    "#Extract review summary\n",
    "titles_tag=driver.find_elements_by_xpath(\"//p[@class='_2-N8zT']\")\n",
    "    \n",
    "for i in titles_tag:\n",
    "    rev_sum.append(i.text)\n",
    "print(rev_sum)\n",
    "print(len(rev_sum))\n",
    "\n",
    "#Extract review \n",
    "titles_tag=driver.find_elements_by_xpath(\"//div[@class='t-ZTKy']\")\n",
    "    \n",
    "for i in titles_tag:\n",
    "    rev.append(i.text.replace(\"\\n\",\"\"))\n",
    "print(rev)\n",
    "print(len(rev))"
   ]
  },
  {
   "cell_type": "code",
   "execution_count": 135,
   "metadata": {},
   "outputs": [],
   "source": [
    "#Click on next page\n",
    "search_btn=driver.find_element_by_xpath(\"/html/body/div[1]/div/div[3]/div/div/div[2]/div[13]/div/div/nav/a[12]/span\")\n",
    "search_btn.click()"
   ]
  },
  {
   "cell_type": "code",
   "execution_count": 136,
   "metadata": {},
   "outputs": [
    {
     "name": "stdout",
     "output_type": "stream",
     "text": [
      "['5', '5', '5', '5', '5', '4', '5', '5', '5', '5', '5', '5', '5', '5', '4', '5', '5', '5', '5', '5', '5', '5', '5', '5', '5', '5', '5', '5', '4', '5', '5', '5', '5', '5', '5', '5', '5', '5', '4', '4', '5', '5', '5', '5', '5', '5', '5', '5', '5', '4', '5', '5', '5', '5', '5', '5', '5', '5', '5', '5', '5', '5', '5', '5', '5', '5', '5', '5', '5', '5', '5', '5', '5', '5', '5', '4', '5', '5', '5', '5', '5', '4', '5', '5', '5', '5', '3', '5', '5', '5', '5', '5', '5', '5', '4', '5', '3', '5', '5', '5', '5', '5', '5', '5', '4', '4', '4', '5', '5', '5', '5', '5', '3', '5', '5']\n",
      "115\n",
      "['Brilliant', 'Perfect product!', 'Great product', 'Worth every penny', 'Fabulous!', 'Good choice', 'Highly recommended', 'Perfect product!', 'Perfect product!', 'Worth every penny', 'Perfect product!', 'Highly recommended', 'Worth every penny', 'Simply awesome', 'Nice product', 'Terrific', 'Classy product', 'Highly recommended', 'Wonderful', 'Brilliant', 'Must buy!', 'Perfect product!', 'Terrific purchase', 'Wonderful', 'Mind-blowing purchase', 'Great product', 'Terrific purchase', 'Simply awesome', 'Good quality product', 'Very poor', 'Best in the market!', 'Perfect product!', 'Must buy!', 'Fabulous!', 'Mind-blowing purchase', 'Mind-blowing purchase', 'Wonderful', 'Worth every penny', 'Great product', 'Good choice', 'Very Good', 'Perfect product!', 'Classy product', 'Perfect product!', 'Just wow!', 'Awesome', 'Terrific', 'Terrific purchase', 'Perfect product!', 'Brilliant', 'Perfect product!', 'Classy product', 'Awesome', 'Excellent', 'Not recommended at all', 'Fabulous!', 'Excellent', 'Must buy!', 'Simply awesome', 'Brilliant', 'Perfect product!', 'Classy product', 'Awesome', 'Excellent', 'Not recommended at all', 'Fabulous!', 'Excellent', 'Must buy!', 'Value-for-money', 'Mind-blowing purchase', 'Must buy!', 'Fabulous!', 'Excellent', 'Mind-blowing purchase', 'Good quality product', 'Awesome', 'Excellent', 'Terrific purchase', 'Awesome', 'Decent product', 'Wonderful', 'Just wow!', 'Super!', 'Super!', 'Awesome', 'Excellent', 'Highly recommended', 'Wonderful', 'Awesome', 'Decent product', 'Wonderful', 'Just wow!', 'Super!', 'Super!', 'Awesome', 'Excellent', 'Highly recommended', 'Wonderful', 'Nice product', 'Good quality product', 'Best in the market!', 'Classy product', 'Excellent', 'Mind-blowing purchase', 'Fabulous!', 'Does the job', 'Fabulous!', 'Awesome']\n",
      "108\n",
      "['The Best Phone for the MoneyThe iPhone 11 offers superb cameras, a more durable design and excellent battery life for an affordable price.Compelling ultra-wide cameraNew Night mode is excellentLong battery life', 'Amazing phone with great cameras and better battery which gives you the best performance. I just love the camera .', 'Amazing Powerful and Durable Gadget.I’m am very happy with the camera picture quality, Amazing face id unlocked in dark room, Strong battery with perfect screen size as you can carry easily in pocket. This is my third iPhone.I shifted from android Samsung Note series to iPhone because of the strong build quality and peace of mind for next 3-4 years.Don’t think to much just go for it and I suggest you to go for minimum 128gb variant or more 256gb.I’ve attached my puppy pics and no fi...READ MORE', 'Previously I was using one plus 3t it was a great phoneAnd then I decided to upgrade I am stuck between Samsung s10 plus or iPhone 11I have seen the specs and everything were good except the display it’s somewhere between 720-1080 and it’s not even an amoled it’s an LCD displayBut I decided to go with iPhone because I have never used an IOS device I have Been an android user from the past 9 years I ordered IPhone 11 (128gb) product redMy experience after using 3 weeks1. The delivery ...READ MORE', 'This is my first iOS phone. I am very happy with this product. Very much satisfied with this. I love this phone.', 'So far it’s been an AMAZING experience coming back to iOS after nearly a decade but it’s not as versatile as android though phone is sturdy dropped it accidentally a couple of times and nothing happened fortunately camera is awesome', 'iphone 11 is a very good phone to buy only if you can compromise for the display. The display on this is device is pretty good but you can get other options with better displays in this price segment.If you can survive with an HD+ LCD panel with thicker bezels and a notch up top then this is a very good phone for you.Cameras are awesome, battery backup excellent, great performance and a decent premium look. Good job Apple !', 'It’s a must buy who is looking for an upgrade from previous generation of iPhones. If you are using XR then still you can hold on for sometime and upgrade to 2020 model else this phone is a must buy . Camera quality is amazing and wide angle is something to count upon. Performance wise it’s amazing and feels premium while holding in hand. So a big YES for this device. Go for 128 GB variant as the 4K videos will occupy lots of space and the storage can get over very quickly. Try to buy it with...READ MORE', 'Value for money❤️❤️Its awesome mobile phone in the world ...Display was very good and bright ..Trust me freinds you r never regret after Buying..Just go for it....I love this phone and i switch to iphone x to 11', 'Best budget Iphone till date ❤️ go for it guys without second thought. Let me explain you guys about Camera, Display, battery, and performance.Camera: at this price range there is no comparison of camera, you’ll love the picture quality as well as video quality. I am a Vlogger I wanted an iPhone with 4k video by front camera and I got this phone and I am more than happy 😃Battery: I use this phone roughly as I am active social media person and I have a youtube channel. so the battery ba...READ MORE', \"Iphone is just awesome.. battery backup is very very nice.. continuously for 10 hours we can use it.camera is just awesome.. display is just fab.i love it alot..i had to wait 15 days for it as i pre ordered it..overalll it's worth the price..these all images are clicked by my iPhone..and i love it.\", 'What a camera .....just awesome ..you can feel this iPhone just awesome . Good for gaming also ...try pubg in hd it’s just wow', 'It’s been almost a month since I have been using this phone. I upgraded from an iPhone 8. The main issue with my 8 was battery and this phone is just awesome when it comes to battery. It lasts a day and a half for me with my regular use , internet connected always with 4gCan’t move forward without saying this. Battery of this phone is a life saver when I am traveling or at work when I don’t get the option to chargeCamera is superb. Front cam selfies and back cam photos are just awesome....READ MORE', 'Excellent camera, good performance, no lag. The lcd display is also good.. but difference come when we watch movie in prime and Netflix, the colours are not vibrant.. as we see in amoled display.. and the charger in box is of 5 watts.. takes more than 3 hours to charge from 0 to 100.. so guys be prepare to buy 18 watts charger . Finally I am an android user, it was my first Iapple phone, I promise u guys the iOS is so smooth.. overall the phone is damn good.... close eyes to buy it.. thanks t...READ MORE', 'Awesome Phone. Slightly high price but worth. Better than iPhone XR.Camera is superb and wide angle camera is very clear.12MP selfie camera is also very good.A13 Chip gives a very good and smooth performance.', 'Really worth of money. i just love it. It is the best phone ever.', 'Superb Product !!!A big and worthy upgrade from mi 3S to iphone 11 .Totally loved it !', \"It's my first time to use iOS phone and I am loving my upgradation 😍😍 I love the color, I love the assebility of the phone....I need to learn more about its functionality, but as far as I have seen, it's quite easy and it has a lot of functions to work on, specially if you are a content writer or a blogger you get a lot of content creation platforms and they are really amazing.This phone not only for good quality photography but a lot of other task too.😍💯\", 'This is my first ever I phone. Before this I was using my google nexus 5. But moving from android to iOS is a great experience. It’s worth at this price. I will highly recommend it if you want to move to iOS. The best part of this phone is it’s camera and it’s battery life. This two things have won my heart. I loved it. Happy to have it in my hand. Still exploring its features. And can’t forget to mention Flipkart service. Very prompt service and fast delivery.', 'I have migrated from OP 7pro... and trust me, iPhone 11 is totally worth it.. following are the reasons:-1)there is ABSOLUTELY NO ISSUE WITH THE DISPLAY... its crisp, sharp and I found it to be much much better than OP7 pro. Netflix, Prime video all run crisply... you won’t miss a thing. True Tone works flawlessly...the display brightness is perfect. OP have not calibrated their screens properly.2) iPhone 11 series have really good cameras... others have spoken in depth about them.3) bat...READ MORE', 'It’s an amazing product from apple and the camera is simply superb. Phone is faster.Night shot is simply superb and detailing and colour differentiation from camera is an added advantageThis review I have written from iPhone 11 only and I am glad to say outside.Cons wise if we see HD+ display only, no battery percentage indicator as in older iPhone 8.No assistive touch control button in itNo oleophobic coating on back panel glass and finger prints are visible but since I bought mint gr...READ MORE', 'After 1 month use I found camera quality best compared to my previous Samsung note 10+.Display not good as note 10 also charging too slow.Apple should add fast charger like 11 plus and pro.Best phone for daily use', 'Upgraded from iphone 6 to 11 best phone for iphone users battery is much better than other iphones camera is awesome love to use it.camera is so clear in night.', 'I just directly switch from iphone 6s to iphone 11 .The best premium smartphone I recommend to everyone. Excellent quality and colors the iphone have in 11 series.Camera quality is just awesome and the major feel when we hold in our hands. The sound quality and volume is also higher then the previous models.I will recommend to buy iphone 11 instead of pro models , there is nothing much difference as this model contains everything which fulfill our needs.Only one thing that I dislike abo...READ MORE', 'This will help you more. See if you are planning to buy iPhone 11. I will say. Yes. But there are some plans I just want to disclose before you buy. 1) If you are an existing iPhone X/XS/XS Max/ XR user, better you guys do not think it to buy. You guys have more or less better gadget. 2) If you are an android user and planning to buy premium phone. I will suggest them to please buy iPhone instead of buying an Android. I bet you will never go back to android after using IOS. Now I want to shar...READ MORE', 'Well you all know the specifications . One of a kind. Best iPhone till date. Many enhancements to the camera app with many options. Love the glass body with matte finish in the lens area on the back. Lovely colours to choose from. Best battery in an iPhone till date, enough to last more than a day in normal usage. I tested my iPhone 11 battery and lasted for than 24 hours after full charge still with 30% battery charge left. Watched movies for some time. Normal usage on calls, browsing, musi...READ MORE', 'The built quality is not very premium.The battery back is great .The LCD panel is not so sharp but the brightness level is very High .Camera is super duper awesome.The red colour which people think is bright is actually very soothing and excellent colour to choose from .The A13 Bionic chip is really a flagship processor and can beat any phone which even has 12 gb ram .Camera module is very great and looks very stylish.', 'Really good actually this is my first apple product am using its really awesome performance wise excellent. Am really happy with this iphone11', 'it is very good at performance. Camera is best like before and very smooth response even in water. Don’t buy 12 mini buy iPhone 11 , it is far better than 12 mini believe me ! Have a nice day \\uf8ff ☺️', 'Reviewing again after 5 months. At the beginning the battery and performance was good but it degraded soon. Also I was facing heating issues. The mobile will heat up like a stove sometimes. You cannot even play Pubg even in low settings properly, performance is not a problem but heating is. Also if you play that game for 10 mins the brightness will be automatically down due to over heating even when the auto brightness is set to off. This will not be solved even if u manually increase the bri...READ MORE', 'Great iPhone very snappy experience as apple kind. Upgraded from iPhone 7.Pros-Camera top class- Battery top performed-Chipset no need to say as apple kind-Security as you expect from apple- Display super bright industry leading colouraccuracy and super responsive-Build quality as expect from apple sturdypremium durable beautiful stylish.-Os most stable os in smartphone industryCons-No 5G-Display is not based on OLED technology-Charger headphones and 1 apple stic...READ MORE', 'It is just awesome mobile for this price from Apple,After 10 days reviewBattery enough for 1 day even 24*7 Internet will be on and mostly internet usageCamera is just awesome cool , android 64 MP is equal to this just 12 MPA13 Bionic chip will give more high performance without hangingAudio stereo speakers will give Dolby atoms sound with crystal clearVideo recording is like cinematic shots of every sec can be a 4K 60fps. Just awesome this phoneiPhone 11 loved one', 'Best Apple iPhone that i have bought at a very reasonable price, camera quality is next level just awesome n of superior quality android phones not even close(RIP) to that and also battery is really good but packaging by Flipkart of iPhone was very poor of such a expensive product, firstly im bit worried about the quality of product if i purchased it through online how was the product but i think now this was mine best decision to bought it through Flipkart online because i got genuine Apple...READ MORE', \"I can say I'm damn impressed with iPhone 11. As they says iPhone 11 have the toughest glass ever in the smartphone which you'll find on the front and back and it's totally smooth. The fit and finish is full apple quality - there's no sense that any cheaping out has happened in the construction. Without saying it's camera features this review won't complete. The iPhone 11 has a dual camera system, consisting of a wide angle len's that's pretty much same as found on the iPhone XR last year, but...READ MORE\", 'Best Quality Product OF iPhone Series , Sound Quality & Camera quality is very awesome, Battery Life is very Sufficient for 24 hr Backup With Full Internet Access , I love this this Product too much , It is very fast & making me Very fast in all my daily RoutineHighlights;1.Camera: 5 STAR2.Video Recording: 5 star3.Night mODE sHOOTING & Camera:4 star4. Audio Quality: Awesome5. Battery : 5 Star6. Touch:5 Star7. Processor: Very FastThe M...READ MORE', 'First thanks to Flipkart for this amazing deal and phone is outstanding. I upgraded from iPhone 7 and this is like very big upgrade. But the packaging was very basic I expected a good packaging as they only wrapped one layer of bubble wrap which I don’t think is enough to protect this expensive phone. And I recommend this phone and seller as well.And I’m posting this review after using it for 4 days.', 'Superfast delivery by Flipkart. Thanks.1. iPhone 11 is a pretty solid phone for the money you are paying.2. All the bad reviews about the display is confusing. It’s not that bad.3. I switched from a Oneplus 7t. I have no complaints about the display quality of iPhone. Yes, it’s not OLED, so, we are missing on the deep blacks. But that’s it. It is a very colour accurate display. Gets adequately bright and I could not find any pixelation.4. Performance is one of the best, if not best, in ...READ MORE', 'Smooth like butter, camera like fantabulous, sound is crystal clear & its red color is damn attractive, i am just loving it. Must buy if you love photography.Lucky to get it in sale, thank you Flipkart.', \"Again back to apple iphone after a gap of 2-3 years. It's pleasure to use iOS and the quality product by Apple. Iphone 11 still works like a beast in 2021 also. It really capable of doing day to day usage as well as hard core gaming. Battery is awesome. I'm really too much satisfied with it. Apart fto the very gorgious IPS LCD (AMOLED will be better) everything is mind boggling. Iphone💕.\", 'Looking so good 👍 😍 super 👌 stylish 😎 phoneClean box 📦 good 👍 delivery 👌 fast deliveryOriginal box Original iphone 📱 👌 😍😍😍', 'impressive super phone and best in class camera ,sound and face unlock is super fast just see and phone is unlock and fast in daily apps use', 'Battery backup is extraordinary, camera is decent & performance offered by A13 bionic is awsome. The display is good in practical usage like the visibility of display is very good in direct sun light compare to pro models. Iam extremely satisfied for the money I spent.', 'Well while switching from android to iOS the first thing you need to be careful about is that you will loose all your whatsapp chat backups as both are different operating systems. Camera clarity is awesome and though being an lcd screen clarity and resolution is good. Battery backup is also good unlike previous gen iPhone. So far the experience is good will Padre after a few months of usage.P.S the black is more of a dark grey shade and not jet black', 'In love with this iphone great performance,camera ,battery everything. Go for it have a uncompareble battery backup, no doubts in iPhone camera here You can see the picture which is shot on my iPhone In love with this iphone great performance,camera ,battery everything. Go for it have a uncompareble battery backup, no doubts in iPhone camera here You can see the picture which is shot on my iPhone In love with this iphone great performance,camera ,battery everything. Go for it have a uncompare...READ MORE', 'Best in class. Battery backup is good especially when you play games like Pubg COD. But it is sort of heavy when you hold in hands. Portrait mode is best to click pictures. Stage light effect is awesome. Try to click photos outside in nature because photos inside home or room will not give you the quality in any phone even in DSLR.', 'Very excited to have this phone. This phone has the real power unlike the android phones having SD 855 . The battery life is very good and the camera quality is excellent as comapred to redmi and other phones except google pixel. I M enjoying every single bit of it. Would recommed only if you have the budget.', \"I upgraded (downgraded?) from my iPhone X since the phone fell down and I didn't want to repair the screen. The box that the phone came in was super slim and I was worried that there'd be no 5W charger with it and my fears were confirmed. However, thankfully I had the 18W USB-C PD charger from Apple which I bought for my iPhone X and it worked perfectly. The charging time is as lethargic as ever though and it takes about 1:30 mins or even 2 hours depending on charge remaining. I'll list some ...READ MORE\", 'Its Very awesome product working and good camera quality and all about best product and also flipkart is very great deal and offer nice price', 'Best and amazing product.....phone looks so premium.... battary is also good as expected .... Wide angle camera is so addictive ...if you are a IOS lover....then this phone will be the best choice for you all!!💯🔥', 'Excellent camera and display touching very nice and smooth very improvement against iPhone XR and new processor is very fast', 'Awesome purchase. Amazing phone with good battery backup. It’s a top notch device. White colour looks amazing. Phone has a few extra feature than iPhone XR. Overall, this is value for money', 'Totally in love with this ❤ the camera quality is amazing just love it 😘😘😘 itsss dammnnnnnn amazing... Must buy iPhone 11 this is my best experience ever ☀👌👌🧡🧡🧡🧡🧡 thanku apple ❤', 'Always love the apple products, upgraded from old iPhone 6S plus to this after having my first baby. I just love to click baby’s photos with it. Overall I just love this phone. Battery back up is okay, sound quality is good. Haven’t tested yet waterproof yet. Only one thing I hate is apple could have given charger & headphones in box.', 'Amazing camera and feel super machine I am not describe my feeling but this is amazing Phone I am so lucky I have this', 'They are selling cheep quality items. There is a black line on the edge of the display. Waiting for the replacement..Update:today I got the replacement from flipkart.. The second one is nice and the display and camera quality is much better than the previous one.. Thanks for the support', 'awesome phone to have. it has got many smart features apart from mind blowing looks, camera, display, battery and sound. have fallen in love with this phone. must buy phone if you have got enough money. thanks to flipkart and apple of course..', 'Its a fabulous mobile look awesome performance unbeaten camera like dslr battery good i think this is a beast of mobile', 'Dear friends... I want to share my experience with you about this amazing I phone 11....this is my first iPhone and special things about this mobile is it has great camera, battery backup and awesome display.... I mean everything is perfect.loved it 👍👍👍', \"It's very high performances devise i am like the service of flipkart delevary very fast and packing very nice perfect phone\", 'Amazing phone and on great deal I received with super fast delivery by Flipkart...', \"Just got this iphone 11And it is most powerful mobile phone I have used everSo,go for it if you want a phone with best specification like camera,battery backup,display, A13 bionic chipThat's my review about this phone but yours can be differ from me....\", 'awesome Phone Smooth Touch Too good Sexyy looks one word Awesome', 'I rate this product 5* as it has got amazing user experience with the best performing A13 bionic processor. The screen responds and graphics rendering is top notch. With casual gaming and internet browsing, the battery lasts for approx. 1 day. Camera is very good. You will fall in love with the portrait mode. You can call me a loyal Apple customer or whatever but I won’t stop praising the products and overall experience. That user experience matters and is worth every penny you pay.Below ar...READ MORE', 'I purchased the iPhone 11 a month back. I must say Apple has impressed me yet again . I have been an Apple user for past 5 years . The phone is power packed with amazing features . What impressed me the most was the battery backup the phone offers . Battery can easily run upto 1.5 days in single charge with moderate toHeavy usage . If you’re looking for a value for money device , I don’t see any other phone in the price range which can match the iPhone 11 .One thing I didn’t like was that ...READ MORE', \"Just go for it.This phone is really amazing. I ordered it for my wife and we click photos on this thing which are better than dslr. I own OnePlus 6t but it's camera sucks. iPhone is really amazing when it comes to camera. It's worth spending 50k on this. Cons- only display is lcd. While using u don't feel it but if u compare with other phone then u can see difference quite easily.Changing from Android to iphone is bit difficult coz most of things u don't know but I liked it. Some of the a...READ MORE\", 'Absolutely powerful gadget. Loved it’s look! Soo glassy and classy. I would definitely recommend this model of Apple. Only disappointed with the 5W charger, one should purchase an 18W adapter for fast charging. Though battery backup is great. Bought it in September 2020, reviewing after so long so I’m gonna put the genuine review here.✅', 'I was torn between the oneplus 8 pro and the iphone 11. I had to shell out extra money for this, but I say if you can afford it, this truely is the best package.Mind blowing camera, battery and overall performance. Face Id works like magic even in complete darkness without firing up the screen brightness. The phones with in display fingerprint scanners do this at night time and it really burns your eyes.I wanted the oneplus for its display but tbh the OLEDs on oneplus is really bad. Flick...READ MORE', 'I am using this phone for 5 days and its one of the best camera out there ❤️ the screen is not oled and i am coming from iphone xs so its little bit not up to the mark i would sayBut overall value for money💕😍the battery back up is far better than my iphone xs and its worth in my apple ecosystem💫❤️if u are an apple User and have the eco system then go for it❤️though i will be getting the new iphone but its pretty good💫', \"It was amazing experience for me. Honestly i am using iPhone first time so I don't have that much past experience about that. But after using 7 days this mobile i want to give some honest feedback.1- Display 9 out of 102- Camera 9.5 out of 103- Battery 7 out of 104- Performance 9.5 out of 105- Features & Functions 10 out of 106- Outer looks and colour 10 out of 10Rest i think i will understand after using this for few months.I will highly recommend you guys if you have budget then you...READ MORE\", 'I use a Note10+ and have been using both iOS and Android devices.Camera has really good features and portraits are super good, better than Samsung flagship. Overall camera setup can still be enhanced and hopeful for better upgrades on software in next releaseOperating system is quite a breeze and user experience of daily usage is very high as compared to Android. I moved to iOS very swiftly in 2 days for all my office work from Note10+Battery holds up quite well with 4 hrs of call and ...READ MORE', 'The phone is completely goodAs far as camera Apple is king of itAnd its a beast in performanceAnd the battery is pretty good too', 'Everything u ll like it when u use this iPhone. Simple changes only not many to lower models but it’s nice to use. Little heavy compared to previous models like 7,8', 'Nice value for money good and best price I phone mind blowing camera processor very fast other android mobile I am happy India top selling phone 2020', 'The ultimate performanceCamera is superbThe battery backup also very good i never saw iphone gives this much of battery backupIf any one wana buy iphone 11 definitely i will recommend this mobileIt has the better battery and powerfull processer peak performance glorious camera and the display also 100% high quality lcd display if u had money for for 12 if u dont wana invest much money on that then go for iphone 11 it has maximum same specs only main difference between the 12 and 11 is...READ MORE', \"It's a great phone. From camera to display everything is best for the price.Best camera , best performance. I think everyone should buy it . This phone has best battery life so far in iphone series which I had used earlier. Happy to have it. Thanks Flipkart\", 'This is my first ever iPhone.And I truly don’t regret switching to IOS from my Android.It is easily an alternative to a DSLR camera.If you’re obsessed with photos and videos, just don’t think twice or don’t compare to other androids(Samsung S10 lite or OnePlus 8/8T), as it’s far better from them in every field.Comparing will only make you confused.I am getting an average Screen on Time of around 10 hours with 30 percent left. I haven’t let my device discharged below 30 % as it aff...READ MORE', 'Can’t beat the software and hardware integration of apple.Performs like a beast. Great quality camera6-7 hours screen on time which is good. Nothing much to complaint about the screen. Good connectivity speeds.Great buy and Flipkart’s delivery top notch as usual', 'Value for money product. This iphone 11 is really amazing. Again nice release by apple. Great camera, battery backup is excellent. I just love this phone', 'Thanks Flipkart For this amazing deal! I had a dream of owning a iphone since i had known about.Im very happy with my purchase & it is totally worth it.Amazing experience all over !!Anyone who’s thinking of buying it in 2021, i would simply say go for it without any second thoughts ❤️', \"I genuinely liked it. One of the best mobile phones I have used. It's sho smooth and it's security is very astonishing. Plus it has a very good camera quality. so overall it's a win win.\", 'The phone is completely goodAs far as camera Apple is king of itAnd its a beast in performanceAnd the battery is pretty good too', 'Everything u ll like it when u use this iPhone. Simple changes only not many to lower models but it’s nice to use. Little heavy compared to previous models like 7,8', 'Nice value for money good and best price I phone mind blowing camera processor very fast other android mobile I am happy India top selling phone 2020', 'The ultimate performanceCamera is superbThe battery backup also very good i never saw iphone gives this much of battery backupIf any one wana buy iphone 11 definitely i will recommend this mobileIt has the better battery and powerfull processer peak performance glorious camera and the display also 100% high quality lcd display if u had money for for 12 if u dont wana invest much money on that then go for iphone 11 it has maximum same specs only main difference between the 12 and 11 is...READ MORE', \"It's a great phone. From camera to display everything is best for the price.Best camera , best performance. I think everyone should buy it . This phone has best battery life so far in iphone series which I had used earlier. Happy to have it. Thanks Flipkart\", 'This is my first ever iPhone.And I truly don’t regret switching to IOS from my Android.It is easily an alternative to a DSLR camera.If you’re obsessed with photos and videos, just don’t think twice or don’t compare to other androids(Samsung S10 lite or OnePlus 8/8T), as it’s far better from them in every field.Comparing will only make you confused.I am getting an average Screen on Time of around 10 hours with 30 percent left. I haven’t let my device discharged below 30 % as it aff...READ MORE', 'Can’t beat the software and hardware integration of apple.Performs like a beast. Great quality camera6-7 hours screen on time which is good. Nothing much to complaint about the screen. Good connectivity speeds.Great buy and Flipkart’s delivery top notch as usual', 'Value for money product. This iphone 11 is really amazing. Again nice release by apple. Great camera, battery backup is excellent. I just love this phone', 'Thanks Flipkart For this amazing deal! I had a dream of owning a iphone since i had known about.Im very happy with my purchase & it is totally worth it.Amazing experience all over !!Anyone who’s thinking of buying it in 2021, i would simply say go for it without any second thoughts ❤️', \"I genuinely liked it. One of the best mobile phones I have used. It's sho smooth and it's security is very astonishing. Plus it has a very good camera quality. so overall it's a win win.\", \"If you are looking for a premium phone under 55k, this is the one for you.Got the iPhone 11 during the Republic day sale. Performance is top notch in this price range. Camera's do a perfect job in taking good quality photos and videos. Battery backup too is satisfactory. Writing this review after using for a week. Any further observations would be updated.\", 'Awesome camera, smooth and fast UI, display is great (though not LED) but the black area at the top could have been reduced. Battery remains a day even if used heavily. Charger in the box is ok, but 12 or 18W could have been nothing like anything. Overall an excellent product and comfortable to use. I have got it almost a month back and so far so good.', \"The best all rounder iphone. Flipkart is doing a great job. They're delivery services are blazing fast. I got delivery on the same day. Genuine Apple Product. Working great. Talking about review There's no need of review for iphones. They're simply the best.\", 'We are on apple ecosystem for almost eight years now with couple of iPads and iPhones, including Xr.Bought iPhone 11 as a gift to my daughter who loves it. We chose for a purple coloured one. Believe me it is gorgeous and towards the lighter shade. Dazzling and brilliant!The phone is great and does excellent RAM management like any other Apple device.The screen, though a LCD and lesser ppi as compared to other flagship phones of competitor brands, is a delight to watch with perfect re...READ MORE', 'A perfect phone and a good battery super camera and the sound is dynamic overall the phone is perfect for upgrading from lower iPhone model to iPhone 11', \"i was confused between 11 and 11 pro. i was going towards 11 pro, but the screen size was not enough for me.And i saw 11 in the showroom. i didn't find much difference in screen quality.And cameras seems to be ok with me. And i saw offer's in flipkart and made the purchase.the device is fabulous. The hardware and software quality is excellent. The new iOS is something you need to experience yourself. The drawback i found was absence of fast charger, but the pricing can compensate that. Am...READ MORE\", 'Product is nice at the deviled time the delivery boy not open the box and this order is oBD but he is not open and not showing product he gives Product and gone time God product is super nice and good Tq Flipkart and seller love you Flipkart Product is nice display good touch screen amazing compared to other brands over all Product is super. Tq Flipkart', \"phone is good but in display is 720p lcd in this price range we can get full hd OLED displays with higher refresh rate processor is very good camera is nice but looks kind of oldish in front of todays phone also there's no charging in box had to buy it seperately\", 'Everything is perfect pictures come out so clearly and at first I wasn’t sure when I got it then when I started to use it and get the hang of it it was amazing!! I can’t wait to see what the next future phones will be like. The screen display on this bad boy are unbelievable they are so clear and never fail me. The performance is super cool there is a lot of cool features as well I like this phone because I feel that it is easy to use and one of my favorite things about this phone is the Face...READ MORE', 'I dreamt about this day from a long time.... Getting an iPhone with my own money.... Super happy and worth spending every penny']\n",
      "100\n"
     ]
    }
   ],
   "source": [
    "#Page8\n",
    "#Extract rating\n",
    "titles_tag=driver.find_elements_by_xpath(\"//div[@class='_3LWZlK _1BLPMq']\")\n",
    "for i in titles_tag:\n",
    "    rating.append(i.text)\n",
    "print(rating)\n",
    "print(len(rating))\n",
    "\n",
    "#Extract review summary\n",
    "titles_tag=driver.find_elements_by_xpath(\"//p[@class='_2-N8zT']\")\n",
    "    \n",
    "for i in titles_tag:\n",
    "    rev_sum.append(i.text)\n",
    "print(rev_sum)\n",
    "print(len(rev_sum))\n",
    "\n",
    "#Extract review \n",
    "titles_tag=driver.find_elements_by_xpath(\"//div[@class='t-ZTKy']\")\n",
    "    \n",
    "for i in titles_tag:\n",
    "    rev.append(i.text.replace(\"\\n\",\"\"))\n",
    "print(rev)\n",
    "print(len(rev))"
   ]
  },
  {
   "cell_type": "code",
   "execution_count": 137,
   "metadata": {},
   "outputs": [
    {
     "data": {
      "text/html": [
       "<div>\n",
       "<style scoped>\n",
       "    .dataframe tbody tr th:only-of-type {\n",
       "        vertical-align: middle;\n",
       "    }\n",
       "\n",
       "    .dataframe tbody tr th {\n",
       "        vertical-align: top;\n",
       "    }\n",
       "\n",
       "    .dataframe thead th {\n",
       "        text-align: right;\n",
       "    }\n",
       "</style>\n",
       "<table border=\"1\" class=\"dataframe\">\n",
       "  <thead>\n",
       "    <tr style=\"text-align: right;\">\n",
       "      <th></th>\n",
       "      <th>Rating</th>\n",
       "      <th>Review Summary</th>\n",
       "      <th>Full Review</th>\n",
       "    </tr>\n",
       "  </thead>\n",
       "  <tbody>\n",
       "    <tr>\n",
       "      <th>0</th>\n",
       "      <td>5</td>\n",
       "      <td>Brilliant</td>\n",
       "      <td>The Best Phone for the MoneyThe iPhone 11 offe...</td>\n",
       "    </tr>\n",
       "    <tr>\n",
       "      <th>1</th>\n",
       "      <td>5</td>\n",
       "      <td>Perfect product!</td>\n",
       "      <td>Amazing phone with great cameras and better ba...</td>\n",
       "    </tr>\n",
       "    <tr>\n",
       "      <th>2</th>\n",
       "      <td>5</td>\n",
       "      <td>Great product</td>\n",
       "      <td>Amazing Powerful and Durable Gadget.I’m am ver...</td>\n",
       "    </tr>\n",
       "    <tr>\n",
       "      <th>3</th>\n",
       "      <td>5</td>\n",
       "      <td>Worth every penny</td>\n",
       "      <td>Previously I was using one plus 3t it was a gr...</td>\n",
       "    </tr>\n",
       "    <tr>\n",
       "      <th>4</th>\n",
       "      <td>5</td>\n",
       "      <td>Fabulous!</td>\n",
       "      <td>This is my first iOS phone. I am very happy wi...</td>\n",
       "    </tr>\n",
       "    <tr>\n",
       "      <th>...</th>\n",
       "      <td>...</td>\n",
       "      <td>...</td>\n",
       "      <td>...</td>\n",
       "    </tr>\n",
       "    <tr>\n",
       "      <th>95</th>\n",
       "      <td>5</td>\n",
       "      <td>Excellent</td>\n",
       "      <td>i was confused between 11 and 11 pro. i was go...</td>\n",
       "    </tr>\n",
       "    <tr>\n",
       "      <th>96</th>\n",
       "      <td>3</td>\n",
       "      <td>Highly recommended</td>\n",
       "      <td>Product is nice at the deviled time the delive...</td>\n",
       "    </tr>\n",
       "    <tr>\n",
       "      <th>97</th>\n",
       "      <td>5</td>\n",
       "      <td>Wonderful</td>\n",
       "      <td>phone is good but in display is 720p lcd in th...</td>\n",
       "    </tr>\n",
       "    <tr>\n",
       "      <th>98</th>\n",
       "      <td>5</td>\n",
       "      <td>Nice product</td>\n",
       "      <td>Everything is perfect pictures come out so cle...</td>\n",
       "    </tr>\n",
       "    <tr>\n",
       "      <th>99</th>\n",
       "      <td>5</td>\n",
       "      <td>Good quality product</td>\n",
       "      <td>I dreamt about this day from a long time.... G...</td>\n",
       "    </tr>\n",
       "  </tbody>\n",
       "</table>\n",
       "<p>100 rows × 3 columns</p>\n",
       "</div>"
      ],
      "text/plain": [
       "   Rating        Review Summary  \\\n",
       "0       5             Brilliant   \n",
       "1       5      Perfect product!   \n",
       "2       5         Great product   \n",
       "3       5     Worth every penny   \n",
       "4       5             Fabulous!   \n",
       "..    ...                   ...   \n",
       "95      5             Excellent   \n",
       "96      3    Highly recommended   \n",
       "97      5             Wonderful   \n",
       "98      5          Nice product   \n",
       "99      5  Good quality product   \n",
       "\n",
       "                                          Full Review  \n",
       "0   The Best Phone for the MoneyThe iPhone 11 offe...  \n",
       "1   Amazing phone with great cameras and better ba...  \n",
       "2   Amazing Powerful and Durable Gadget.I’m am ver...  \n",
       "3   Previously I was using one plus 3t it was a gr...  \n",
       "4   This is my first iOS phone. I am very happy wi...  \n",
       "..                                                ...  \n",
       "95  i was confused between 11 and 11 pro. i was go...  \n",
       "96  Product is nice at the deviled time the delive...  \n",
       "97  phone is good but in display is 720p lcd in th...  \n",
       "98  Everything is perfect pictures come out so cle...  \n",
       "99  I dreamt about this day from a long time.... G...  \n",
       "\n",
       "[100 rows x 3 columns]"
      ]
     },
     "execution_count": 137,
     "metadata": {},
     "output_type": "execute_result"
    }
   ],
   "source": [
    "#Dataframe Q7\n",
    "product=pd.DataFrame()\n",
    "product[\"Rating\"]=rating[0:100]\n",
    "product[\"Review Summary\"]=rev_sum[0:100]\n",
    "product[\"Full Review\"]=rev[0:100]\n",
    "product"
   ]
  },
  {
   "cell_type": "markdown",
   "metadata": {},
   "source": [
    "# Question-8\n"
   ]
  },
  {
   "cell_type": "code",
   "execution_count": 33,
   "metadata": {},
   "outputs": [],
   "source": [
    "driver=webdriver.Chrome(r\"C:\\Users\\Akash\\Downloads\\chromedriver_win32\\chromedriver.exe\")\n",
    "#Connect URL\n",
    "url=\"https://www.flipkart.com/\"\n",
    "driver.get(url)"
   ]
  },
  {
   "cell_type": "code",
   "execution_count": 34,
   "metadata": {},
   "outputs": [],
   "source": [
    "#Type \"Sunglasses in search bar\"\n",
    "search=driver.find_element_by_xpath(\"/html/body/div/div/div[1]/div[1]/div[2]/div[2]/form/div/div/input\")\n",
    "#Write on search bar\n",
    "search.send_keys('Sneakers')"
   ]
  },
  {
   "cell_type": "code",
   "execution_count": 35,
   "metadata": {},
   "outputs": [],
   "source": [
    "#Click on search button\n",
    "search_btn=driver.find_element_by_xpath(\"/html/body/div/div/div[1]/div[1]/div[2]/div[2]/form/div/button\")\n",
    "search_btn.click()"
   ]
  },
  {
   "cell_type": "code",
   "execution_count": 36,
   "metadata": {},
   "outputs": [
    {
     "name": "stdout",
     "output_type": "stream",
     "text": [
      "['India hub', 'Shoes Bank', 'Robbie jones', 'CALCADOS', 'bluemaker', 'ORICUM', 'bluemaker', 'KULP', 'Alfiya', 'ASTEROID', 'PEHANOSA', 'HOTSTYLE', 'PUMA', 'Kraasa', 'HOTSTYLE', 'Stefano Rads', 'Robbie jones', 'ADIDAS', 'Birde', 'SCATCHITE', 'Chevit', 'Numenzo', 'Zsyto', 'ASTEROID', 'D-SNEAKERZ', '3SIX5', 'SWIGGY', 'bluemaker', 'Birde', 'Absolute comfort', 'restinfoot', 'PUMA', 'PUMA', 'PUMA', 'Chevit', 'Chevit', 'SPARX', 'Nilatin', 'SPARX', 'Chevit']\n",
      "40\n",
      "['Fashionable casual sneakers shoes Sneakers For Men', '₹389₹2,99987% off', \"White Sneaker For Men's/Boy's Sneakers For Men\", '₹349₹99965% off', 'Sneakers For Men', '₹474₹99952% off\\nOr Pay ₹450 + \\n 24', 'Modern Trendy Shoes Combo pack of 4 Sneakers For Men', '₹748₹1,99662% off\\nOr Pay ₹710 + \\n 38', 'casual for men (blue 06) Sneakers For Men', '₹474₹99952% off\\nOr Pay ₹450 + \\n 24', 'Combo pack of 2 casual sneaker shoes for men Sneakers F...', '₹377₹99862% off\\nOr Pay ₹358 + \\n 19', 'casual for men (beige 06) Sneakers For Men', '₹474₹99952% off\\nOr Pay ₹450 + \\n 24', 'Sneakers For Men', '₹399₹99960% off', 'Shoes in Black Color Party wear/Outdoor/Casual Shoes Fo...', '₹377₹99962% off', \"Luxury Branded Fashionable Men's Casual Walking Partywe...\", '₹499₹1,99975% off\\nOr Pay ₹474 + \\n 25', 'Sneakers For Men', '₹499₹99950% off', 'Sneakers Sneakers For Men', '₹283₹49943% off\\nOr Pay ₹254 + \\n 29', 'Lazy Knit Slip On IDP Sneakers For Men', '₹1,506₹2,99949% off\\nOr Pay ₹1,430 + \\n 76', 'Series 7 Sneakers For Men', '₹416₹99958% off', 'Sneakers Sneakers For Men', '₹283₹49943% off\\nOr Pay ₹254 + \\n 29', 'Classy Sneakers For Men', '₹242₹69965% off', 'Casual Sneakers White Shoes For Men Sneakers For Men', '₹499₹99950% off\\nOr Pay ₹474 + \\n 25', 'Adiset M Sneakers For Men', '₹1,860₹3,59948% off\\nOr Pay ₹1,767 + \\n 93', 'Combo Pack of 4 Casual Shoes Sneakers For Men', '₹661₹1,99966% off', 'Sneakers Sneakers For Men', '₹398₹99960% off', \"Super & Trendy Men's Pack of 02 Pair Shoes for Boys Cas...\", '₹472₹1,99876% off', 'Sneakers For Men', '₹398₹99960% off', 'Sneakers For Men', '₹398₹1,29969% off\\nOr Pay ₹378 + \\n 20', 'Skate Board White Shoes Men Running Flat PU Sneakers Ma...', '₹451₹99954% off\\nOr Pay ₹428 + \\n 23', \"Casual , Partywear Sneakers Shoes For Men's And Boys Wh...\", '₹365₹65944% off', 'ORIFWSH(OR)-1077 Sneakers For Men', '₹214₹49957% off\\nOr Pay ₹203 + \\n 11', 'Casual Loafers, Sneakers Shoes for Men Pack of 5 Combo(...', '₹719₹2,49571% off\\nOr Pay ₹683 + \\n 36', 'casual for men (black 08) Sneakers For Men', '₹474₹99952% off\\nOr Pay ₹450 + \\n 24', \"Men's Stylish Casual Shoes Sneakers For Men\", '₹283₹49943% off', 'SOFT Sneakers For Men', '₹199₹49960% off', \"Casual shoes,Sneakers for men's,shoes for men's Sneaker...\", '₹379₹99962% off', 'Simha IDP Sneakers For Men', '₹1,529₹2,99949% off\\nOr Pay ₹1,452 + \\n 77', 'Acrux IDP Sneakers For Men', '₹1,419₹3,29956% off', 'Corode IDP Sneakers For Men', '₹1,644₹3,99958% off\\nOr Pay ₹1,561 + \\n 83', 'Perfect & Affordable Combo Pack of 02 Pairs Sneakers Ou...', '₹473₹1,79873% off', \"Men's Combo Pack of 02 Shoes for Men Casual Sneakers Ou...\", '₹498₹99850% off', 'SM-322 Sneakers For Men', '₹769₹99923% off', 'White Sneaker for Men Sneakers For Men', '₹407₹1,29968% off\\nOr Pay ₹386 + \\n 21', 'SD-323 Sneakers For Men', '₹630₹74915% off', 'Super 445 Fashion Sneakers For Men', '₹369₹49926% off']\n",
      "80\n",
      "['₹389', '₹349', '₹474', '₹748', '₹474', '₹377', '₹474', '₹399', '₹377', '₹499', '₹499', '₹283', '₹1,506', '₹416', '₹283', '₹242', '₹499', '₹1,860', '₹661', '₹398', '₹472', '₹398', '₹398', '₹451', '₹365', '₹214', '₹719', '₹474', '₹283', '₹199', '₹379', '₹1,529', '₹1,419', '₹1,644', '₹473', '₹498', '₹769', '₹407', '₹630', '₹369']\n",
      "40\n",
      "['87% off', '65% off', '52% off', '62% off', '52% off', '62% off', '52% off', '60% off', '62% off', '75% off', '50% off', '43% off', '49% off', '58% off', '43% off', '65% off', '50% off', '48% off', '66% off', '60% off', '76% off', '60% off', '69% off', '54% off', '44% off', '57% off', '71% off', '52% off', '43% off', '60% off', '62% off', '49% off', '56% off', '58% off', '73% off', '50% off', '23% off', '68% off', '15% off', '26% off']\n",
      "40\n"
     ]
    }
   ],
   "source": [
    "#Page 1\n",
    "brand=[]\n",
    "desc=[]\n",
    "price=[]\n",
    "discount=[]\n",
    "#Extract all the brand\n",
    "titles_tag=driver.find_elements_by_xpath(\"//div[@class='_2WkVRV']\")\n",
    "for i in titles_tag:\n",
    "    brand.append(i.text)\n",
    "print(brand)\n",
    "print(len(brand))\n",
    "\n",
    "#Extract Product description\n",
    "titles_tag=driver.find_elements_by_xpath(\"//div[@class='_2B099V']//a\")\n",
    "for i in titles_tag:\n",
    "    desc.append(i.text)\n",
    "print(desc)\n",
    "print(len(desc))\n",
    "\n",
    "#Extract Price\n",
    "titles_tag=driver.find_elements_by_xpath(\"//div[@class='_30jeq3']\")\n",
    "for i in titles_tag:\n",
    "    price.append(i.text)\n",
    "print(price)\n",
    "print(len(price))\n",
    "\n",
    "#Extract discount\n",
    "titles_tag=driver.find_elements_by_xpath(\"//div[@class='_3Ay6Sb']\")\n",
    "for i in titles_tag:\n",
    "    discount.append(i.text)\n",
    "print(discount)\n",
    "print(len(discount))"
   ]
  },
  {
   "cell_type": "code",
   "execution_count": 37,
   "metadata": {},
   "outputs": [],
   "source": [
    "#Click on next button\n",
    "search_btn=driver.find_element_by_xpath(\"/html/body/div/div/div[3]/div[1]/div[2]/div[12]/div/div/nav/a[11]/span\")\n",
    "search_btn.click()"
   ]
  },
  {
   "cell_type": "code",
   "execution_count": 39,
   "metadata": {},
   "outputs": [
    {
     "name": "stdout",
     "output_type": "stream",
     "text": [
      "['India hub', 'Shoes Bank', 'Robbie jones', 'CALCADOS', 'bluemaker', 'ORICUM', 'bluemaker', 'KULP', 'Alfiya', 'ASTEROID', 'PEHANOSA', 'HOTSTYLE', 'PUMA', 'Kraasa', 'HOTSTYLE', 'Stefano Rads', 'Robbie jones', 'ADIDAS', 'Birde', 'SCATCHITE', 'Chevit', 'Numenzo', 'Zsyto', 'ASTEROID', 'D-SNEAKERZ', '3SIX5', 'SWIGGY', 'bluemaker', 'Birde', 'Absolute comfort', 'restinfoot', 'PUMA', 'PUMA', 'PUMA', 'Chevit', 'Chevit', 'SPARX', 'Nilatin', 'SPARX', 'Chevit', 'FILA', 'Robbie jones', 'World Wear Footwear', 'PUMA', 'PUMA', 'Chevit', 'FILA', 'PUMA', 'Zorth', 'kardam&sons', 'PUMA', 'Magnolia', 'PUMA', 'SPARX', 'PUMA', 'ESSENCE', 'REEBOK', 'TR', 'Jokatoo', 'ORICUM', 'Ktiz', 'Arohi', 'bluemaker', 'PUMA', 'HOC', 'Jack Diamond', 'D-SNEAKERZ', 'World Wear Footwear', 'PUMA', 'D-SNEAKERZ', 'PUMA', 'Magnolia', 'Ktiz', 'PUMA', 'tigonis', 'World Wear Footwear', 'SPARX', 'SHOELIFE', 'PUMA', 'SWIGGY']\n",
      "80\n",
      "['Fashionable casual sneakers shoes Sneakers For Men', '₹389₹2,99987% off', \"White Sneaker For Men's/Boy's Sneakers For Men\", '₹349₹99965% off', 'Sneakers For Men', '₹474₹99952% off\\nOr Pay ₹450 + \\n 24', 'Modern Trendy Shoes Combo pack of 4 Sneakers For Men', '₹748₹1,99662% off\\nOr Pay ₹710 + \\n 38', 'casual for men (blue 06) Sneakers For Men', '₹474₹99952% off\\nOr Pay ₹450 + \\n 24', 'Combo pack of 2 casual sneaker shoes for men Sneakers F...', '₹377₹99862% off\\nOr Pay ₹358 + \\n 19', 'casual for men (beige 06) Sneakers For Men', '₹474₹99952% off\\nOr Pay ₹450 + \\n 24', 'Sneakers For Men', '₹399₹99960% off', 'Shoes in Black Color Party wear/Outdoor/Casual Shoes Fo...', '₹377₹99962% off', \"Luxury Branded Fashionable Men's Casual Walking Partywe...\", '₹499₹1,99975% off\\nOr Pay ₹474 + \\n 25', 'Sneakers For Men', '₹499₹99950% off', 'Sneakers Sneakers For Men', '₹283₹49943% off\\nOr Pay ₹254 + \\n 29', 'Lazy Knit Slip On IDP Sneakers For Men', '₹1,506₹2,99949% off\\nOr Pay ₹1,430 + \\n 76', 'Series 7 Sneakers For Men', '₹416₹99958% off', 'Sneakers Sneakers For Men', '₹283₹49943% off\\nOr Pay ₹254 + \\n 29', 'Classy Sneakers For Men', '₹242₹69965% off', 'Casual Sneakers White Shoes For Men Sneakers For Men', '₹499₹99950% off\\nOr Pay ₹474 + \\n 25', 'Adiset M Sneakers For Men', '₹1,860₹3,59948% off\\nOr Pay ₹1,767 + \\n 93', 'Combo Pack of 4 Casual Shoes Sneakers For Men', '₹661₹1,99966% off', 'Sneakers Sneakers For Men', '₹398₹99960% off', \"Super & Trendy Men's Pack of 02 Pair Shoes for Boys Cas...\", '₹472₹1,99876% off', 'Sneakers For Men', '₹398₹99960% off', 'Sneakers For Men', '₹398₹1,29969% off\\nOr Pay ₹378 + \\n 20', 'Skate Board White Shoes Men Running Flat PU Sneakers Ma...', '₹451₹99954% off\\nOr Pay ₹428 + \\n 23', \"Casual , Partywear Sneakers Shoes For Men's And Boys Wh...\", '₹365₹65944% off', 'ORIFWSH(OR)-1077 Sneakers For Men', '₹214₹49957% off\\nOr Pay ₹203 + \\n 11', 'Casual Loafers, Sneakers Shoes for Men Pack of 5 Combo(...', '₹719₹2,49571% off\\nOr Pay ₹683 + \\n 36', 'casual for men (black 08) Sneakers For Men', '₹474₹99952% off\\nOr Pay ₹450 + \\n 24', \"Men's Stylish Casual Shoes Sneakers For Men\", '₹283₹49943% off', 'SOFT Sneakers For Men', '₹199₹49960% off', \"Casual shoes,Sneakers for men's,shoes for men's Sneaker...\", '₹379₹99962% off', 'Simha IDP Sneakers For Men', '₹1,529₹2,99949% off\\nOr Pay ₹1,452 + \\n 77', 'Acrux IDP Sneakers For Men', '₹1,419₹3,29956% off', 'Corode IDP Sneakers For Men', '₹1,644₹3,99958% off\\nOr Pay ₹1,561 + \\n 83', 'Perfect & Affordable Combo Pack of 02 Pairs Sneakers Ou...', '₹473₹1,79873% off', \"Men's Combo Pack of 02 Shoes for Men Casual Sneakers Ou...\", '₹498₹99850% off', 'SM-322 Sneakers For Men', '₹769₹99923% off', 'White Sneaker for Men Sneakers For Men', '₹407₹1,29968% off\\nOr Pay ₹386 + \\n 21', 'SD-323 Sneakers For Men', '₹630₹74915% off', 'Super 445 Fashion Sneakers For Men', '₹369₹49926% off', 'Emeril Sneakers For Men', '₹1,267₹3,09959% off\\nOr Pay ₹1,203 + \\n 64', 'Casual Sneakers Shoes For Men Sneakers For Men', '₹474₹99952% off\\nOr Pay ₹450 + \\n 24', 'Combo Pack of 4 Latest Collection Stylish Casual Loafer...', '₹499₹2,64081% off', 'Simha IDP Sneakers For Men', '₹1,394₹2,99953% off\\nOr Pay ₹1,324 + \\n 70', 'Acrux IDP Sneakers For Men', '₹1,637₹3,29950% off\\nOr Pay ₹1,555 + \\n 82', 'Speed Set of 5 Pairs Sneakers Outdoors Casuals for Men ...', '₹719₹2,49571% off', 'EMAN Sneakers For Men', '₹1,266₹3,09959% off\\nOr Pay ₹1,202 + \\n 64', 'Rigel IDP Sneakers For Men', '₹1,405₹2,79949% off\\nOr Pay ₹1,334 + \\n 71', 'Sneakers For Men', '₹538₹99946% off', 'Fashionable casual sneaker shoes Sneakers For Men', '₹379₹1,99981% off', 'Simha IDP Sneakers For Men', '₹1,397₹2,99953% off\\nOr Pay ₹1,327 + \\n 70', 'White Sneakers Sneakers For Men', '₹311₹99968% off', 'Trenzo II IDP Sneakers For Men', '₹1,687₹2,99943% off', 'SM-482 Sneakers For Men', '₹999₹1,29823% off', 'Puma Wired Cage Sneakers For Men', '₹1,711₹3,49951% off\\nOr Pay ₹1,625 + \\n 86', 'Sneakers For Men', '₹442₹99955% off', 'TREAD LITE LUX Sneakers For Men', '₹1,228₹2,29946% off\\nOr Pay ₹1,166 + \\n 62', 'Sneakers For Men', '₹449₹1,99977% off', 'casual sneaker shoes and partywear shoes Casuals For Me...', '₹418₹1,48071% off', 'Combo pack of 2 Casuals Shoes For Men (1563-1564) Sneak...', '₹472₹99852% off\\nOr Pay ₹448 + \\n 24', 'Rockstyle Trending Multicolor Ultralight canvas Sport/ ...', '₹474₹1,29963% off', 'Sneakers For Men', '₹439₹99956% off', 'casual for men Sneakers For Men', '₹474₹99952% off\\nOr Pay ₹450 + \\n 24', 'Flex Renew SlipOn Sneakers For Men', '₹2,017₹3,49942% off\\nOr Pay ₹1,916 + \\n 101', 'Casual Sneakers Shoes For Men Sneakers For Men', '₹379₹1,29970% off', 'Sneakers For Men', '₹635₹99936% off', \"Casual , Partywear Sneakers Shoes For Men's And Boys Re...\", '₹346₹99965% off', 'Latest Collection-1227 Stylish Casual Sports Sneakers F...', '₹240₹49951% off', 'Perforated Low IDP Sneakers For Men', '₹1,707₹3,99957% off\\nOr Pay ₹1,621 + \\n 86', \"Casual , Partywear Sneakers Shoes For Men's And Boys Wh...\", '₹384₹99961% off', 'Puma Smash v2 Buck Sneakers For Men', '₹1,797₹3,49948% off\\nOr Pay ₹1,707 + \\n 90', 'Sneakers For Men', '₹356₹99964% off', 'Sneakers For Men', '₹399₹99960% off', 'Flex Generation V1 IDP Sneakers For Men', '₹1,696₹3,99957% off\\nOr Pay ₹1,611 + \\n 85', 'Sneakers For Men', '₹379₹1,79978% off', '5011-Latest Collection Stylish Casual Loafer Sneakers S...', '₹240₹49951% off', 'SM-162 Sneakers For Men', '₹730₹94923% off', 'Sneakers For Men', '₹401₹99959% off', 'Puma Wired Cage Sneakers For Men', '₹2,029₹3,49942% off\\nOr Pay ₹1,927 + \\n 102', 'casual sneakers, loafers,walking and running shoes For ...', '₹567₹1,49762% off\\nOr Pay ₹538 + \\n 29']\n",
      "160\n",
      "['₹389', '₹349', '₹474', '₹748', '₹474', '₹377', '₹474', '₹399', '₹377', '₹499', '₹499', '₹283', '₹1,506', '₹416', '₹283', '₹242', '₹499', '₹1,860', '₹661', '₹398', '₹472', '₹398', '₹398', '₹451', '₹365', '₹214', '₹719', '₹474', '₹283', '₹199', '₹379', '₹1,529', '₹1,419', '₹1,644', '₹473', '₹498', '₹769', '₹407', '₹630', '₹369', '₹1,267', '₹474', '₹499', '₹1,394', '₹1,637', '₹719', '₹1,266', '₹1,405', '₹538', '₹379', '₹1,397', '₹311', '₹1,687', '₹999', '₹1,711', '₹442', '₹1,228', '₹449', '₹418', '₹472', '₹474', '₹439', '₹474', '₹2,017', '₹379', '₹635', '₹346', '₹240', '₹1,707', '₹384', '₹1,797', '₹356', '₹399', '₹1,696', '₹379', '₹240', '₹730', '₹401', '₹2,029', '₹567']\n",
      "80\n",
      "['87% off', '65% off', '52% off', '62% off', '52% off', '62% off', '52% off', '60% off', '62% off', '75% off', '50% off', '43% off', '49% off', '58% off', '43% off', '65% off', '50% off', '48% off', '66% off', '60% off', '76% off', '60% off', '69% off', '54% off', '44% off', '57% off', '71% off', '52% off', '43% off', '60% off', '62% off', '49% off', '56% off', '58% off', '73% off', '50% off', '23% off', '68% off', '15% off', '26% off', '59% off', '52% off', '81% off', '53% off', '50% off', '71% off', '59% off', '49% off', '46% off', '81% off', '53% off', '68% off', '43% off', '23% off', '51% off', '55% off', '46% off', '77% off', '71% off', '52% off', '63% off', '56% off', '52% off', '42% off', '70% off', '36% off', '65% off', '51% off', '57% off', '61% off', '48% off', '64% off', '60% off', '57% off', '78% off', '51% off', '23% off', '59% off', '42% off', '62% off']\n",
      "80\n"
     ]
    }
   ],
   "source": [
    "#Page2\n",
    "#Extract all the brand\n",
    "titles_tag=driver.find_elements_by_xpath(\"//div[@class='_2WkVRV']\")\n",
    "for i in titles_tag:\n",
    "    brand.append(i.text)\n",
    "print(brand)\n",
    "print(len(brand))\n",
    "\n",
    "#Extract Product description\n",
    "titles_tag=driver.find_elements_by_xpath(\"//div[@class='_2B099V']//a\")\n",
    "for i in titles_tag:\n",
    "    desc.append(i.text)\n",
    "print(desc)\n",
    "print(len(desc))\n",
    "\n",
    "#Extract Price\n",
    "titles_tag=driver.find_elements_by_xpath(\"//div[@class='_30jeq3']\")\n",
    "for i in titles_tag:\n",
    "    price.append(i.text)\n",
    "print(price)\n",
    "print(len(price))\n",
    "\n",
    "#Extract discount\n",
    "titles_tag=driver.find_elements_by_xpath(\"//div[@class='_3Ay6Sb']\")\n",
    "for i in titles_tag:\n",
    "    discount.append(i.text)\n",
    "print(discount)\n",
    "print(len(discount))"
   ]
  },
  {
   "cell_type": "code",
   "execution_count": 40,
   "metadata": {},
   "outputs": [],
   "source": [
    "#Click on next button\n",
    "search_btn=driver.find_element_by_xpath(\"/html/body/div/div/div[3]/div[1]/div[2]/div[12]/div/div/nav/a[12]/span\")\n",
    "search_btn.click()"
   ]
  },
  {
   "cell_type": "code",
   "execution_count": 41,
   "metadata": {},
   "outputs": [
    {
     "name": "stdout",
     "output_type": "stream",
     "text": [
      "['India hub', 'Shoes Bank', 'Robbie jones', 'CALCADOS', 'bluemaker', 'ORICUM', 'bluemaker', 'KULP', 'Alfiya', 'ASTEROID', 'PEHANOSA', 'HOTSTYLE', 'PUMA', 'Kraasa', 'HOTSTYLE', 'Stefano Rads', 'Robbie jones', 'ADIDAS', 'Birde', 'SCATCHITE', 'Chevit', 'Numenzo', 'Zsyto', 'ASTEROID', 'D-SNEAKERZ', '3SIX5', 'SWIGGY', 'bluemaker', 'Birde', 'Absolute comfort', 'restinfoot', 'PUMA', 'PUMA', 'PUMA', 'Chevit', 'Chevit', 'SPARX', 'Nilatin', 'SPARX', 'Chevit', 'FILA', 'Robbie jones', 'World Wear Footwear', 'PUMA', 'PUMA', 'Chevit', 'FILA', 'PUMA', 'Zorth', 'kardam&sons', 'PUMA', 'Magnolia', 'PUMA', 'SPARX', 'PUMA', 'ESSENCE', 'REEBOK', 'TR', 'Jokatoo', 'ORICUM', 'Ktiz', 'Arohi', 'bluemaker', 'PUMA', 'HOC', 'Jack Diamond', 'D-SNEAKERZ', 'World Wear Footwear', 'PUMA', 'D-SNEAKERZ', 'PUMA', 'Magnolia', 'Ktiz', 'PUMA', 'tigonis', 'World Wear Footwear', 'SPARX', 'SHOELIFE', 'PUMA', 'SWIGGY', 'T-ROCK', 'DUCATI', 'WRIZT', 'Birde', 'BERSACHE', 'HOTSTYLE', 'FILA', 'STRANGER BROTHERS', 'BRUTON', 'PUMA', 'WOODLAND', 'Robbie jones', 'SPARX', 'PUMA', 'BRUTON', 'PUMA', 'India hub', 'Converse', 'PUMA', 'Skechers', 'Chevit', 'SPARX', 'believe', 'Kraasa', 'BRUTON', 'GUSTO', 'PUMA', 'Numenzo', 'SPARX', 'NIKE', 'PUMA', 'Axter', 'Absolute comfort', 'Robbie jones', 'SHOEFLY', 'United Colors of Benetton.', 'PUMA', 'PUMA', 'U.S. POLO ASSN.', 'SPARX']\n",
      "120\n",
      "['Fashionable casual sneakers shoes Sneakers For Men', '₹389₹2,99987% off', \"White Sneaker For Men's/Boy's Sneakers For Men\", '₹349₹99965% off', 'Sneakers For Men', '₹474₹99952% off\\nOr Pay ₹450 + \\n 24', 'Modern Trendy Shoes Combo pack of 4 Sneakers For Men', '₹748₹1,99662% off\\nOr Pay ₹710 + \\n 38', 'casual for men (blue 06) Sneakers For Men', '₹474₹99952% off\\nOr Pay ₹450 + \\n 24', 'Combo pack of 2 casual sneaker shoes for men Sneakers F...', '₹377₹99862% off\\nOr Pay ₹358 + \\n 19', 'casual for men (beige 06) Sneakers For Men', '₹474₹99952% off\\nOr Pay ₹450 + \\n 24', 'Sneakers For Men', '₹399₹99960% off', 'Shoes in Black Color Party wear/Outdoor/Casual Shoes Fo...', '₹377₹99962% off', \"Luxury Branded Fashionable Men's Casual Walking Partywe...\", '₹499₹1,99975% off\\nOr Pay ₹474 + \\n 25', 'Sneakers For Men', '₹499₹99950% off', 'Sneakers Sneakers For Men', '₹283₹49943% off\\nOr Pay ₹254 + \\n 29', 'Lazy Knit Slip On IDP Sneakers For Men', '₹1,506₹2,99949% off\\nOr Pay ₹1,430 + \\n 76', 'Series 7 Sneakers For Men', '₹416₹99958% off', 'Sneakers Sneakers For Men', '₹283₹49943% off\\nOr Pay ₹254 + \\n 29', 'Classy Sneakers For Men', '₹242₹69965% off', 'Casual Sneakers White Shoes For Men Sneakers For Men', '₹499₹99950% off\\nOr Pay ₹474 + \\n 25', 'Adiset M Sneakers For Men', '₹1,860₹3,59948% off\\nOr Pay ₹1,767 + \\n 93', 'Combo Pack of 4 Casual Shoes Sneakers For Men', '₹661₹1,99966% off', 'Sneakers Sneakers For Men', '₹398₹99960% off', \"Super & Trendy Men's Pack of 02 Pair Shoes for Boys Cas...\", '₹472₹1,99876% off', 'Sneakers For Men', '₹398₹99960% off', 'Sneakers For Men', '₹398₹1,29969% off\\nOr Pay ₹378 + \\n 20', 'Skate Board White Shoes Men Running Flat PU Sneakers Ma...', '₹451₹99954% off\\nOr Pay ₹428 + \\n 23', \"Casual , Partywear Sneakers Shoes For Men's And Boys Wh...\", '₹365₹65944% off', 'ORIFWSH(OR)-1077 Sneakers For Men', '₹214₹49957% off\\nOr Pay ₹203 + \\n 11', 'Casual Loafers, Sneakers Shoes for Men Pack of 5 Combo(...', '₹719₹2,49571% off\\nOr Pay ₹683 + \\n 36', 'casual for men (black 08) Sneakers For Men', '₹474₹99952% off\\nOr Pay ₹450 + \\n 24', \"Men's Stylish Casual Shoes Sneakers For Men\", '₹283₹49943% off', 'SOFT Sneakers For Men', '₹199₹49960% off', \"Casual shoes,Sneakers for men's,shoes for men's Sneaker...\", '₹379₹99962% off', 'Simha IDP Sneakers For Men', '₹1,529₹2,99949% off\\nOr Pay ₹1,452 + \\n 77', 'Acrux IDP Sneakers For Men', '₹1,419₹3,29956% off', 'Corode IDP Sneakers For Men', '₹1,644₹3,99958% off\\nOr Pay ₹1,561 + \\n 83', 'Perfect & Affordable Combo Pack of 02 Pairs Sneakers Ou...', '₹473₹1,79873% off', \"Men's Combo Pack of 02 Shoes for Men Casual Sneakers Ou...\", '₹498₹99850% off', 'SM-322 Sneakers For Men', '₹769₹99923% off', 'White Sneaker for Men Sneakers For Men', '₹407₹1,29968% off\\nOr Pay ₹386 + \\n 21', 'SD-323 Sneakers For Men', '₹630₹74915% off', 'Super 445 Fashion Sneakers For Men', '₹369₹49926% off', 'Emeril Sneakers For Men', '₹1,267₹3,09959% off\\nOr Pay ₹1,203 + \\n 64', 'Casual Sneakers Shoes For Men Sneakers For Men', '₹474₹99952% off\\nOr Pay ₹450 + \\n 24', 'Combo Pack of 4 Latest Collection Stylish Casual Loafer...', '₹499₹2,64081% off', 'Simha IDP Sneakers For Men', '₹1,394₹2,99953% off\\nOr Pay ₹1,324 + \\n 70', 'Acrux IDP Sneakers For Men', '₹1,637₹3,29950% off\\nOr Pay ₹1,555 + \\n 82', 'Speed Set of 5 Pairs Sneakers Outdoors Casuals for Men ...', '₹719₹2,49571% off', 'EMAN Sneakers For Men', '₹1,266₹3,09959% off\\nOr Pay ₹1,202 + \\n 64', 'Rigel IDP Sneakers For Men', '₹1,405₹2,79949% off\\nOr Pay ₹1,334 + \\n 71', 'Sneakers For Men', '₹538₹99946% off', 'Fashionable casual sneaker shoes Sneakers For Men', '₹379₹1,99981% off', 'Simha IDP Sneakers For Men', '₹1,397₹2,99953% off\\nOr Pay ₹1,327 + \\n 70', 'White Sneakers Sneakers For Men', '₹311₹99968% off', 'Trenzo II IDP Sneakers For Men', '₹1,687₹2,99943% off', 'SM-482 Sneakers For Men', '₹999₹1,29823% off', 'Puma Wired Cage Sneakers For Men', '₹1,711₹3,49951% off\\nOr Pay ₹1,625 + \\n 86', 'Sneakers For Men', '₹442₹99955% off', 'TREAD LITE LUX Sneakers For Men', '₹1,228₹2,29946% off\\nOr Pay ₹1,166 + \\n 62', 'Sneakers For Men', '₹449₹1,99977% off', 'casual sneaker shoes and partywear shoes Casuals For Me...', '₹418₹1,48071% off', 'Combo pack of 2 Casuals Shoes For Men (1563-1564) Sneak...', '₹472₹99852% off\\nOr Pay ₹448 + \\n 24', 'Rockstyle Trending Multicolor Ultralight canvas Sport/ ...', '₹474₹1,29963% off', 'Sneakers For Men', '₹439₹99956% off', 'casual for men Sneakers For Men', '₹474₹99952% off\\nOr Pay ₹450 + \\n 24', 'Flex Renew SlipOn Sneakers For Men', '₹2,017₹3,49942% off\\nOr Pay ₹1,916 + \\n 101', 'Casual Sneakers Shoes For Men Sneakers For Men', '₹379₹1,29970% off', 'Sneakers For Men', '₹635₹99936% off', \"Casual , Partywear Sneakers Shoes For Men's And Boys Re...\", '₹346₹99965% off', 'Latest Collection-1227 Stylish Casual Sports Sneakers F...', '₹240₹49951% off', 'Perforated Low IDP Sneakers For Men', '₹1,707₹3,99957% off\\nOr Pay ₹1,621 + \\n 86', \"Casual , Partywear Sneakers Shoes For Men's And Boys Wh...\", '₹384₹99961% off', 'Puma Smash v2 Buck Sneakers For Men', '₹1,797₹3,49948% off\\nOr Pay ₹1,707 + \\n 90', 'Sneakers For Men', '₹356₹99964% off', 'Sneakers For Men', '₹399₹99960% off', 'Flex Generation V1 IDP Sneakers For Men', '₹1,696₹3,99957% off\\nOr Pay ₹1,611 + \\n 85', 'Sneakers For Men', '₹379₹1,79978% off', '5011-Latest Collection Stylish Casual Loafer Sneakers S...', '₹240₹49951% off', 'SM-162 Sneakers For Men', '₹730₹94923% off', 'Sneakers For Men', '₹401₹99959% off', 'Puma Wired Cage Sneakers For Men', '₹2,029₹3,49942% off\\nOr Pay ₹1,927 + \\n 102', 'casual sneakers, loafers,walking and running shoes For ...', '₹567₹1,49762% off\\nOr Pay ₹538 + \\n 29', 'Synthetic Leather Casual Partywear Wedding Sneakers Sho...', '₹398₹99960% off', 'Sneakers For Men', '₹1,300₹3,69964% off', 'Casual Sneakers,dancing, walking Sneakers For Men', '₹279₹99972% off', 'Combo Pack of 3 Casual Shoes Sneakers For Men', '₹714₹1,49952% off', 'shoes For Mens Combo(MR)-1653-1564 ( Multicolor-Pack of...', '₹377₹99862% off\\nOr Pay ₹358 + \\n 19', 'Sneakers For Men', '₹192₹49961% off', 'DERICO Sneakers For Men', '₹1,505₹3,49956% off\\nOr Pay ₹1,429 + \\n 76', 'Sneakers For Men', '₹469₹99953% off\\nOr Pay ₹445 + \\n 24', 'Combo Pack Of 4 Casual Shoes Loafer Shoes Sneakers For ...', '₹474₹3,49986% off', 'Rigel IDP Sneakers For Men', '₹1,431₹2,79948% off\\nOr Pay ₹1,359 + \\n 72', 'Sneakers For Men', '₹2,527₹2,99515% off\\nOr Pay ₹2,400 + \\n 127', 'Casual Sneakers Shoes For Men And Boys Sneakers For Men', '₹474₹99952% off\\nOr Pay ₹450 + \\n 24', 'SM-439 Sneakers For Men', '₹664₹6995% off', 'Zod Runner IDP Sneakers For Men', '₹1,450₹3,49958% off', 'Men Combo Pack of 2 Casual & Sneaker Shoes (Loafer Shoe...', '₹341₹2,40085% off', 'Premium TZ IDP Sneakers For Men', '₹1,626₹4,49963% off\\nOr Pay ₹1,544 + \\n 82', 'Fashionable casual sneakers shoes Sneakers For Men', '₹449₹2,99985% off', 'SYNTHETIC LEATHER CONS EL DISTRITO Sneakers For Men', '₹1,439₹3,99964% off\\nOr Pay ₹1,367 + \\n 72', 'Firm IDP Sneakers For Men', '₹1,436₹3,49958% off\\nOr Pay ₹1,364 + \\n 72', 'Bounder Sneakers For Men', '₹2,670₹5,49951% off\\nOr Pay ₹2,536 + \\n 134', '170 Smart Grey Lace-Ups Casuals for Men Sneakers For Me...', '₹224₹49955% off', 'SM-322 Sneakers For Men', '₹769₹99923% off', 'Sneakers for men(black_6) Sneakers For Men', '₹423₹99957% off', 'Casuals, Canvas, Partywear Sneakers For Men', '₹416₹99958% off', 'Combo Pack of 2 Casual Shoes Sneakers For Men', '₹359₹2,49985% off', 'Sneakers For Men', '₹679₹1,29947% off', 'Slyde Knit IDP Sneakers For Men', '₹1,349₹2,99955% off', 'Sneakers For Men', '₹429₹99957% off\\nOr Pay ₹407 + \\n 22', '9019 Sneakers For Men', '₹1,038₹1,34923% off', 'Court Royale 2 Low Sneakers For Men', '₹2,517₹3,99536% off\\nOr Pay ₹2,391 + \\n 126', 'Poise Perf V1 IDP Sneakers For Men', '₹1,643₹3,99958% off\\nOr Pay ₹1,560 + \\n 83', 'Combo Pack of 2 Latest Collection Stylish Casual Loafer...', '₹399₹1,36470% off', 'EVAW2 Sneakers For Men', '₹199₹49960% off', 'Casual Sneakers Shoes For Men Sneakers For Men', '₹379₹99962% off', 'Combo Men Pack of 2 Loafers Shoes Sneakers For Men', '₹362₹1,31972% off', 'Sneakers For Men', '₹1,435₹3,69961% off\\nOr Pay ₹1,363 + \\n 72', 'Poise Perf V1 IDP Sneakers For Men', '₹1,646₹3,99958% off\\nOr Pay ₹1,563 + \\n 83', 'Cape IDP Sneakers For Men', '₹1,635₹3,49953% off\\nOr Pay ₹1,553 + \\n 82', 'Sneakers For Men', '₹2,087₹3,59942% off\\nOr Pay ₹1,982 + \\n 105', 'Men White Sneakers Sneakers For Men', '₹630₹74915% off']\n",
      "240\n"
     ]
    },
    {
     "name": "stdout",
     "output_type": "stream",
     "text": [
      "['₹389', '₹349', '₹474', '₹748', '₹474', '₹377', '₹474', '₹399', '₹377', '₹499', '₹499', '₹283', '₹1,506', '₹416', '₹283', '₹242', '₹499', '₹1,860', '₹661', '₹398', '₹472', '₹398', '₹398', '₹451', '₹365', '₹214', '₹719', '₹474', '₹283', '₹199', '₹379', '₹1,529', '₹1,419', '₹1,644', '₹473', '₹498', '₹769', '₹407', '₹630', '₹369', '₹1,267', '₹474', '₹499', '₹1,394', '₹1,637', '₹719', '₹1,266', '₹1,405', '₹538', '₹379', '₹1,397', '₹311', '₹1,687', '₹999', '₹1,711', '₹442', '₹1,228', '₹449', '₹418', '₹472', '₹474', '₹439', '₹474', '₹2,017', '₹379', '₹635', '₹346', '₹240', '₹1,707', '₹384', '₹1,797', '₹356', '₹399', '₹1,696', '₹379', '₹240', '₹730', '₹401', '₹2,029', '₹567', '₹398', '₹1,300', '₹279', '₹714', '₹377', '₹192', '₹1,505', '₹469', '₹474', '₹1,431', '₹2,527', '₹474', '₹664', '₹1,450', '₹341', '₹1,626', '₹449', '₹1,439', '₹1,436', '₹2,670', '₹224', '₹769', '₹423', '₹416', '₹359', '₹679', '₹1,349', '₹429', '₹1,038', '₹2,517', '₹1,643', '₹399', '₹199', '₹379', '₹362', '₹1,435', '₹1,646', '₹1,635', '₹2,087', '₹630']\n",
      "120\n",
      "['87% off', '65% off', '52% off', '62% off', '52% off', '62% off', '52% off', '60% off', '62% off', '75% off', '50% off', '43% off', '49% off', '58% off', '43% off', '65% off', '50% off', '48% off', '66% off', '60% off', '76% off', '60% off', '69% off', '54% off', '44% off', '57% off', '71% off', '52% off', '43% off', '60% off', '62% off', '49% off', '56% off', '58% off', '73% off', '50% off', '23% off', '68% off', '15% off', '26% off', '59% off', '52% off', '81% off', '53% off', '50% off', '71% off', '59% off', '49% off', '46% off', '81% off', '53% off', '68% off', '43% off', '23% off', '51% off', '55% off', '46% off', '77% off', '71% off', '52% off', '63% off', '56% off', '52% off', '42% off', '70% off', '36% off', '65% off', '51% off', '57% off', '61% off', '48% off', '64% off', '60% off', '57% off', '78% off', '51% off', '23% off', '59% off', '42% off', '62% off', '60% off', '64% off', '72% off', '52% off', '62% off', '61% off', '56% off', '53% off', '86% off', '48% off', '15% off', '52% off', '5% off', '58% off', '85% off', '63% off', '85% off', '64% off', '58% off', '51% off', '55% off', '23% off', '57% off', '58% off', '85% off', '47% off', '55% off', '57% off', '23% off', '36% off', '58% off', '70% off', '60% off', '62% off', '72% off', '61% off', '58% off', '53% off', '42% off', '15% off']\n",
      "120\n"
     ]
    }
   ],
   "source": [
    "#Page3\n",
    "#Extract all the brand\n",
    "titles_tag=driver.find_elements_by_xpath(\"//div[@class='_2WkVRV']\")\n",
    "for i in titles_tag:\n",
    "    brand.append(i.text)\n",
    "print(brand)\n",
    "print(len(brand))\n",
    "\n",
    "#Extract Product description\n",
    "titles_tag=driver.find_elements_by_xpath(\"//div[@class='_2B099V']//a\")\n",
    "for i in titles_tag:\n",
    "    desc.append(i.text)\n",
    "print(desc)\n",
    "print(len(desc))\n",
    "\n",
    "#Extract Price\n",
    "titles_tag=driver.find_elements_by_xpath(\"//div[@class='_30jeq3']\")\n",
    "for i in titles_tag:\n",
    "    price.append(i.text)\n",
    "print(price)\n",
    "print(len(price))\n",
    "\n",
    "#Extract discount\n",
    "titles_tag=driver.find_elements_by_xpath(\"//div[@class='_3Ay6Sb']\")\n",
    "for i in titles_tag:\n",
    "    discount.append(i.text)\n",
    "print(discount)\n",
    "print(len(discount))"
   ]
  },
  {
   "cell_type": "code",
   "execution_count": 45,
   "metadata": {},
   "outputs": [],
   "source": [
    "#SLicing the Product descrition columns\n",
    "prod_desc=desc[0:240:2]"
   ]
  },
  {
   "cell_type": "code",
   "execution_count": 46,
   "metadata": {},
   "outputs": [
    {
     "data": {
      "text/html": [
       "<div>\n",
       "<style scoped>\n",
       "    .dataframe tbody tr th:only-of-type {\n",
       "        vertical-align: middle;\n",
       "    }\n",
       "\n",
       "    .dataframe tbody tr th {\n",
       "        vertical-align: top;\n",
       "    }\n",
       "\n",
       "    .dataframe thead th {\n",
       "        text-align: right;\n",
       "    }\n",
       "</style>\n",
       "<table border=\"1\" class=\"dataframe\">\n",
       "  <thead>\n",
       "    <tr style=\"text-align: right;\">\n",
       "      <th></th>\n",
       "      <th>Brand Name</th>\n",
       "      <th>Product Description</th>\n",
       "      <th>Price</th>\n",
       "      <th>Discount</th>\n",
       "    </tr>\n",
       "  </thead>\n",
       "  <tbody>\n",
       "    <tr>\n",
       "      <th>0</th>\n",
       "      <td>India hub</td>\n",
       "      <td>Fashionable casual sneakers shoes Sneakers For...</td>\n",
       "      <td>₹389</td>\n",
       "      <td>87% off</td>\n",
       "    </tr>\n",
       "    <tr>\n",
       "      <th>1</th>\n",
       "      <td>Shoes Bank</td>\n",
       "      <td>White Sneaker For Men's/Boy's Sneakers For Men</td>\n",
       "      <td>₹349</td>\n",
       "      <td>65% off</td>\n",
       "    </tr>\n",
       "    <tr>\n",
       "      <th>2</th>\n",
       "      <td>Robbie jones</td>\n",
       "      <td>Sneakers For Men</td>\n",
       "      <td>₹474</td>\n",
       "      <td>52% off</td>\n",
       "    </tr>\n",
       "    <tr>\n",
       "      <th>3</th>\n",
       "      <td>CALCADOS</td>\n",
       "      <td>Modern Trendy Shoes Combo pack of 4 Sneakers F...</td>\n",
       "      <td>₹748</td>\n",
       "      <td>62% off</td>\n",
       "    </tr>\n",
       "    <tr>\n",
       "      <th>4</th>\n",
       "      <td>bluemaker</td>\n",
       "      <td>casual for men (blue 06) Sneakers For Men</td>\n",
       "      <td>₹474</td>\n",
       "      <td>52% off</td>\n",
       "    </tr>\n",
       "    <tr>\n",
       "      <th>...</th>\n",
       "      <td>...</td>\n",
       "      <td>...</td>\n",
       "      <td>...</td>\n",
       "      <td>...</td>\n",
       "    </tr>\n",
       "    <tr>\n",
       "      <th>95</th>\n",
       "      <td>PUMA</td>\n",
       "      <td>Premium TZ IDP Sneakers For Men</td>\n",
       "      <td>₹1,626</td>\n",
       "      <td>63% off</td>\n",
       "    </tr>\n",
       "    <tr>\n",
       "      <th>96</th>\n",
       "      <td>India hub</td>\n",
       "      <td>Fashionable casual sneakers shoes Sneakers For...</td>\n",
       "      <td>₹449</td>\n",
       "      <td>85% off</td>\n",
       "    </tr>\n",
       "    <tr>\n",
       "      <th>97</th>\n",
       "      <td>Converse</td>\n",
       "      <td>SYNTHETIC LEATHER CONS EL DISTRITO Sneakers Fo...</td>\n",
       "      <td>₹1,439</td>\n",
       "      <td>64% off</td>\n",
       "    </tr>\n",
       "    <tr>\n",
       "      <th>98</th>\n",
       "      <td>PUMA</td>\n",
       "      <td>Firm IDP Sneakers For Men</td>\n",
       "      <td>₹1,436</td>\n",
       "      <td>58% off</td>\n",
       "    </tr>\n",
       "    <tr>\n",
       "      <th>99</th>\n",
       "      <td>Skechers</td>\n",
       "      <td>Bounder Sneakers For Men</td>\n",
       "      <td>₹2,670</td>\n",
       "      <td>51% off</td>\n",
       "    </tr>\n",
       "  </tbody>\n",
       "</table>\n",
       "<p>100 rows × 4 columns</p>\n",
       "</div>"
      ],
      "text/plain": [
       "      Brand Name                                Product Description   Price  \\\n",
       "0      India hub  Fashionable casual sneakers shoes Sneakers For...    ₹389   \n",
       "1     Shoes Bank     White Sneaker For Men's/Boy's Sneakers For Men    ₹349   \n",
       "2   Robbie jones                                   Sneakers For Men    ₹474   \n",
       "3       CALCADOS  Modern Trendy Shoes Combo pack of 4 Sneakers F...    ₹748   \n",
       "4      bluemaker          casual for men (blue 06) Sneakers For Men    ₹474   \n",
       "..           ...                                                ...     ...   \n",
       "95          PUMA                    Premium TZ IDP Sneakers For Men  ₹1,626   \n",
       "96     India hub  Fashionable casual sneakers shoes Sneakers For...    ₹449   \n",
       "97      Converse  SYNTHETIC LEATHER CONS EL DISTRITO Sneakers Fo...  ₹1,439   \n",
       "98          PUMA                          Firm IDP Sneakers For Men  ₹1,436   \n",
       "99      Skechers                           Bounder Sneakers For Men  ₹2,670   \n",
       "\n",
       "   Discount  \n",
       "0   87% off  \n",
       "1   65% off  \n",
       "2   52% off  \n",
       "3   62% off  \n",
       "4   52% off  \n",
       "..      ...  \n",
       "95  63% off  \n",
       "96  85% off  \n",
       "97  64% off  \n",
       "98  58% off  \n",
       "99  51% off  \n",
       "\n",
       "[100 rows x 4 columns]"
      ]
     },
     "execution_count": 46,
     "metadata": {},
     "output_type": "execute_result"
    }
   ],
   "source": [
    "\n",
    "#Dataframe Q8\n",
    "product=pd.DataFrame()\n",
    "product[\"Brand Name\"]=brand[0:100]\n",
    "product[\"Product Description\"]=prod_desc[0:100]\n",
    "product[\"Price\"]=price[0:100]\n",
    "product[\"Discount\"]=discount[0:100]\n",
    "product"
   ]
  },
  {
   "cell_type": "markdown",
   "metadata": {},
   "source": [
    "# Question-9"
   ]
  },
  {
   "cell_type": "code",
   "execution_count": 47,
   "metadata": {},
   "outputs": [],
   "source": [
    "driver=webdriver.Chrome(r\"C:\\Users\\Akash\\Downloads\\chromedriver_win32\\chromedriver.exe\")\n",
    "#Connect URL\n",
    "url=\"https://www.myntra.com/shoes\"\n",
    "driver.get(url)"
   ]
  },
  {
   "cell_type": "code",
   "execution_count": 48,
   "metadata": {},
   "outputs": [],
   "source": [
    "#Clikc on check box\n",
    "check_box=driver.find_element_by_xpath(\"/html/body/div[2]/div/div[1]/main/div[3]/div[1]/section/div/div[5]/ul/li[2]/label/div\")\n",
    "check_box.click()"
   ]
  },
  {
   "cell_type": "code",
   "execution_count": 49,
   "metadata": {},
   "outputs": [],
   "source": [
    "#Click on check box\n",
    "check_box=driver.find_element_by_xpath(\"/html/body/div[2]/div/div[1]/main/div[3]/div[1]/section/div/div[6]/ul/li[1]/label/div\")\n",
    "check_box.click()"
   ]
  },
  {
   "cell_type": "code",
   "execution_count": 54,
   "metadata": {},
   "outputs": [
    {
     "name": "stdout",
     "output_type": "stream",
     "text": [
      "['Nike', 'Nike', 'Skechers', 'Nike', 'Nike', 'Nike', 'Nike', 'Nike', 'Nike', 'UNDER ARMOUR', 'Tommy Hilfiger', 'Hush Puppies', 'UNDER ARMOUR', 'ADIDAS', 'Puma', 'Nike', 'FORCLAZ By Decathlon', 'ASICS', 'Puma', 'Puma', 'Nike', 'Puma', 'UNDER ARMOUR', 'UNDER ARMOUR', 'ADIDAS Originals', 'ASICS', 'Skechers', 'UNDER ARMOUR', 'ASICS', 'Reebok', 'UNDER ARMOUR', 'UNDER ARMOUR', 'Tommy Hilfiger', 'ALDO', 'ALDO', 'Ruosh', 'RAPAWALK', 'J.FONTINI', 'UNDER ARMOUR', 'ALDO', 'Hush Puppies', 'RAPAWALK', 'Hush Puppies', 'RAPAWALK', 'Kalenji By Decathlon', 'RAPAWALK', 'Heel & Buckle London', 'FILA', 'Ruosh', 'Cole Haan']\n",
      "50\n",
      "['Men ZOOM FREAK 2 Basketball', 'Unisex COSMIC UNITY Basketball', 'Men GO RUN 7+ Running Shoes', 'Women PEGASUS 37 Running Shoes', 'Men JORDAN DELTA Basketball', 'AIR ZOOM PEGASUS Running Shoes', 'Men KD13 EP Basketball Shoes', 'Women REACT Running Shoes', 'Men JOYRIDE Running Shoes', 'HOVR Sonic 3 Running Shoes', 'Men Solid Leather Sneakers', 'Men Solid Leather Formal Slip-Ons', 'Women HOVR Rise 2 Training', 'Women SUPERNOVA Running Shoes', 'Unisex RS-Fast Nano Sneakers', 'Men JORDAN DELTA Sneakers', 'TREKKING 100 Boots', 'Women Running Shoes', 'Women Eternity Nitro Running', 'Unisex RS-X Pop Sneakers', 'Men AIR FLIGHT 89 Sneakers', 'Men Velocity Nitro Running', 'Charged Rogue 2 Wide 2E Shoes', 'Unisex SC 3ZER0 IV Basketball', 'Men ZX 2K Boost Solid Sneakers', 'Women Running Shoes', \"Women D'LITES 3.0 Sneakers\", 'Charged Impulse Running Shoes', 'Men Running Shoes', 'Forever Floatride Energy 2', 'Women HOVR Apex 2 Training', 'Women TriBase Reign 2 Training', 'Men Solid Leather Sneakers', 'Women Black Sneakers', 'Women Open Toe Flats', 'Men Textured Derbys', 'Standard Width Leather Slip Ons', 'Men Textured Leather Loafers', 'HOVR Sonic 3 Running Shoes', 'Women Sandals', 'Men Solid Leather Formal Slip-Ons', 'Standard Width Leather Monks', 'Men Formal Derbys', 'Standard Width Leather Oxfords', 'Men KD500 Running Shoe', 'Wide Width Leather Oxfords', 'Women Peep Toe Heels', 'Women Sneakers Casual Shoes', 'Men Formal Leather Brogues', 'Women Leather Sneakers']\n",
      "50\n",
      "['Rs. 7206Rs. 10295(30% OFF)', 'Rs. 11470Rs. 13495(15% OFF)', 'Rs. 9999', 'Rs. 6996Rs. 9995(30% OFF)', 'Rs. 12495', 'Rs. 11495', 'Rs. 12995', 'Rs. 8396Rs. 11995(30% OFF)', 'Rs. 10496Rs. 14995(30% OFF)', 'Rs. 7699Rs. 10999(30% OFF)', 'Rs. 7999', 'Rs. 8999', 'Rs. 6999Rs. 9999(30% OFF)', 'Rs. 7499Rs. 9999(25% OFF)', 'Rs. 7499Rs. 9999(25% OFF)', 'Rs. 10995', 'Rs. 6999', 'Rs. 9799Rs. 13999(30% OFF)', 'Rs. 7149Rs. 12999(45% OFF)', 'Rs. 7499Rs. 9999(25% OFF)', 'Rs. 7206Rs. 10295(30% OFF)', 'Rs. 10999', 'Rs. 7999', 'Rs. 8999', 'Rs. 8399Rs. 13999(40% OFF)', 'Rs. 6999Rs. 9999(30% OFF)', 'Rs. 6999', 'Rs. 7999', 'Rs. 6999Rs. 9999(30% OFF)', 'Rs. 9999', 'Rs. 11899Rs. 13999(15% OFF)', 'Rs. 8399Rs. 11999(30% OFF)', 'Rs. 7599', 'Rs. 8999', 'Rs. 8999', 'Rs. 8990', 'Rs. 8850', 'Rs. 6990', 'Rs. 10999', 'Rs. 8999', 'Rs. 9999', 'Rs. 8850', 'Rs. 9999', 'Rs. 8850', 'Rs. 7857Rs. 8449(7% OFF)', 'Rs. 8850', 'Rs. 7192Rs. 8990(20% OFF)', 'Rs. 7999', 'Rs. 7490', 'Rs. 7699Rs. 10999(30% OFF)']\n",
      "50\n"
     ]
    }
   ],
   "source": [
    "#Page1\n",
    "brand=[]\n",
    "desc=[]\n",
    "price=[]\n",
    "#Extract all the brand\n",
    "titles_tag=driver.find_elements_by_xpath(\"//h3[@class='product-brand']\")\n",
    "for i in titles_tag:\n",
    "    brand.append(i.text)\n",
    "print(brand)\n",
    "print(len(brand))\n",
    "\n",
    "#Extract Product description\n",
    "titles_tag=driver.find_elements_by_xpath(\"//h4[@class='product-product']\")\n",
    "for i in titles_tag:\n",
    "    desc.append(i.text)\n",
    "print(desc)\n",
    "print(len(desc))\n",
    "\n",
    "#Extract Price\n",
    "titles_tag=driver.find_elements_by_xpath(\"//div[@class='product-price']\")\n",
    "for i in titles_tag:\n",
    "    price.append(i.text)\n",
    "print(price)\n",
    "print(len(price))"
   ]
  },
  {
   "cell_type": "code",
   "execution_count": 55,
   "metadata": {},
   "outputs": [],
   "source": [
    "#Click on check box\n",
    "check_box=driver.find_element_by_xpath(\"/html/body/div[2]/div/div[1]/main/div[3]/div[2]/div/div[2]/section/div[2]/ul/li[12]/a\")\n",
    "check_box.click()"
   ]
  },
  {
   "cell_type": "code",
   "execution_count": 56,
   "metadata": {},
   "outputs": [
    {
     "name": "stdout",
     "output_type": "stream",
     "text": [
      "['Nike', 'Nike', 'Skechers', 'Nike', 'Nike', 'Nike', 'Nike', 'Nike', 'Nike', 'UNDER ARMOUR', 'Tommy Hilfiger', 'Hush Puppies', 'UNDER ARMOUR', 'ADIDAS', 'Puma', 'Nike', 'FORCLAZ By Decathlon', 'ASICS', 'Puma', 'Puma', 'Nike', 'Puma', 'UNDER ARMOUR', 'UNDER ARMOUR', 'ADIDAS Originals', 'ASICS', 'Skechers', 'UNDER ARMOUR', 'ASICS', 'Reebok', 'UNDER ARMOUR', 'UNDER ARMOUR', 'Tommy Hilfiger', 'ALDO', 'ALDO', 'Ruosh', 'RAPAWALK', 'J.FONTINI', 'UNDER ARMOUR', 'ALDO', 'Hush Puppies', 'RAPAWALK', 'Hush Puppies', 'RAPAWALK', 'Kalenji By Decathlon', 'RAPAWALK', 'Heel & Buckle London', 'FILA', 'Ruosh', 'Cole Haan', 'Ruosh', 'Cole Haan', 'Florsheim', 'FILA', 'Hush Puppies', 'KIPRUN By Decathlon', 'FILA', 'RAPAWALK', 'RAPAWALK', 'Puma', 'ADIDAS', 'Cole Haan', 'ADIDAS', 'Cole Haan', 'FILA', 'Puma', 'Cole Haan', 'FILA', 'FILA', 'Geox', 'Ruosh', 'Nike', 'VIONIC', 'Nike', 'Nike', 'J.FONTINI', 'Hush Puppies', 'Hush Puppies', 'Ruosh', 'Nike', 'Nike', 'Nike', 'UNDER ARMOUR', 'Heel & Buckle London', 'Heel & Buckle London', 'Saint G', 'Saint G', 'Lacoste', 'Lacoste', 'Puma', 'Puma', 'Cole Haan', 'ASICS', 'Cole Haan', 'San Frissco', 'FILA', 'Cole Haan', 'Nike', 'Heel & Buckle London', 'UNDER ARMOUR']\n",
      "100\n",
      "['Men ZOOM FREAK 2 Basketball', 'Unisex COSMIC UNITY Basketball', 'Men GO RUN 7+ Running Shoes', 'Women PEGASUS 37 Running Shoes', 'Men JORDAN DELTA Basketball', 'AIR ZOOM PEGASUS Running Shoes', 'Men KD13 EP Basketball Shoes', 'Women REACT Running Shoes', 'Men JOYRIDE Running Shoes', 'HOVR Sonic 3 Running Shoes', 'Men Solid Leather Sneakers', 'Men Solid Leather Formal Slip-Ons', 'Women HOVR Rise 2 Training', 'Women SUPERNOVA Running Shoes', 'Unisex RS-Fast Nano Sneakers', 'Men JORDAN DELTA Sneakers', 'TREKKING 100 Boots', 'Women Running Shoes', 'Women Eternity Nitro Running', 'Unisex RS-X Pop Sneakers', 'Men AIR FLIGHT 89 Sneakers', 'Men Velocity Nitro Running', 'Charged Rogue 2 Wide 2E Shoes', 'Unisex SC 3ZER0 IV Basketball', 'Men ZX 2K Boost Solid Sneakers', 'Women Running Shoes', \"Women D'LITES 3.0 Sneakers\", 'Charged Impulse Running Shoes', 'Men Running Shoes', 'Forever Floatride Energy 2', 'Women HOVR Apex 2 Training', 'Women TriBase Reign 2 Training', 'Men Solid Leather Sneakers', 'Women Black Sneakers', 'Women Open Toe Flats', 'Men Textured Derbys', 'Standard Width Leather Slip Ons', 'Men Textured Leather Loafers', 'HOVR Sonic 3 Running Shoes', 'Women Sandals', 'Men Solid Leather Formal Slip-Ons', 'Standard Width Leather Monks', 'Men Formal Derbys', 'Standard Width Leather Oxfords', 'Men KD500 Running Shoe', 'Wide Width Leather Oxfords', 'Women Peep Toe Heels', 'Women Sneakers Casual Shoes', 'Men Formal Leather Brogues', 'Women Leather Sneakers', 'Men Formal Leather Brogues', 'Women Leather Sneakers', 'Men Solid Leather Formal Loafers', 'Men Running Shoes', 'Men Solid Leather Formal Derbys', 'Women Running Shoes', 'Men Leather Sneakers', 'Wide Width Leather Slip Ons', 'Wide Width Leather Slip Ons', 'Men Liberate Nitro Running', 'Women Edge Lux 4 Running', 'Men Wingtip Oxford Sneakers', 'Women Supernova+ Running', 'Men GENERATION ZEROGRAND STITCHLITE', 'Men Leather Sneakers', 'Men IGNITE Dual Running Shoes', 'Leather Sneakers', 'Men Solid Sneakers', 'Men Sneakers', 'Men Leather Driving Shoes', 'Men Textured Leather Monks', 'Men JORDAN ONE TAKE II Shoes', 'Men Textured Sneakers', 'Men AIR ZOOM PEGASUS 38 Run', 'Men Zoom Winflo 8 Running', 'Men Textured Leather Loafers', 'Men Leather Slip-On Sneakers', 'Men Colourblocked Driving Shoes', 'Men Leather Formal Brogues', 'Men REACT MILER 2 Running', 'Men REACT MILER 2 Running', 'Men ZOOM WINFLO 6 Running', 'Charged Pursuit 2 Running', 'Women Solid Leather Gladiators', 'Women Solid Leather Heels', 'Women Heeled Boots', 'Women Leather Heeled Boots', 'Men Woven Design Sneakers', 'Men Woven Design Slip-On Sneakers', 'Unisex Futurverse Sneakers', 'Men UltraRide Running Shoes', 'Women Open Toe Flats', 'Men Running Shoes', 'Women Solid Leather Ballerinas', 'Men Leather Loafers', 'Women Sneakers', 'Women Woven Design Sneakers', 'Men ZOOM WINFLO8 Running Shoes', 'Men Leather Formal Oxfords', 'Charged RC Sportstyle Sneakers']\n",
      "100\n",
      "['Rs. 7206Rs. 10295(30% OFF)', 'Rs. 11470Rs. 13495(15% OFF)', 'Rs. 9999', 'Rs. 6996Rs. 9995(30% OFF)', 'Rs. 12495', 'Rs. 11495', 'Rs. 12995', 'Rs. 8396Rs. 11995(30% OFF)', 'Rs. 10496Rs. 14995(30% OFF)', 'Rs. 7699Rs. 10999(30% OFF)', 'Rs. 7999', 'Rs. 8999', 'Rs. 6999Rs. 9999(30% OFF)', 'Rs. 7499Rs. 9999(25% OFF)', 'Rs. 7499Rs. 9999(25% OFF)', 'Rs. 10995', 'Rs. 6999', 'Rs. 9799Rs. 13999(30% OFF)', 'Rs. 7149Rs. 12999(45% OFF)', 'Rs. 7499Rs. 9999(25% OFF)', 'Rs. 7206Rs. 10295(30% OFF)', 'Rs. 10999', 'Rs. 7999', 'Rs. 8999', 'Rs. 8399Rs. 13999(40% OFF)', 'Rs. 6999Rs. 9999(30% OFF)', 'Rs. 6999', 'Rs. 7999', 'Rs. 6999Rs. 9999(30% OFF)', 'Rs. 9999', 'Rs. 11899Rs. 13999(15% OFF)', 'Rs. 8399Rs. 11999(30% OFF)', 'Rs. 7599', 'Rs. 8999', 'Rs. 8999', 'Rs. 8990', 'Rs. 8850', 'Rs. 6990', 'Rs. 10999', 'Rs. 8999', 'Rs. 9999', 'Rs. 8850', 'Rs. 9999', 'Rs. 8850', 'Rs. 7857Rs. 8449(7% OFF)', 'Rs. 8850', 'Rs. 7192Rs. 8990(20% OFF)', 'Rs. 7999', 'Rs. 7490', 'Rs. 7699Rs. 10999(30% OFF)', 'Rs. 7490', 'Rs. 7699Rs. 10999(30% OFF)', 'Rs. 6995', 'Rs. 7649Rs. 8499(10% OFF)', 'Rs. 9999', 'Rs. 7006Rs. 7149(2% OFF)', 'Rs. 11599', 'Rs. 8850', 'Rs. 8850', 'Rs. 9999', 'Rs. 7999', 'Rs. 12999', 'Rs. 7799Rs. 11999(35% OFF)', 'Rs. 11999', 'Rs. 7999', 'Rs. 6999', 'Rs. 10999', 'Rs. 7499', 'Rs. 6999', 'Rs. 6993Rs. 9990(30% OFF)', 'Rs. 6990', 'Rs. 7050Rs. 8295(15% OFF)', 'Rs. 7039Rs. 10999(36% OFF)', 'Rs. 9995', 'Rs. 7050Rs. 8295(15% OFF)', 'Rs. 7690', 'Rs. 9999', 'Rs. 8999', 'Rs. 6990', 'Rs. 8621Rs. 11495(25% OFF)', 'Rs. 8621Rs. 11495(25% OFF)', 'Rs. 7195Rs. 7995(10% OFF)', 'Rs. 6999', 'Rs. 6993Rs. 9990(30% OFF)', 'Rs. 6993Rs. 9990(30% OFF)', 'Rs. 7440Rs. 8000(7% OFF)', 'Rs. 6675Rs. 8900(25% OFF)', 'Rs. 8500', 'Rs. 8500', 'Rs. 9999', 'Rs. 7199Rs. 8999(20% OFF)', 'Rs. 8399Rs. 11999(30% OFF)', 'Rs. 11999', 'Rs. 9799Rs. 13999(30% OFF)', 'Rs. 8247Rs. 14995(45% OFF)', 'Rs. 8999', 'Rs. 6749Rs. 14999(55% OFF)', 'Rs. 7050Rs. 8295(15% OFF)', 'Rs. 7693Rs. 10990(30% OFF)', 'Rs. 8999']\n",
      "100\n"
     ]
    }
   ],
   "source": [
    "#Extract all the brand\n",
    "titles_tag=driver.find_elements_by_xpath(\"//h3[@class='product-brand']\")\n",
    "for i in titles_tag:\n",
    "    brand.append(i.text)\n",
    "print(brand)\n",
    "print(len(brand))\n",
    "\n",
    "#Extract Product description\n",
    "titles_tag=driver.find_elements_by_xpath(\"//h4[@class='product-product']\")\n",
    "for i in titles_tag:\n",
    "    desc.append(i.text)\n",
    "print(desc)\n",
    "print(len(desc))\n",
    "\n",
    "#Extract Price\n",
    "titles_tag=driver.find_elements_by_xpath(\"//div[@class='product-price']\")\n",
    "for i in titles_tag:\n",
    "    price.append(i.text)\n",
    "print(price)\n",
    "print(len(price))"
   ]
  },
  {
   "cell_type": "code",
   "execution_count": 57,
   "metadata": {},
   "outputs": [
    {
     "data": {
      "text/html": [
       "<div>\n",
       "<style scoped>\n",
       "    .dataframe tbody tr th:only-of-type {\n",
       "        vertical-align: middle;\n",
       "    }\n",
       "\n",
       "    .dataframe tbody tr th {\n",
       "        vertical-align: top;\n",
       "    }\n",
       "\n",
       "    .dataframe thead th {\n",
       "        text-align: right;\n",
       "    }\n",
       "</style>\n",
       "<table border=\"1\" class=\"dataframe\">\n",
       "  <thead>\n",
       "    <tr style=\"text-align: right;\">\n",
       "      <th></th>\n",
       "      <th>Brand Name</th>\n",
       "      <th>Product Description</th>\n",
       "      <th>Price</th>\n",
       "    </tr>\n",
       "  </thead>\n",
       "  <tbody>\n",
       "    <tr>\n",
       "      <th>0</th>\n",
       "      <td>Nike</td>\n",
       "      <td>Men ZOOM FREAK 2 Basketball</td>\n",
       "      <td>Rs. 7206Rs. 10295(30% OFF)</td>\n",
       "    </tr>\n",
       "    <tr>\n",
       "      <th>1</th>\n",
       "      <td>Nike</td>\n",
       "      <td>Unisex COSMIC UNITY Basketball</td>\n",
       "      <td>Rs. 11470Rs. 13495(15% OFF)</td>\n",
       "    </tr>\n",
       "    <tr>\n",
       "      <th>2</th>\n",
       "      <td>Skechers</td>\n",
       "      <td>Men GO RUN 7+ Running Shoes</td>\n",
       "      <td>Rs. 9999</td>\n",
       "    </tr>\n",
       "    <tr>\n",
       "      <th>3</th>\n",
       "      <td>Nike</td>\n",
       "      <td>Women PEGASUS 37 Running Shoes</td>\n",
       "      <td>Rs. 6996Rs. 9995(30% OFF)</td>\n",
       "    </tr>\n",
       "    <tr>\n",
       "      <th>4</th>\n",
       "      <td>Nike</td>\n",
       "      <td>Men JORDAN DELTA Basketball</td>\n",
       "      <td>Rs. 12495</td>\n",
       "    </tr>\n",
       "    <tr>\n",
       "      <th>...</th>\n",
       "      <td>...</td>\n",
       "      <td>...</td>\n",
       "      <td>...</td>\n",
       "    </tr>\n",
       "    <tr>\n",
       "      <th>95</th>\n",
       "      <td>FILA</td>\n",
       "      <td>Women Sneakers</td>\n",
       "      <td>Rs. 8999</td>\n",
       "    </tr>\n",
       "    <tr>\n",
       "      <th>96</th>\n",
       "      <td>Cole Haan</td>\n",
       "      <td>Women Woven Design Sneakers</td>\n",
       "      <td>Rs. 6749Rs. 14999(55% OFF)</td>\n",
       "    </tr>\n",
       "    <tr>\n",
       "      <th>97</th>\n",
       "      <td>Nike</td>\n",
       "      <td>Men ZOOM WINFLO8 Running Shoes</td>\n",
       "      <td>Rs. 7050Rs. 8295(15% OFF)</td>\n",
       "    </tr>\n",
       "    <tr>\n",
       "      <th>98</th>\n",
       "      <td>Heel &amp; Buckle London</td>\n",
       "      <td>Men Leather Formal Oxfords</td>\n",
       "      <td>Rs. 7693Rs. 10990(30% OFF)</td>\n",
       "    </tr>\n",
       "    <tr>\n",
       "      <th>99</th>\n",
       "      <td>UNDER ARMOUR</td>\n",
       "      <td>Charged RC Sportstyle Sneakers</td>\n",
       "      <td>Rs. 8999</td>\n",
       "    </tr>\n",
       "  </tbody>\n",
       "</table>\n",
       "<p>100 rows × 3 columns</p>\n",
       "</div>"
      ],
      "text/plain": [
       "              Brand Name             Product Description  \\\n",
       "0                   Nike     Men ZOOM FREAK 2 Basketball   \n",
       "1                   Nike  Unisex COSMIC UNITY Basketball   \n",
       "2               Skechers     Men GO RUN 7+ Running Shoes   \n",
       "3                   Nike  Women PEGASUS 37 Running Shoes   \n",
       "4                   Nike     Men JORDAN DELTA Basketball   \n",
       "..                   ...                             ...   \n",
       "95                  FILA                  Women Sneakers   \n",
       "96             Cole Haan     Women Woven Design Sneakers   \n",
       "97                  Nike  Men ZOOM WINFLO8 Running Shoes   \n",
       "98  Heel & Buckle London      Men Leather Formal Oxfords   \n",
       "99          UNDER ARMOUR  Charged RC Sportstyle Sneakers   \n",
       "\n",
       "                          Price  \n",
       "0    Rs. 7206Rs. 10295(30% OFF)  \n",
       "1   Rs. 11470Rs. 13495(15% OFF)  \n",
       "2                      Rs. 9999  \n",
       "3     Rs. 6996Rs. 9995(30% OFF)  \n",
       "4                     Rs. 12495  \n",
       "..                          ...  \n",
       "95                     Rs. 8999  \n",
       "96   Rs. 6749Rs. 14999(55% OFF)  \n",
       "97    Rs. 7050Rs. 8295(15% OFF)  \n",
       "98   Rs. 7693Rs. 10990(30% OFF)  \n",
       "99                     Rs. 8999  \n",
       "\n",
       "[100 rows x 3 columns]"
      ]
     },
     "execution_count": 57,
     "metadata": {},
     "output_type": "execute_result"
    }
   ],
   "source": [
    "#Dataframe Q9\n",
    "product=pd.DataFrame()\n",
    "product[\"Brand Name\"]=brand\n",
    "product[\"Product Description\"]=desc\n",
    "product[\"Price\"]=price\n",
    "product"
   ]
  },
  {
   "cell_type": "markdown",
   "metadata": {},
   "source": [
    "# Question 10"
   ]
  },
  {
   "cell_type": "code",
   "execution_count": 58,
   "metadata": {},
   "outputs": [],
   "source": [
    "driver=webdriver.Chrome(r\"C:\\Users\\Akash\\Downloads\\chromedriver_win32\\chromedriver.exe\")\n",
    "#Connect URL\n",
    "url=\"https://www.amazon.in/\"\n",
    "driver.get(url)"
   ]
  },
  {
   "cell_type": "code",
   "execution_count": 61,
   "metadata": {},
   "outputs": [],
   "source": [
    "#Search laptop in search bar\n",
    "search=driver.find_element_by_xpath(\"/html/body/div[1]/header/div/div[1]/div[2]/div/form/div[2]/div[1]/input\")\n",
    "search.send_keys(\"Laptop\")\n",
    "driver.find_element_by_xpath(\"/html/body/div[1]/header/div/div[1]/div[2]/div/form/div[3]/div/span/input\").click()"
   ]
  },
  {
   "cell_type": "code",
   "execution_count": 62,
   "metadata": {},
   "outputs": [],
   "source": [
    "#Add filters \n",
    "#Intel Core i7”\n",
    "driver.find_element_by_xpath(\"/html/body/div[1]/div[2]/div[1]/div/div[2]/div/div[3]/span/div[1]/span/div/div/div[6]/ul[1]/li[26]/span/a/div/label/i\").click()\n",
    "#Intel Core i9”\n",
    "driver.find_element_by_xpath(\"/html/body/div[1]/div[2]/div[1]/div/div[2]/div/div[3]/span/div[1]/span/div/div/div[6]/ul[1]/li[27]/span/a/div/label/i\").click()"
   ]
  },
  {
   "cell_type": "code",
   "execution_count": 108,
   "metadata": {},
   "outputs": [
    {
     "name": "stdout",
     "output_type": "stream",
     "text": [
      "['144', '35', '487', '245', '970', '35', '338', '819', '70', '6', '218', '429', '345', '812', '50', '3', '91', '4', '28', '418', '7', '4', '798', '2', '381', '6', '116', '278', '182', '99']\n",
      "30\n"
     ]
    }
   ],
   "source": [
    "rating=[]\n",
    "#Extract rating\n",
    "titles_tag=driver.find_elements_by_xpath(\"//div[@class='a-row a-size-small']\")\n",
    "for i in titles_tag:\n",
    "    rating.append(i.text)\n",
    "print(rating)\n",
    "print(len(rating))"
   ]
  },
  {
   "cell_type": "code",
   "execution_count": null,
   "metadata": {},
   "outputs": [],
   "source": [
    "#Page1\n",
    "title=[]\n",
    "rating=[]\n",
    "price=[]\n",
    "#Extract all the title\n",
    "titles_tag=driver.find_elements_by_xpath(\"//h2[@class='a-size-mini a-spacing-none a-color-base s-line-clamp-2']\")\n",
    "for i in titles_tag:\n",
    "    title.append(i.text)\n",
    "print(title)\n",
    "print(len(title))\n",
    "\n",
    "#Extract rating\n",
    "titles_tag=driver.find_elements_by_xpath(\"//div[@class='a-row a-size-small']\")\n",
    "for i in titles_tag:\n",
    "    rating.append(i.text)\n",
    "print(rating)\n",
    "print(len(rating))\n",
    "\n",
    "#Extract Price\n",
    "titles_tag=driver.find_elements_by_xpath(\"//div[@class='a-row a-size-base a-color-base']\")\n",
    "for i in titles_tag:\n",
    "    price.append(i.text.strip(\",.grt\").split(\"\\n\"))\n",
    "print(price)\n",
    "print(len(price))"
   ]
  },
  {
   "cell_type": "code",
   "execution_count": 120,
   "metadata": {},
   "outputs": [
    {
     "data": {
      "text/plain": [
       "'₹78,990'"
      ]
     },
     "execution_count": 120,
     "metadata": {},
     "output_type": "execute_result"
    }
   ],
   "source": [
    "price[1][0]"
   ]
  },
  {
   "cell_type": "code",
   "execution_count": 123,
   "metadata": {},
   "outputs": [
    {
     "data": {
      "text/plain": [
       "['₹59,253',\n",
       " '₹76,990',\n",
       " '₹45,490',\n",
       " '₹32,990',\n",
       " '₹49,990',\n",
       " '₹57,990',\n",
       " '₹30,500',\n",
       " '₹43,981',\n",
       " '₹41,893',\n",
       " '₹39,939',\n",
       " '₹41,999',\n",
       " '₹40,990',\n",
       " '₹41,490',\n",
       " '₹55,801',\n",
       " '₹69,990',\n",
       " '₹64,900',\n",
       " '₹30,940',\n",
       " '₹22,990',\n",
       " '₹39,990',\n",
       " '₹72,490',\n",
       " '₹33,199',\n",
       " '₹32,990',\n",
       " '₹25,600',\n",
       " '₹25,850',\n",
       " '₹18,990',\n",
       " '₹31,899',\n",
       " '₹25,989',\n",
       " '₹32,999',\n",
       " '₹97,990',\n",
       " '₹74,990']"
      ]
     },
     "execution_count": 123,
     "metadata": {},
     "output_type": "execute_result"
    }
   ],
   "source": [
    "#Append string for \"Price\"\n",
    "amt=[]\n",
    "for i in range(0,30):\n",
    "    amt.append(price[i][0])\n",
    "amt"
   ]
  },
  {
   "cell_type": "code",
   "execution_count": 124,
   "metadata": {},
   "outputs": [
    {
     "data": {
      "text/html": [
       "<div>\n",
       "<style scoped>\n",
       "    .dataframe tbody tr th:only-of-type {\n",
       "        vertical-align: middle;\n",
       "    }\n",
       "\n",
       "    .dataframe tbody tr th {\n",
       "        vertical-align: top;\n",
       "    }\n",
       "\n",
       "    .dataframe thead th {\n",
       "        text-align: right;\n",
       "    }\n",
       "</style>\n",
       "<table border=\"1\" class=\"dataframe\">\n",
       "  <thead>\n",
       "    <tr style=\"text-align: right;\">\n",
       "      <th></th>\n",
       "      <th>Title</th>\n",
       "      <th>Rating</th>\n",
       "      <th>Price</th>\n",
       "    </tr>\n",
       "  </thead>\n",
       "  <tbody>\n",
       "    <tr>\n",
       "      <th>0</th>\n",
       "      <td>Lenovo IdeaPad Slim 5 AMD Ryzen 7 4700U 14 inc...</td>\n",
       "      <td>144</td>\n",
       "      <td>₹59,253</td>\n",
       "    </tr>\n",
       "    <tr>\n",
       "      <th>1</th>\n",
       "      <td>Lenovo Yoga Slim 7 Intel i5 11th Gen 14\" FHD T...</td>\n",
       "      <td>3</td>\n",
       "      <td>₹76,990</td>\n",
       "    </tr>\n",
       "    <tr>\n",
       "      <th>2</th>\n",
       "      <td>HP 15 11th Gen Intel Core i3 Processor 15.6\" (...</td>\n",
       "      <td>278</td>\n",
       "      <td>₹45,490</td>\n",
       "    </tr>\n",
       "    <tr>\n",
       "      <th>3</th>\n",
       "      <td>ASUS VivoBook 14 (2020), Intel Core i3-1005G1 ...</td>\n",
       "      <td>167</td>\n",
       "      <td>₹32,990</td>\n",
       "    </tr>\n",
       "    <tr>\n",
       "      <th>4</th>\n",
       "      <td>Lenovo Ideapad L340 Intel Core i5 9th Gen 15.6...</td>\n",
       "      <td>33</td>\n",
       "      <td>₹49,990</td>\n",
       "    </tr>\n",
       "    <tr>\n",
       "      <th>5</th>\n",
       "      <td>Lenovo IdeaPad 3 (2021) | 11th Gen Intel Core ...</td>\n",
       "      <td>42</td>\n",
       "      <td>₹57,990</td>\n",
       "    </tr>\n",
       "    <tr>\n",
       "      <th>6</th>\n",
       "      <td>Lenovo IdeaPad Slim 3 AMD Athlon Silver 3050U ...</td>\n",
       "      <td>85</td>\n",
       "      <td>₹30,500</td>\n",
       "    </tr>\n",
       "    <tr>\n",
       "      <th>7</th>\n",
       "      <td>HP 15 10th Gen Intel Core i3 Processor 15.6-in...</td>\n",
       "      <td>7</td>\n",
       "      <td>₹43,981</td>\n",
       "    </tr>\n",
       "    <tr>\n",
       "      <th>8</th>\n",
       "      <td>HP 15 11th Gen Intel Core i3 Processor 15.6\" (...</td>\n",
       "      <td>65</td>\n",
       "      <td>₹41,893</td>\n",
       "    </tr>\n",
       "    <tr>\n",
       "      <th>9</th>\n",
       "      <td>Dell Inspiron 3501 15.6\" (39.62 cms) FHD AG Di...</td>\n",
       "      <td>25</td>\n",
       "      <td>₹39,939</td>\n",
       "    </tr>\n",
       "  </tbody>\n",
       "</table>\n",
       "</div>"
      ],
      "text/plain": [
       "                                               Title Rating    Price\n",
       "0  Lenovo IdeaPad Slim 5 AMD Ryzen 7 4700U 14 inc...    144  ₹59,253\n",
       "1  Lenovo Yoga Slim 7 Intel i5 11th Gen 14\" FHD T...      3  ₹76,990\n",
       "2  HP 15 11th Gen Intel Core i3 Processor 15.6\" (...    278  ₹45,490\n",
       "3  ASUS VivoBook 14 (2020), Intel Core i3-1005G1 ...    167  ₹32,990\n",
       "4  Lenovo Ideapad L340 Intel Core i5 9th Gen 15.6...     33  ₹49,990\n",
       "5  Lenovo IdeaPad 3 (2021) | 11th Gen Intel Core ...     42  ₹57,990\n",
       "6  Lenovo IdeaPad Slim 3 AMD Athlon Silver 3050U ...     85  ₹30,500\n",
       "7  HP 15 10th Gen Intel Core i3 Processor 15.6-in...      7  ₹43,981\n",
       "8  HP 15 11th Gen Intel Core i3 Processor 15.6\" (...     65  ₹41,893\n",
       "9  Dell Inspiron 3501 15.6\" (39.62 cms) FHD AG Di...     25  ₹39,939"
      ]
     },
     "execution_count": 124,
     "metadata": {},
     "output_type": "execute_result"
    }
   ],
   "source": [
    "#Dataframe Q10\n",
    "product=pd.DataFrame()\n",
    "product[\"Title\"]=title[0:10]\n",
    "product[\"Rating\"]=rating[0:10]\n",
    "product[\"Price\"]=amt[0:10]\n",
    "product"
   ]
  }
 ],
 "metadata": {
  "kernelspec": {
   "display_name": "Python 3",
   "language": "python",
   "name": "python3"
  },
  "language_info": {
   "codemirror_mode": {
    "name": "ipython",
    "version": 3
   },
   "file_extension": ".py",
   "mimetype": "text/x-python",
   "name": "python",
   "nbconvert_exporter": "python",
   "pygments_lexer": "ipython3",
   "version": "3.8.5"
  }
 },
 "nbformat": 4,
 "nbformat_minor": 4
}
